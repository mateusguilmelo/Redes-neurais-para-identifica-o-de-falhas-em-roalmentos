{
 "cells": [
  {
   "cell_type": "markdown",
   "metadata": {},
   "source": [
    "# Desenvolvimento de aplicação de inteligência artificiacial para a operação e manutenção de aerogeradores - simulação"
   ]
  },
  {
   "cell_type": "markdown",
   "metadata": {},
   "source": [
    "Esse notebook apresenta a fase de simulação do modelo de proposto por Schleichtingen e Santos (2011) para a previsão de falhas em rolamentos. Essa simulação irá acontecer em 3 fases: \n",
    "(1) A primeira fase consiste no pré-processamento dos dados, de forma a torná-los adequados para servirem de input na rede neural;\n",
    "(2) A segunda é de estruturação e treinamento da rede neural, além da definição dos limites para a identificação da falha;\n",
    "(3) A ultima fase é a fase de teste e validação, para identificar se o método é relamente capaz de identificar falhas com antencedência."
   ]
  },
  {
   "cell_type": "markdown",
   "metadata": {},
   "source": [
    "## 1. Inicialização e pré-processamento do banco de dados"
   ]
  },
  {
   "cell_type": "code",
   "execution_count": 2,
   "metadata": {},
   "outputs": [
    {
     "name": "stderr",
     "output_type": "stream",
     "text": [
      "Using TensorFlow backend.\n"
     ]
    }
   ],
   "source": [
    "%matplotlib inline\n",
    "import matplotlib.pyplot as plt\n",
    "import seaborn as sb\n",
    "import tensorflow as tf\n",
    "import keras as kr\n",
    "import numpy as np\n",
    "import pandas as pd\n",
    "\n",
    "from mpl_toolkits import mplot3d\n",
    "from sklearn.metrics import confusion_matrix\n",
    "from sklearn import preprocessing as pp"
   ]
  },
  {
   "cell_type": "code",
   "execution_count": 3,
   "metadata": {},
   "outputs": [
    {
     "data": {
      "text/plain": [
       "'1.13.1'"
      ]
     },
     "execution_count": 3,
     "metadata": {},
     "output_type": "execute_result"
    }
   ],
   "source": [
    "tf.__version__"
   ]
  },
  {
   "cell_type": "markdown",
   "metadata": {},
   "source": [
    "### 1.1 Carregamento de dados"
   ]
  },
  {
   "cell_type": "code",
   "execution_count": 4,
   "metadata": {},
   "outputs": [
    {
     "data": {
      "text/html": [
       "<div>\n",
       "<style scoped>\n",
       "    .dataframe tbody tr th:only-of-type {\n",
       "        vertical-align: middle;\n",
       "    }\n",
       "\n",
       "    .dataframe tbody tr th {\n",
       "        vertical-align: top;\n",
       "    }\n",
       "\n",
       "    .dataframe thead th {\n",
       "        text-align: right;\n",
       "    }\n",
       "</style>\n",
       "<table border=\"1\" class=\"dataframe\">\n",
       "  <thead>\n",
       "    <tr style=\"text-align: right;\">\n",
       "      <th></th>\n",
       "      <th>Date/Time</th>\n",
       "      <th>LV ActivePower (kW)</th>\n",
       "      <th>Wind Speed (m/s)</th>\n",
       "      <th>Theoretical_Power_Curve (KWh)</th>\n",
       "      <th>Wind Direction (°)</th>\n",
       "    </tr>\n",
       "  </thead>\n",
       "  <tbody>\n",
       "    <tr>\n",
       "      <th>0</th>\n",
       "      <td>01 01 2018 00:00</td>\n",
       "      <td>380.047791</td>\n",
       "      <td>5.311336</td>\n",
       "      <td>416.328908</td>\n",
       "      <td>259.994904</td>\n",
       "    </tr>\n",
       "    <tr>\n",
       "      <th>1</th>\n",
       "      <td>01 01 2018 00:10</td>\n",
       "      <td>453.769196</td>\n",
       "      <td>5.672167</td>\n",
       "      <td>519.917511</td>\n",
       "      <td>268.641113</td>\n",
       "    </tr>\n",
       "    <tr>\n",
       "      <th>2</th>\n",
       "      <td>01 01 2018 00:20</td>\n",
       "      <td>306.376587</td>\n",
       "      <td>5.216037</td>\n",
       "      <td>390.900016</td>\n",
       "      <td>272.564789</td>\n",
       "    </tr>\n",
       "    <tr>\n",
       "      <th>3</th>\n",
       "      <td>01 01 2018 00:30</td>\n",
       "      <td>419.645905</td>\n",
       "      <td>5.659674</td>\n",
       "      <td>516.127569</td>\n",
       "      <td>271.258087</td>\n",
       "    </tr>\n",
       "    <tr>\n",
       "      <th>4</th>\n",
       "      <td>01 01 2018 00:40</td>\n",
       "      <td>380.650696</td>\n",
       "      <td>5.577941</td>\n",
       "      <td>491.702972</td>\n",
       "      <td>265.674286</td>\n",
       "    </tr>\n",
       "  </tbody>\n",
       "</table>\n",
       "</div>"
      ],
      "text/plain": [
       "          Date/Time  LV ActivePower (kW)  Wind Speed (m/s)  \\\n",
       "0  01 01 2018 00:00           380.047791          5.311336   \n",
       "1  01 01 2018 00:10           453.769196          5.672167   \n",
       "2  01 01 2018 00:20           306.376587          5.216037   \n",
       "3  01 01 2018 00:30           419.645905          5.659674   \n",
       "4  01 01 2018 00:40           380.650696          5.577941   \n",
       "\n",
       "   Theoretical_Power_Curve (KWh)  Wind Direction (°)  \n",
       "0                     416.328908          259.994904  \n",
       "1                     519.917511          268.641113  \n",
       "2                     390.900016          272.564789  \n",
       "3                     516.127569          271.258087  \n",
       "4                     491.702972          265.674286  "
      ]
     },
     "execution_count": 4,
     "metadata": {},
     "output_type": "execute_result"
    }
   ],
   "source": [
    "df = pd.read_csv('T1.csv')\n",
    "df.head()"
   ]
  },
  {
   "cell_type": "code",
   "execution_count": 5,
   "metadata": {},
   "outputs": [
    {
     "name": "stdout",
     "output_type": "stream",
     "text": [
      "<class 'pandas.core.frame.DataFrame'>\n",
      "RangeIndex: 50530 entries, 0 to 50529\n",
      "Data columns (total 5 columns):\n",
      "Date/Time                        50530 non-null object\n",
      "LV ActivePower (kW)              50530 non-null float64\n",
      "Wind Speed (m/s)                 50530 non-null float64\n",
      "Theoretical_Power_Curve (KWh)    50530 non-null float64\n",
      "Wind Direction (°)               50530 non-null float64\n",
      "dtypes: float64(4), object(1)\n",
      "memory usage: 1.9+ MB\n"
     ]
    }
   ],
   "source": [
    "df.info()"
   ]
  },
  {
   "cell_type": "code",
   "execution_count": 6,
   "metadata": {},
   "outputs": [
    {
     "name": "stdout",
     "output_type": "stream",
     "text": [
      "<class 'pandas.core.frame.DataFrame'>\n",
      "RangeIndex: 50530 entries, 0 to 50529\n",
      "Data columns (total 5 columns):\n",
      "Date/Time                        50530 non-null datetime64[ns]\n",
      "LV ActivePower (kW)              50530 non-null float64\n",
      "Wind Speed (m/s)                 50530 non-null float64\n",
      "Theoretical_Power_Curve (KWh)    50530 non-null float64\n",
      "Wind Direction (°)               50530 non-null float64\n",
      "dtypes: datetime64[ns](1), float64(4)\n",
      "memory usage: 1.9 MB\n"
     ]
    }
   ],
   "source": [
    "df['Date/Time'] = pd.to_datetime(df['Date/Time'])\n",
    "df.info()"
   ]
  },
  {
   "cell_type": "code",
   "execution_count": 7,
   "metadata": {},
   "outputs": [
    {
     "data": {
      "text/html": [
       "<div>\n",
       "<style scoped>\n",
       "    .dataframe tbody tr th:only-of-type {\n",
       "        vertical-align: middle;\n",
       "    }\n",
       "\n",
       "    .dataframe tbody tr th {\n",
       "        vertical-align: top;\n",
       "    }\n",
       "\n",
       "    .dataframe thead th {\n",
       "        text-align: right;\n",
       "    }\n",
       "</style>\n",
       "<table border=\"1\" class=\"dataframe\">\n",
       "  <thead>\n",
       "    <tr style=\"text-align: right;\">\n",
       "      <th></th>\n",
       "      <th>Date/Time</th>\n",
       "      <th>LV ActivePower (kW)</th>\n",
       "      <th>Wind Speed (m/s)</th>\n",
       "      <th>Theoretical_Power_Curve (KWh)</th>\n",
       "      <th>Wind Direction (°)</th>\n",
       "    </tr>\n",
       "  </thead>\n",
       "  <tbody>\n",
       "    <tr>\n",
       "      <th>0</th>\n",
       "      <td>2018-01-01 00:00:00</td>\n",
       "      <td>380.047791</td>\n",
       "      <td>5.311336</td>\n",
       "      <td>416.328908</td>\n",
       "      <td>259.994904</td>\n",
       "    </tr>\n",
       "    <tr>\n",
       "      <th>1</th>\n",
       "      <td>2018-01-01 00:10:00</td>\n",
       "      <td>453.769196</td>\n",
       "      <td>5.672167</td>\n",
       "      <td>519.917511</td>\n",
       "      <td>268.641113</td>\n",
       "    </tr>\n",
       "    <tr>\n",
       "      <th>2</th>\n",
       "      <td>2018-01-01 00:20:00</td>\n",
       "      <td>306.376587</td>\n",
       "      <td>5.216037</td>\n",
       "      <td>390.900016</td>\n",
       "      <td>272.564789</td>\n",
       "    </tr>\n",
       "    <tr>\n",
       "      <th>3</th>\n",
       "      <td>2018-01-01 00:30:00</td>\n",
       "      <td>419.645905</td>\n",
       "      <td>5.659674</td>\n",
       "      <td>516.127569</td>\n",
       "      <td>271.258087</td>\n",
       "    </tr>\n",
       "    <tr>\n",
       "      <th>4</th>\n",
       "      <td>2018-01-01 00:40:00</td>\n",
       "      <td>380.650696</td>\n",
       "      <td>5.577941</td>\n",
       "      <td>491.702972</td>\n",
       "      <td>265.674286</td>\n",
       "    </tr>\n",
       "  </tbody>\n",
       "</table>\n",
       "</div>"
      ],
      "text/plain": [
       "            Date/Time  LV ActivePower (kW)  Wind Speed (m/s)  \\\n",
       "0 2018-01-01 00:00:00           380.047791          5.311336   \n",
       "1 2018-01-01 00:10:00           453.769196          5.672167   \n",
       "2 2018-01-01 00:20:00           306.376587          5.216037   \n",
       "3 2018-01-01 00:30:00           419.645905          5.659674   \n",
       "4 2018-01-01 00:40:00           380.650696          5.577941   \n",
       "\n",
       "   Theoretical_Power_Curve (KWh)  Wind Direction (°)  \n",
       "0                     416.328908          259.994904  \n",
       "1                     519.917511          268.641113  \n",
       "2                     390.900016          272.564789  \n",
       "3                     516.127569          271.258087  \n",
       "4                     491.702972          265.674286  "
      ]
     },
     "execution_count": 7,
     "metadata": {},
     "output_type": "execute_result"
    }
   ],
   "source": [
    "df.head()"
   ]
  },
  {
   "cell_type": "code",
   "execution_count": 8,
   "metadata": {},
   "outputs": [
    {
     "data": {
      "text/html": [
       "<div>\n",
       "<style scoped>\n",
       "    .dataframe tbody tr th:only-of-type {\n",
       "        vertical-align: middle;\n",
       "    }\n",
       "\n",
       "    .dataframe tbody tr th {\n",
       "        vertical-align: top;\n",
       "    }\n",
       "\n",
       "    .dataframe thead th {\n",
       "        text-align: right;\n",
       "    }\n",
       "</style>\n",
       "<table border=\"1\" class=\"dataframe\">\n",
       "  <thead>\n",
       "    <tr style=\"text-align: right;\">\n",
       "      <th></th>\n",
       "      <th>Date/Time</th>\n",
       "      <th>LV ActivePower (kW)</th>\n",
       "      <th>Wind Speed (m/s)</th>\n",
       "      <th>Wind Direction (°)</th>\n",
       "    </tr>\n",
       "  </thead>\n",
       "  <tbody>\n",
       "    <tr>\n",
       "      <th>0</th>\n",
       "      <td>2018-01-01 00:00:00</td>\n",
       "      <td>380.047791</td>\n",
       "      <td>5.311336</td>\n",
       "      <td>259.994904</td>\n",
       "    </tr>\n",
       "    <tr>\n",
       "      <th>1</th>\n",
       "      <td>2018-01-01 00:10:00</td>\n",
       "      <td>453.769196</td>\n",
       "      <td>5.672167</td>\n",
       "      <td>268.641113</td>\n",
       "    </tr>\n",
       "    <tr>\n",
       "      <th>2</th>\n",
       "      <td>2018-01-01 00:20:00</td>\n",
       "      <td>306.376587</td>\n",
       "      <td>5.216037</td>\n",
       "      <td>272.564789</td>\n",
       "    </tr>\n",
       "    <tr>\n",
       "      <th>3</th>\n",
       "      <td>2018-01-01 00:30:00</td>\n",
       "      <td>419.645905</td>\n",
       "      <td>5.659674</td>\n",
       "      <td>271.258087</td>\n",
       "    </tr>\n",
       "    <tr>\n",
       "      <th>4</th>\n",
       "      <td>2018-01-01 00:40:00</td>\n",
       "      <td>380.650696</td>\n",
       "      <td>5.577941</td>\n",
       "      <td>265.674286</td>\n",
       "    </tr>\n",
       "  </tbody>\n",
       "</table>\n",
       "</div>"
      ],
      "text/plain": [
       "            Date/Time  LV ActivePower (kW)  Wind Speed (m/s)  \\\n",
       "0 2018-01-01 00:00:00           380.047791          5.311336   \n",
       "1 2018-01-01 00:10:00           453.769196          5.672167   \n",
       "2 2018-01-01 00:20:00           306.376587          5.216037   \n",
       "3 2018-01-01 00:30:00           419.645905          5.659674   \n",
       "4 2018-01-01 00:40:00           380.650696          5.577941   \n",
       "\n",
       "   Wind Direction (°)  \n",
       "0          259.994904  \n",
       "1          268.641113  \n",
       "2          272.564789  \n",
       "3          271.258087  \n",
       "4          265.674286  "
      ]
     },
     "execution_count": 8,
     "metadata": {},
     "output_type": "execute_result"
    }
   ],
   "source": [
    "del df[\"Theoretical_Power_Curve (KWh)\"]\n",
    "df.head()"
   ]
  },
  {
   "cell_type": "markdown",
   "metadata": {},
   "source": [
    "### 1.2 Removendo NaN"
   ]
  },
  {
   "cell_type": "code",
   "execution_count": 9,
   "metadata": {},
   "outputs": [
    {
     "data": {
      "text/html": [
       "<div>\n",
       "<style scoped>\n",
       "    .dataframe tbody tr th:only-of-type {\n",
       "        vertical-align: middle;\n",
       "    }\n",
       "\n",
       "    .dataframe tbody tr th {\n",
       "        vertical-align: top;\n",
       "    }\n",
       "\n",
       "    .dataframe thead th {\n",
       "        text-align: right;\n",
       "    }\n",
       "</style>\n",
       "<table border=\"1\" class=\"dataframe\">\n",
       "  <thead>\n",
       "    <tr style=\"text-align: right;\">\n",
       "      <th></th>\n",
       "      <th>Date/Time</th>\n",
       "      <th>LV ActivePower (kW)</th>\n",
       "      <th>Wind Speed (m/s)</th>\n",
       "      <th>Wind Direction (°)</th>\n",
       "    </tr>\n",
       "  </thead>\n",
       "  <tbody>\n",
       "    <tr>\n",
       "      <th>0</th>\n",
       "      <td>2018-01-01 00:00:00</td>\n",
       "      <td>380.047791</td>\n",
       "      <td>5.311336</td>\n",
       "      <td>259.994904</td>\n",
       "    </tr>\n",
       "    <tr>\n",
       "      <th>1</th>\n",
       "      <td>2018-01-01 00:10:00</td>\n",
       "      <td>453.769196</td>\n",
       "      <td>5.672167</td>\n",
       "      <td>268.641113</td>\n",
       "    </tr>\n",
       "    <tr>\n",
       "      <th>2</th>\n",
       "      <td>2018-01-01 00:20:00</td>\n",
       "      <td>306.376587</td>\n",
       "      <td>5.216037</td>\n",
       "      <td>272.564789</td>\n",
       "    </tr>\n",
       "    <tr>\n",
       "      <th>3</th>\n",
       "      <td>2018-01-01 00:30:00</td>\n",
       "      <td>419.645905</td>\n",
       "      <td>5.659674</td>\n",
       "      <td>271.258087</td>\n",
       "    </tr>\n",
       "    <tr>\n",
       "      <th>4</th>\n",
       "      <td>2018-01-01 00:40:00</td>\n",
       "      <td>380.650696</td>\n",
       "      <td>5.577941</td>\n",
       "      <td>265.674286</td>\n",
       "    </tr>\n",
       "  </tbody>\n",
       "</table>\n",
       "</div>"
      ],
      "text/plain": [
       "            Date/Time  LV ActivePower (kW)  Wind Speed (m/s)  \\\n",
       "0 2018-01-01 00:00:00           380.047791          5.311336   \n",
       "1 2018-01-01 00:10:00           453.769196          5.672167   \n",
       "2 2018-01-01 00:20:00           306.376587          5.216037   \n",
       "3 2018-01-01 00:30:00           419.645905          5.659674   \n",
       "4 2018-01-01 00:40:00           380.650696          5.577941   \n",
       "\n",
       "   Wind Direction (°)  \n",
       "0          259.994904  \n",
       "1          268.641113  \n",
       "2          272.564789  \n",
       "3          271.258087  \n",
       "4          265.674286  "
      ]
     },
     "execution_count": 9,
     "metadata": {},
     "output_type": "execute_result"
    }
   ],
   "source": [
    "df.dropna(axis = 0, how='any')\n",
    "df.head()"
   ]
  },
  {
   "cell_type": "markdown",
   "metadata": {},
   "source": [
    "### 1.3 Removendo valores duplicados"
   ]
  },
  {
   "cell_type": "code",
   "execution_count": 10,
   "metadata": {},
   "outputs": [
    {
     "data": {
      "text/plain": [
       "0"
      ]
     },
     "execution_count": 10,
     "metadata": {},
     "output_type": "execute_result"
    }
   ],
   "source": [
    "sum(df.duplicated())"
   ]
  },
  {
   "cell_type": "code",
   "execution_count": 11,
   "metadata": {},
   "outputs": [
    {
     "data": {
      "text/html": [
       "<div>\n",
       "<style scoped>\n",
       "    .dataframe tbody tr th:only-of-type {\n",
       "        vertical-align: middle;\n",
       "    }\n",
       "\n",
       "    .dataframe tbody tr th {\n",
       "        vertical-align: top;\n",
       "    }\n",
       "\n",
       "    .dataframe thead th {\n",
       "        text-align: right;\n",
       "    }\n",
       "</style>\n",
       "<table border=\"1\" class=\"dataframe\">\n",
       "  <thead>\n",
       "    <tr style=\"text-align: right;\">\n",
       "      <th></th>\n",
       "      <th>Date/Time</th>\n",
       "      <th>LV ActivePower (kW)</th>\n",
       "      <th>Wind Speed (m/s)</th>\n",
       "      <th>Wind Direction (°)</th>\n",
       "    </tr>\n",
       "  </thead>\n",
       "  <tbody>\n",
       "    <tr>\n",
       "      <th>0</th>\n",
       "      <td>2018-01-01 00:00:00</td>\n",
       "      <td>380.047791</td>\n",
       "      <td>5.311336</td>\n",
       "      <td>259.994904</td>\n",
       "    </tr>\n",
       "    <tr>\n",
       "      <th>1</th>\n",
       "      <td>2018-01-01 00:10:00</td>\n",
       "      <td>453.769196</td>\n",
       "      <td>5.672167</td>\n",
       "      <td>268.641113</td>\n",
       "    </tr>\n",
       "    <tr>\n",
       "      <th>2</th>\n",
       "      <td>2018-01-01 00:20:00</td>\n",
       "      <td>306.376587</td>\n",
       "      <td>5.216037</td>\n",
       "      <td>272.564789</td>\n",
       "    </tr>\n",
       "    <tr>\n",
       "      <th>3</th>\n",
       "      <td>2018-01-01 00:30:00</td>\n",
       "      <td>419.645905</td>\n",
       "      <td>5.659674</td>\n",
       "      <td>271.258087</td>\n",
       "    </tr>\n",
       "    <tr>\n",
       "      <th>4</th>\n",
       "      <td>2018-01-01 00:40:00</td>\n",
       "      <td>380.650696</td>\n",
       "      <td>5.577941</td>\n",
       "      <td>265.674286</td>\n",
       "    </tr>\n",
       "  </tbody>\n",
       "</table>\n",
       "</div>"
      ],
      "text/plain": [
       "            Date/Time  LV ActivePower (kW)  Wind Speed (m/s)  \\\n",
       "0 2018-01-01 00:00:00           380.047791          5.311336   \n",
       "1 2018-01-01 00:10:00           453.769196          5.672167   \n",
       "2 2018-01-01 00:20:00           306.376587          5.216037   \n",
       "3 2018-01-01 00:30:00           419.645905          5.659674   \n",
       "4 2018-01-01 00:40:00           380.650696          5.577941   \n",
       "\n",
       "   Wind Direction (°)  \n",
       "0          259.994904  \n",
       "1          268.641113  \n",
       "2          272.564789  \n",
       "3          271.258087  \n",
       "4          265.674286  "
      ]
     },
     "execution_count": 11,
     "metadata": {},
     "output_type": "execute_result"
    }
   ],
   "source": [
    "df.drop_duplicates(inplace=True)\n",
    "df.head()"
   ]
  },
  {
   "cell_type": "markdown",
   "metadata": {},
   "source": [
    "### 1.4 Removendo outliers"
   ]
  },
  {
   "cell_type": "code",
   "execution_count": 12,
   "metadata": {},
   "outputs": [
    {
     "data": {
      "text/html": [
       "<div>\n",
       "<style scoped>\n",
       "    .dataframe tbody tr th:only-of-type {\n",
       "        vertical-align: middle;\n",
       "    }\n",
       "\n",
       "    .dataframe tbody tr th {\n",
       "        vertical-align: top;\n",
       "    }\n",
       "\n",
       "    .dataframe thead th {\n",
       "        text-align: right;\n",
       "    }\n",
       "</style>\n",
       "<table border=\"1\" class=\"dataframe\">\n",
       "  <thead>\n",
       "    <tr style=\"text-align: right;\">\n",
       "      <th></th>\n",
       "      <th>LV ActivePower (kW)</th>\n",
       "      <th>Wind Speed (m/s)</th>\n",
       "      <th>Wind Direction (°)</th>\n",
       "    </tr>\n",
       "  </thead>\n",
       "  <tbody>\n",
       "    <tr>\n",
       "      <th>count</th>\n",
       "      <td>50530.000000</td>\n",
       "      <td>50530.000000</td>\n",
       "      <td>50530.000000</td>\n",
       "    </tr>\n",
       "    <tr>\n",
       "      <th>mean</th>\n",
       "      <td>1307.684332</td>\n",
       "      <td>7.557952</td>\n",
       "      <td>123.687559</td>\n",
       "    </tr>\n",
       "    <tr>\n",
       "      <th>std</th>\n",
       "      <td>1312.459242</td>\n",
       "      <td>4.227166</td>\n",
       "      <td>93.443736</td>\n",
       "    </tr>\n",
       "    <tr>\n",
       "      <th>min</th>\n",
       "      <td>-2.471405</td>\n",
       "      <td>0.000000</td>\n",
       "      <td>0.000000</td>\n",
       "    </tr>\n",
       "    <tr>\n",
       "      <th>25%</th>\n",
       "      <td>50.677890</td>\n",
       "      <td>4.201395</td>\n",
       "      <td>49.315437</td>\n",
       "    </tr>\n",
       "    <tr>\n",
       "      <th>50%</th>\n",
       "      <td>825.838074</td>\n",
       "      <td>7.104594</td>\n",
       "      <td>73.712978</td>\n",
       "    </tr>\n",
       "    <tr>\n",
       "      <th>75%</th>\n",
       "      <td>2482.507568</td>\n",
       "      <td>10.300020</td>\n",
       "      <td>201.696720</td>\n",
       "    </tr>\n",
       "    <tr>\n",
       "      <th>max</th>\n",
       "      <td>3618.732910</td>\n",
       "      <td>25.206011</td>\n",
       "      <td>359.997589</td>\n",
       "    </tr>\n",
       "  </tbody>\n",
       "</table>\n",
       "</div>"
      ],
      "text/plain": [
       "       LV ActivePower (kW)  Wind Speed (m/s)  Wind Direction (°)\n",
       "count         50530.000000      50530.000000        50530.000000\n",
       "mean           1307.684332          7.557952          123.687559\n",
       "std            1312.459242          4.227166           93.443736\n",
       "min              -2.471405          0.000000            0.000000\n",
       "25%              50.677890          4.201395           49.315437\n",
       "50%             825.838074          7.104594           73.712978\n",
       "75%            2482.507568         10.300020          201.696720\n",
       "max            3618.732910         25.206011          359.997589"
      ]
     },
     "execution_count": 12,
     "metadata": {},
     "output_type": "execute_result"
    }
   ],
   "source": [
    "df.describe()"
   ]
  },
  {
   "cell_type": "code",
   "execution_count": 13,
   "metadata": {},
   "outputs": [
    {
     "data": {
      "text/plain": [
       "<matplotlib.axes._subplots.AxesSubplot at 0x23389255240>"
      ]
     },
     "execution_count": 13,
     "metadata": {},
     "output_type": "execute_result"
    },
    {
     "data": {
      "image/png": "[encoded data removed]",
      "text/plain": [
       "<Figure size 432x288 with 1 Axes>"
      ]
     },
     "metadata": {
      "needs_background": "light"
     },
     "output_type": "display_data"
    }
   ],
   "source": [
    "sb.boxplot(data = df, y = 'LV ActivePower (kW)')"
   ]
  },
  {
   "cell_type": "code",
   "execution_count": 14,
   "metadata": {},
   "outputs": [
    {
     "data": {
      "text/plain": [
       "<matplotlib.axes._subplots.AxesSubplot at 0x23389541c88>"
      ]
     },
     "execution_count": 14,
     "metadata": {},
     "output_type": "execute_result"
    },
    {
     "data": {
      "image/png": "[encoded data removed]",
      "text/plain": [
       "<Figure size 432x288 with 1 Axes>"
      ]
     },
     "metadata": {
      "needs_background": "light"
     },
     "output_type": "display_data"
    }
   ],
   "source": [
    "sb.boxplot(data = df, y = 'Wind Speed (m/s)')"
   ]
  },
  {
   "cell_type": "code",
   "execution_count": 15,
   "metadata": {},
   "outputs": [
    {
     "data": {
      "text/plain": [
       "<matplotlib.axes._subplots.AxesSubplot at 0x233895adb38>"
      ]
     },
     "execution_count": 15,
     "metadata": {},
     "output_type": "execute_result"
    },
    {
     "data": {
      "image/png": "[encoded data removed]",
      "text/plain": [
       "<Figure size 432x288 with 1 Axes>"
      ]
     },
     "metadata": {
      "needs_background": "light"
     },
     "output_type": "display_data"
    }
   ],
   "source": [
    "sb.boxplot(data = df, y = 'Wind Direction (°)')"
   ]
  },
  {
   "cell_type": "markdown",
   "metadata": {},
   "source": [
    "Eliminando números menores que zero"
   ]
  },
  {
   "cell_type": "code",
   "execution_count": 16,
   "metadata": {},
   "outputs": [
    {
     "data": {
      "text/html": [
       "<div>\n",
       "<style scoped>\n",
       "    .dataframe tbody tr th:only-of-type {\n",
       "        vertical-align: middle;\n",
       "    }\n",
       "\n",
       "    .dataframe tbody tr th {\n",
       "        vertical-align: top;\n",
       "    }\n",
       "\n",
       "    .dataframe thead th {\n",
       "        text-align: right;\n",
       "    }\n",
       "</style>\n",
       "<table border=\"1\" class=\"dataframe\">\n",
       "  <thead>\n",
       "    <tr style=\"text-align: right;\">\n",
       "      <th></th>\n",
       "      <th>LV ActivePower (kW)</th>\n",
       "      <th>Wind Speed (m/s)</th>\n",
       "      <th>Wind Direction (°)</th>\n",
       "    </tr>\n",
       "  </thead>\n",
       "  <tbody>\n",
       "    <tr>\n",
       "      <th>count</th>\n",
       "      <td>39690.000000</td>\n",
       "      <td>39690.000000</td>\n",
       "      <td>39690.000000</td>\n",
       "    </tr>\n",
       "    <tr>\n",
       "      <th>mean</th>\n",
       "      <td>1664.832940</td>\n",
       "      <td>8.769919</td>\n",
       "      <td>115.538096</td>\n",
       "    </tr>\n",
       "    <tr>\n",
       "      <th>std</th>\n",
       "      <td>1264.283374</td>\n",
       "      <td>3.773626</td>\n",
       "      <td>86.275122</td>\n",
       "    </tr>\n",
       "    <tr>\n",
       "      <th>min</th>\n",
       "      <td>0.000200</td>\n",
       "      <td>1.208934</td>\n",
       "      <td>0.015678</td>\n",
       "    </tr>\n",
       "    <tr>\n",
       "      <th>25%</th>\n",
       "      <td>481.716141</td>\n",
       "      <td>5.911983</td>\n",
       "      <td>49.043281</td>\n",
       "    </tr>\n",
       "    <tr>\n",
       "      <th>50%</th>\n",
       "      <td>1394.217957</td>\n",
       "      <td>8.114672</td>\n",
       "      <td>70.242912</td>\n",
       "    </tr>\n",
       "    <tr>\n",
       "      <th>75%</th>\n",
       "      <td>2908.383301</td>\n",
       "      <td>11.099932</td>\n",
       "      <td>197.156948</td>\n",
       "    </tr>\n",
       "    <tr>\n",
       "      <th>max</th>\n",
       "      <td>3618.732910</td>\n",
       "      <td>25.206011</td>\n",
       "      <td>359.997589</td>\n",
       "    </tr>\n",
       "  </tbody>\n",
       "</table>\n",
       "</div>"
      ],
      "text/plain": [
       "       LV ActivePower (kW)  Wind Speed (m/s)  Wind Direction (°)\n",
       "count         39690.000000      39690.000000        39690.000000\n",
       "mean           1664.832940          8.769919          115.538096\n",
       "std            1264.283374          3.773626           86.275122\n",
       "min               0.000200          1.208934            0.015678\n",
       "25%             481.716141          5.911983           49.043281\n",
       "50%            1394.217957          8.114672           70.242912\n",
       "75%            2908.383301         11.099932          197.156948\n",
       "max            3618.732910         25.206011          359.997589"
      ]
     },
     "execution_count": 16,
     "metadata": {},
     "output_type": "execute_result"
    }
   ],
   "source": [
    "for cols in df.columns.tolist()[1:]:\n",
    "    df = df.loc[df[cols] > 0]\n",
    "    \n",
    "df.describe()"
   ]
  },
  {
   "cell_type": "markdown",
   "metadata": {},
   "source": [
    "Usando a relação: $$Q3 + 1.5*AIQ < Outlier < Q1 - 1.5*AIQ$$\n",
    "aonde AIQ significa amplitude interquartil"
   ]
  },
  {
   "cell_type": "code",
   "execution_count": 17,
   "metadata": {},
   "outputs": [
    {
     "data": {
      "text/html": [
       "<div>\n",
       "<style scoped>\n",
       "    .dataframe tbody tr th:only-of-type {\n",
       "        vertical-align: middle;\n",
       "    }\n",
       "\n",
       "    .dataframe tbody tr th {\n",
       "        vertical-align: top;\n",
       "    }\n",
       "\n",
       "    .dataframe thead th {\n",
       "        text-align: right;\n",
       "    }\n",
       "</style>\n",
       "<table border=\"1\" class=\"dataframe\">\n",
       "  <thead>\n",
       "    <tr style=\"text-align: right;\">\n",
       "      <th></th>\n",
       "      <th>LV ActivePower (kW)</th>\n",
       "      <th>Wind Speed (m/s)</th>\n",
       "      <th>Wind Direction (°)</th>\n",
       "    </tr>\n",
       "  </thead>\n",
       "  <tbody>\n",
       "    <tr>\n",
       "      <th>count</th>\n",
       "      <td>39690.000000</td>\n",
       "      <td>39690.000000</td>\n",
       "      <td>39690.000000</td>\n",
       "    </tr>\n",
       "    <tr>\n",
       "      <th>mean</th>\n",
       "      <td>1664.832940</td>\n",
       "      <td>8.769919</td>\n",
       "      <td>115.538096</td>\n",
       "    </tr>\n",
       "    <tr>\n",
       "      <th>std</th>\n",
       "      <td>1264.283374</td>\n",
       "      <td>3.773626</td>\n",
       "      <td>86.275122</td>\n",
       "    </tr>\n",
       "    <tr>\n",
       "      <th>min</th>\n",
       "      <td>0.000200</td>\n",
       "      <td>1.208934</td>\n",
       "      <td>0.015678</td>\n",
       "    </tr>\n",
       "    <tr>\n",
       "      <th>25%</th>\n",
       "      <td>481.716141</td>\n",
       "      <td>5.911983</td>\n",
       "      <td>49.043281</td>\n",
       "    </tr>\n",
       "    <tr>\n",
       "      <th>50%</th>\n",
       "      <td>1394.217957</td>\n",
       "      <td>8.114672</td>\n",
       "      <td>70.242912</td>\n",
       "    </tr>\n",
       "    <tr>\n",
       "      <th>75%</th>\n",
       "      <td>2908.383301</td>\n",
       "      <td>11.099932</td>\n",
       "      <td>197.156948</td>\n",
       "    </tr>\n",
       "    <tr>\n",
       "      <th>max</th>\n",
       "      <td>3618.732910</td>\n",
       "      <td>25.206011</td>\n",
       "      <td>359.997589</td>\n",
       "    </tr>\n",
       "  </tbody>\n",
       "</table>\n",
       "</div>"
      ],
      "text/plain": [
       "       LV ActivePower (kW)  Wind Speed (m/s)  Wind Direction (°)\n",
       "count         39690.000000      39690.000000        39690.000000\n",
       "mean           1664.832940          8.769919          115.538096\n",
       "std            1264.283374          3.773626           86.275122\n",
       "min               0.000200          1.208934            0.015678\n",
       "25%             481.716141          5.911983           49.043281\n",
       "50%            1394.217957          8.114672           70.242912\n",
       "75%            2908.383301         11.099932          197.156948\n",
       "max            3618.732910         25.206011          359.997589"
      ]
     },
     "execution_count": 17,
     "metadata": {},
     "output_type": "execute_result"
    }
   ],
   "source": [
    "# LV ActivePower (Kw)\n",
    "\n",
    "AP_Q1 = df['LV ActivePower (kW)'].quantile(0.25)\n",
    "AP_Q3 = df['LV ActivePower (kW)'].quantile(0.75)\n",
    "AP_IQR = AP_Q3 - AP_Q1\n",
    "df = df.loc[df['LV ActivePower (kW)'] > (AP_Q1 - 1.5*AP_IQR)]\n",
    "df = df.loc[df['LV ActivePower (kW)'] < (AP_Q3 + 1.5*AP_IQR)] \n",
    "\n",
    "df.describe()"
   ]
  },
  {
   "cell_type": "code",
   "execution_count": 18,
   "metadata": {},
   "outputs": [
    {
     "data": {
      "text/plain": [
       "<matplotlib.axes._subplots.AxesSubplot at 0x23389618080>"
      ]
     },
     "execution_count": 18,
     "metadata": {},
     "output_type": "execute_result"
    },
    {
     "data": {
      "image/png": "[encoded data removed]",
      "text/plain": [
       "<Figure size 432x288 with 1 Axes>"
      ]
     },
     "metadata": {
      "needs_background": "light"
     },
     "output_type": "display_data"
    }
   ],
   "source": [
    "sb.boxplot(data = df, y = 'LV ActivePower (kW)')"
   ]
  },
  {
   "cell_type": "code",
   "execution_count": 19,
   "metadata": {},
   "outputs": [
    {
     "data": {
      "text/html": [
       "<div>\n",
       "<style scoped>\n",
       "    .dataframe tbody tr th:only-of-type {\n",
       "        vertical-align: middle;\n",
       "    }\n",
       "\n",
       "    .dataframe tbody tr th {\n",
       "        vertical-align: top;\n",
       "    }\n",
       "\n",
       "    .dataframe thead th {\n",
       "        text-align: right;\n",
       "    }\n",
       "</style>\n",
       "<table border=\"1\" class=\"dataframe\">\n",
       "  <thead>\n",
       "    <tr style=\"text-align: right;\">\n",
       "      <th></th>\n",
       "      <th>LV ActivePower (kW)</th>\n",
       "      <th>Wind Speed (m/s)</th>\n",
       "      <th>Wind Direction (°)</th>\n",
       "    </tr>\n",
       "  </thead>\n",
       "  <tbody>\n",
       "    <tr>\n",
       "      <th>count</th>\n",
       "      <td>39076.000000</td>\n",
       "      <td>39076.000000</td>\n",
       "      <td>39076.000000</td>\n",
       "    </tr>\n",
       "    <tr>\n",
       "      <th>mean</th>\n",
       "      <td>1635.024724</td>\n",
       "      <td>8.590286</td>\n",
       "      <td>114.268271</td>\n",
       "    </tr>\n",
       "    <tr>\n",
       "      <th>std</th>\n",
       "      <td>1251.304296</td>\n",
       "      <td>3.515108</td>\n",
       "      <td>86.335212</td>\n",
       "    </tr>\n",
       "    <tr>\n",
       "      <th>min</th>\n",
       "      <td>0.000200</td>\n",
       "      <td>1.208934</td>\n",
       "      <td>0.015678</td>\n",
       "    </tr>\n",
       "    <tr>\n",
       "      <th>25%</th>\n",
       "      <td>471.007072</td>\n",
       "      <td>5.879802</td>\n",
       "      <td>48.589694</td>\n",
       "    </tr>\n",
       "    <tr>\n",
       "      <th>50%</th>\n",
       "      <td>1357.751038</td>\n",
       "      <td>8.039958</td>\n",
       "      <td>69.606670</td>\n",
       "    </tr>\n",
       "    <tr>\n",
       "      <th>75%</th>\n",
       "      <td>2832.098755</td>\n",
       "      <td>10.941510</td>\n",
       "      <td>196.758205</td>\n",
       "    </tr>\n",
       "    <tr>\n",
       "      <th>max</th>\n",
       "      <td>3618.732910</td>\n",
       "      <td>18.880831</td>\n",
       "      <td>359.997589</td>\n",
       "    </tr>\n",
       "  </tbody>\n",
       "</table>\n",
       "</div>"
      ],
      "text/plain": [
       "       LV ActivePower (kW)  Wind Speed (m/s)  Wind Direction (°)\n",
       "count         39076.000000      39076.000000        39076.000000\n",
       "mean           1635.024724          8.590286          114.268271\n",
       "std            1251.304296          3.515108           86.335212\n",
       "min               0.000200          1.208934            0.015678\n",
       "25%             471.007072          5.879802           48.589694\n",
       "50%            1357.751038          8.039958           69.606670\n",
       "75%            2832.098755         10.941510          196.758205\n",
       "max            3618.732910         18.880831          359.997589"
      ]
     },
     "execution_count": 19,
     "metadata": {},
     "output_type": "execute_result"
    }
   ],
   "source": [
    "# Wind Speed (m/s)\n",
    "\n",
    "WS_Q1 = df['Wind Speed (m/s)'].quantile(0.25)\n",
    "WS_Q3 = df['Wind Speed (m/s)'].quantile(0.75)\n",
    "WS_IQR = WS_Q3 - WS_Q1\n",
    "df = df.loc[df['Wind Speed (m/s)'] > (WS_Q1 - 1.5*WS_IQR)]\n",
    "df = df.loc[df['Wind Speed (m/s)'] < (WS_Q3 + 1.5*WS_IQR)]\n",
    "    \n",
    "df.describe()"
   ]
  },
  {
   "cell_type": "code",
   "execution_count": 20,
   "metadata": {},
   "outputs": [
    {
     "data": {
      "text/plain": [
       "<matplotlib.axes._subplots.AxesSubplot at 0x233894ec630>"
      ]
     },
     "execution_count": 20,
     "metadata": {},
     "output_type": "execute_result"
    },
    {
     "data": {
      "image/png": "[encoded data removed]",
      "text/plain": [
       "<Figure size 432x288 with 1 Axes>"
      ]
     },
     "metadata": {
      "needs_background": "light"
     },
     "output_type": "display_data"
    }
   ],
   "source": [
    "sb.boxplot(data = df, y = 'Wind Speed (m/s)')"
   ]
  },
  {
   "cell_type": "code",
   "execution_count": 21,
   "metadata": {},
   "outputs": [
    {
     "data": {
      "text/html": [
       "<div>\n",
       "<style scoped>\n",
       "    .dataframe tbody tr th:only-of-type {\n",
       "        vertical-align: middle;\n",
       "    }\n",
       "\n",
       "    .dataframe tbody tr th {\n",
       "        vertical-align: top;\n",
       "    }\n",
       "\n",
       "    .dataframe thead th {\n",
       "        text-align: right;\n",
       "    }\n",
       "</style>\n",
       "<table border=\"1\" class=\"dataframe\">\n",
       "  <thead>\n",
       "    <tr style=\"text-align: right;\">\n",
       "      <th></th>\n",
       "      <th>LV ActivePower (kW)</th>\n",
       "      <th>Wind Speed (m/s)</th>\n",
       "      <th>Wind Direction (°)</th>\n",
       "    </tr>\n",
       "  </thead>\n",
       "  <tbody>\n",
       "    <tr>\n",
       "      <th>count</th>\n",
       "      <td>39076.000000</td>\n",
       "      <td>39076.000000</td>\n",
       "      <td>39076.000000</td>\n",
       "    </tr>\n",
       "    <tr>\n",
       "      <th>mean</th>\n",
       "      <td>1635.024724</td>\n",
       "      <td>8.590286</td>\n",
       "      <td>114.268271</td>\n",
       "    </tr>\n",
       "    <tr>\n",
       "      <th>std</th>\n",
       "      <td>1251.304296</td>\n",
       "      <td>3.515108</td>\n",
       "      <td>86.335212</td>\n",
       "    </tr>\n",
       "    <tr>\n",
       "      <th>min</th>\n",
       "      <td>0.000200</td>\n",
       "      <td>1.208934</td>\n",
       "      <td>0.015678</td>\n",
       "    </tr>\n",
       "    <tr>\n",
       "      <th>25%</th>\n",
       "      <td>471.007072</td>\n",
       "      <td>5.879802</td>\n",
       "      <td>48.589694</td>\n",
       "    </tr>\n",
       "    <tr>\n",
       "      <th>50%</th>\n",
       "      <td>1357.751038</td>\n",
       "      <td>8.039958</td>\n",
       "      <td>69.606670</td>\n",
       "    </tr>\n",
       "    <tr>\n",
       "      <th>75%</th>\n",
       "      <td>2832.098755</td>\n",
       "      <td>10.941510</td>\n",
       "      <td>196.758205</td>\n",
       "    </tr>\n",
       "    <tr>\n",
       "      <th>max</th>\n",
       "      <td>3618.732910</td>\n",
       "      <td>18.880831</td>\n",
       "      <td>359.997589</td>\n",
       "    </tr>\n",
       "  </tbody>\n",
       "</table>\n",
       "</div>"
      ],
      "text/plain": [
       "       LV ActivePower (kW)  Wind Speed (m/s)  Wind Direction (°)\n",
       "count         39076.000000      39076.000000        39076.000000\n",
       "mean           1635.024724          8.590286          114.268271\n",
       "std            1251.304296          3.515108           86.335212\n",
       "min               0.000200          1.208934            0.015678\n",
       "25%             471.007072          5.879802           48.589694\n",
       "50%            1357.751038          8.039958           69.606670\n",
       "75%            2832.098755         10.941510          196.758205\n",
       "max            3618.732910         18.880831          359.997589"
      ]
     },
     "execution_count": 21,
     "metadata": {},
     "output_type": "execute_result"
    }
   ],
   "source": [
    "# Wind Direction (m/s)\n",
    "\n",
    "WD_Q1 = df['Wind Direction (°)'].quantile(0.25)\n",
    "WD_Q3 = df['Wind Direction (°)'].quantile(0.75)\n",
    "WD_IQR = WD_Q3 - WD_Q1\n",
    "df = df.loc[df['Wind Direction (°)'] > (WD_Q1 - 1.5*WD_IQR)]\n",
    "df = df.loc[df['Wind Direction (°)'] < (WD_Q3 + 1.5*WD_IQR)]\n",
    "    \n",
    "df.describe()"
   ]
  },
  {
   "cell_type": "code",
   "execution_count": 22,
   "metadata": {},
   "outputs": [
    {
     "data": {
      "text/plain": [
       "<matplotlib.axes._subplots.AxesSubplot at 0x2338a69bdd8>"
      ]
     },
     "execution_count": 22,
     "metadata": {},
     "output_type": "execute_result"
    },
    {
     "data": {
      "image/png": "[encoded data removed]",
      "text/plain": [
       "<Figure size 432x288 with 1 Axes>"
      ]
     },
     "metadata": {
      "needs_background": "light"
     },
     "output_type": "display_data"
    }
   ],
   "source": [
    "sb.boxplot(data = df, y = 'Wind Direction (°)')"
   ]
  },
  {
   "cell_type": "markdown",
   "metadata": {},
   "source": [
    "### 1.5 Normalização"
   ]
  },
  {
   "cell_type": "markdown",
   "metadata": {},
   "source": [
    "Normalizando de acordo com a formula:\n",
    "\n",
    "$$S = \\frac{V-Vmin}{Vmax - Vmin}$$\n"
   ]
  },
  {
   "cell_type": "code",
   "execution_count": 25,
   "metadata": {},
   "outputs": [],
   "source": [
    "dfn = df\n",
    "i = ['LV ActivePower (kW)', 'Wind Speed (m/s)', 'Wind Direction (°)']\n",
    "for j in i:\n",
    "    a = dfn[j].min()\n",
    "    b = dfn[j].max()\n",
    "    dfn[j] = (df[j]-a)/(b-a)"
   ]
  },
  {
   "cell_type": "code",
   "execution_count": 26,
   "metadata": {},
   "outputs": [
    {
     "data": {
      "text/html": [
       "<div>\n",
       "<style scoped>\n",
       "    .dataframe tbody tr th:only-of-type {\n",
       "        vertical-align: middle;\n",
       "    }\n",
       "\n",
       "    .dataframe tbody tr th {\n",
       "        vertical-align: top;\n",
       "    }\n",
       "\n",
       "    .dataframe thead th {\n",
       "        text-align: right;\n",
       "    }\n",
       "</style>\n",
       "<table border=\"1\" class=\"dataframe\">\n",
       "  <thead>\n",
       "    <tr style=\"text-align: right;\">\n",
       "      <th></th>\n",
       "      <th>Date/Time</th>\n",
       "      <th>LV ActivePower (kW)</th>\n",
       "      <th>Wind Speed (m/s)</th>\n",
       "      <th>Wind Direction (°)</th>\n",
       "    </tr>\n",
       "  </thead>\n",
       "  <tbody>\n",
       "    <tr>\n",
       "      <th>0</th>\n",
       "      <td>2018-01-01 00:00:00</td>\n",
       "      <td>0.105022</td>\n",
       "      <td>0.232143</td>\n",
       "      <td>0.722201</td>\n",
       "    </tr>\n",
       "    <tr>\n",
       "      <th>1</th>\n",
       "      <td>2018-01-01 00:10:00</td>\n",
       "      <td>0.125394</td>\n",
       "      <td>0.252561</td>\n",
       "      <td>0.746219</td>\n",
       "    </tr>\n",
       "    <tr>\n",
       "      <th>2</th>\n",
       "      <td>2018-01-01 00:20:00</td>\n",
       "      <td>0.084664</td>\n",
       "      <td>0.226750</td>\n",
       "      <td>0.757119</td>\n",
       "    </tr>\n",
       "    <tr>\n",
       "      <th>3</th>\n",
       "      <td>2018-01-01 00:30:00</td>\n",
       "      <td>0.115965</td>\n",
       "      <td>0.251854</td>\n",
       "      <td>0.753489</td>\n",
       "    </tr>\n",
       "    <tr>\n",
       "      <th>4</th>\n",
       "      <td>2018-01-01 00:40:00</td>\n",
       "      <td>0.105189</td>\n",
       "      <td>0.247229</td>\n",
       "      <td>0.737978</td>\n",
       "    </tr>\n",
       "  </tbody>\n",
       "</table>\n",
       "</div>"
      ],
      "text/plain": [
       "            Date/Time  LV ActivePower (kW)  Wind Speed (m/s)  \\\n",
       "0 2018-01-01 00:00:00             0.105022          0.232143   \n",
       "1 2018-01-01 00:10:00             0.125394          0.252561   \n",
       "2 2018-01-01 00:20:00             0.084664          0.226750   \n",
       "3 2018-01-01 00:30:00             0.115965          0.251854   \n",
       "4 2018-01-01 00:40:00             0.105189          0.247229   \n",
       "\n",
       "   Wind Direction (°)  \n",
       "0            0.722201  \n",
       "1            0.746219  \n",
       "2            0.757119  \n",
       "3            0.753489  \n",
       "4            0.737978  "
      ]
     },
     "execution_count": 26,
     "metadata": {},
     "output_type": "execute_result"
    }
   ],
   "source": [
    "dfn.head()"
   ]
  },
  {
   "cell_type": "code",
   "execution_count": 27,
   "metadata": {},
   "outputs": [
    {
     "data": {
      "text/html": [
       "<div>\n",
       "<style scoped>\n",
       "    .dataframe tbody tr th:only-of-type {\n",
       "        vertical-align: middle;\n",
       "    }\n",
       "\n",
       "    .dataframe tbody tr th {\n",
       "        vertical-align: top;\n",
       "    }\n",
       "\n",
       "    .dataframe thead th {\n",
       "        text-align: right;\n",
       "    }\n",
       "</style>\n",
       "<table border=\"1\" class=\"dataframe\">\n",
       "  <thead>\n",
       "    <tr style=\"text-align: right;\">\n",
       "      <th></th>\n",
       "      <th>LV ActivePower (kW)</th>\n",
       "      <th>Wind Speed (m/s)</th>\n",
       "      <th>Wind Direction (°)</th>\n",
       "    </tr>\n",
       "  </thead>\n",
       "  <tbody>\n",
       "    <tr>\n",
       "      <th>count</th>\n",
       "      <td>39076.000000</td>\n",
       "      <td>39076.000000</td>\n",
       "      <td>39076.000000</td>\n",
       "    </tr>\n",
       "    <tr>\n",
       "      <th>mean</th>\n",
       "      <td>0.451822</td>\n",
       "      <td>0.417689</td>\n",
       "      <td>0.317384</td>\n",
       "    </tr>\n",
       "    <tr>\n",
       "      <th>std</th>\n",
       "      <td>0.345785</td>\n",
       "      <td>0.198909</td>\n",
       "      <td>0.239832</td>\n",
       "    </tr>\n",
       "    <tr>\n",
       "      <th>min</th>\n",
       "      <td>0.000000</td>\n",
       "      <td>0.000000</td>\n",
       "      <td>0.000000</td>\n",
       "    </tr>\n",
       "    <tr>\n",
       "      <th>25%</th>\n",
       "      <td>0.130158</td>\n",
       "      <td>0.264310</td>\n",
       "      <td>0.134935</td>\n",
       "    </tr>\n",
       "    <tr>\n",
       "      <th>50%</th>\n",
       "      <td>0.375201</td>\n",
       "      <td>0.386547</td>\n",
       "      <td>0.193318</td>\n",
       "    </tr>\n",
       "    <tr>\n",
       "      <th>75%</th>\n",
       "      <td>0.782622</td>\n",
       "      <td>0.550737</td>\n",
       "      <td>0.546534</td>\n",
       "    </tr>\n",
       "    <tr>\n",
       "      <th>max</th>\n",
       "      <td>1.000000</td>\n",
       "      <td>1.000000</td>\n",
       "      <td>1.000000</td>\n",
       "    </tr>\n",
       "  </tbody>\n",
       "</table>\n",
       "</div>"
      ],
      "text/plain": [
       "       LV ActivePower (kW)  Wind Speed (m/s)  Wind Direction (°)\n",
       "count         39076.000000      39076.000000        39076.000000\n",
       "mean              0.451822          0.417689            0.317384\n",
       "std               0.345785          0.198909            0.239832\n",
       "min               0.000000          0.000000            0.000000\n",
       "25%               0.130158          0.264310            0.134935\n",
       "50%               0.375201          0.386547            0.193318\n",
       "75%               0.782622          0.550737            0.546534\n",
       "max               1.000000          1.000000            1.000000"
      ]
     },
     "execution_count": 27,
     "metadata": {},
     "output_type": "execute_result"
    }
   ],
   "source": [
    "dfn.describe()"
   ]
  },
  {
   "cell_type": "markdown",
   "metadata": {},
   "source": [
    "### 1.6 Simulação da classificação"
   ]
  },
  {
   "cell_type": "code",
   "execution_count": 28,
   "metadata": {},
   "outputs": [
    {
     "data": {
      "text/html": [
       "<div>\n",
       "<style scoped>\n",
       "    .dataframe tbody tr th:only-of-type {\n",
       "        vertical-align: middle;\n",
       "    }\n",
       "\n",
       "    .dataframe tbody tr th {\n",
       "        vertical-align: top;\n",
       "    }\n",
       "\n",
       "    .dataframe thead th {\n",
       "        text-align: right;\n",
       "    }\n",
       "</style>\n",
       "<table border=\"1\" class=\"dataframe\">\n",
       "  <thead>\n",
       "    <tr style=\"text-align: right;\">\n",
       "      <th></th>\n",
       "      <th>LV ActivePower (kW)</th>\n",
       "      <th>Wind Speed (m/s)</th>\n",
       "      <th>Wind Direction (°)</th>\n",
       "    </tr>\n",
       "  </thead>\n",
       "  <tbody>\n",
       "    <tr>\n",
       "      <th>count</th>\n",
       "      <td>39076.000000</td>\n",
       "      <td>39076.000000</td>\n",
       "      <td>39076.000000</td>\n",
       "    </tr>\n",
       "    <tr>\n",
       "      <th>mean</th>\n",
       "      <td>0.451822</td>\n",
       "      <td>0.417689</td>\n",
       "      <td>0.317384</td>\n",
       "    </tr>\n",
       "    <tr>\n",
       "      <th>std</th>\n",
       "      <td>0.345785</td>\n",
       "      <td>0.198909</td>\n",
       "      <td>0.239832</td>\n",
       "    </tr>\n",
       "    <tr>\n",
       "      <th>min</th>\n",
       "      <td>0.000000</td>\n",
       "      <td>0.000000</td>\n",
       "      <td>0.000000</td>\n",
       "    </tr>\n",
       "    <tr>\n",
       "      <th>25%</th>\n",
       "      <td>0.130158</td>\n",
       "      <td>0.264310</td>\n",
       "      <td>0.134935</td>\n",
       "    </tr>\n",
       "    <tr>\n",
       "      <th>50%</th>\n",
       "      <td>0.375201</td>\n",
       "      <td>0.386547</td>\n",
       "      <td>0.193318</td>\n",
       "    </tr>\n",
       "    <tr>\n",
       "      <th>75%</th>\n",
       "      <td>0.782622</td>\n",
       "      <td>0.550737</td>\n",
       "      <td>0.546534</td>\n",
       "    </tr>\n",
       "    <tr>\n",
       "      <th>max</th>\n",
       "      <td>1.000000</td>\n",
       "      <td>1.000000</td>\n",
       "      <td>1.000000</td>\n",
       "    </tr>\n",
       "  </tbody>\n",
       "</table>\n",
       "</div>"
      ],
      "text/plain": [
       "       LV ActivePower (kW)  Wind Speed (m/s)  Wind Direction (°)\n",
       "count         39076.000000      39076.000000        39076.000000\n",
       "mean              0.451822          0.417689            0.317384\n",
       "std               0.345785          0.198909            0.239832\n",
       "min               0.000000          0.000000            0.000000\n",
       "25%               0.130158          0.264310            0.134935\n",
       "50%               0.375201          0.386547            0.193318\n",
       "75%               0.782622          0.550737            0.546534\n",
       "max               1.000000          1.000000            1.000000"
      ]
     },
     "execution_count": 28,
     "metadata": {},
     "output_type": "execute_result"
    }
   ],
   "source": [
    "dfn.describe()"
   ]
  },
  {
   "cell_type": "code",
   "execution_count": 29,
   "metadata": {},
   "outputs": [
    {
     "data": {
      "image/png": "[encoded data removed]",
      "text/plain": [
       "<Figure size 432x288 with 1 Axes>"
      ]
     },
     "metadata": {
      "needs_background": "light"
     },
     "output_type": "display_data"
    }
   ],
   "source": [
    "X = np.array(dfn[\"Wind Speed (m/s)\"])\n",
    "Y = np.array(dfn['Wind Direction (°)'])\n",
    "Z = np.array(dfn['LV ActivePower (kW)'])\n",
    "\n",
    "fig = plt.figure()\n",
    "ax = plt.axes(projection = '3d')\n",
    "\n",
    "ax.scatter3D(X, Y, Z, alpha = 0.1)\n",
    "plt.ylabel('Wind direction')\n",
    "plt.xlabel('Wind Speed')\n",
    "plt.clabel('LV ActivePower')\n",
    "plt.show()"
   ]
  },
  {
   "cell_type": "markdown",
   "metadata": {},
   "source": [
    "### 1.7 Implementing the basic functions\n",
    "Here is your turn to shine. Implement the following formulas, as explained in the text.\n",
    "- Sigmoid activation function\n",
    "\n",
    "$$\\sigma(x) = \\frac{1}{1+e^{-x}}$$\n",
    "\n",
    "- Output (prediction) formula\n",
    "\n",
    "$$\\hat{y} = \\sigma(w_1 x_1 + w_2 x_2 + b)$$\n",
    "\n",
    "- Error function\n",
    "\n",
    "$$Error(y, \\hat{y}) = - y \\log(\\hat{y}) - (1-y) \\log(1-\\hat{y})$$\n",
    "\n",
    "- The function that updates the weights\n",
    "\n",
    "$$ w_i \\longrightarrow w_i + \\alpha (y - \\hat{y}) x_i$$\n",
    "\n",
    "$$ b \\longrightarrow b + \\alpha (y - \\hat{y})$$"
   ]
  },
  {
   "cell_type": "code",
   "execution_count": 30,
   "metadata": {},
   "outputs": [],
   "source": [
    "#Definindo features (X) e targets (y)\n",
    "X = np.array(dfn[[\"Wind Speed (m/s)\", 'Wind Direction (°)']])\n",
    "y = Z"
   ]
  },
  {
   "cell_type": "markdown",
   "metadata": {},
   "source": [
    "## 1.8 Redes Neurais"
   ]
  },
  {
   "cell_type": "markdown",
   "metadata": {},
   "source": [
    "Dividindo os dados em banco de dados de treinamento e de teste."
   ]
  },
  {
   "cell_type": "code",
   "execution_count": 31,
   "metadata": {},
   "outputs": [
    {
     "data": {
      "text/html": [
       "<div>\n",
       "<style scoped>\n",
       "    .dataframe tbody tr th:only-of-type {\n",
       "        vertical-align: middle;\n",
       "    }\n",
       "\n",
       "    .dataframe tbody tr th {\n",
       "        vertical-align: top;\n",
       "    }\n",
       "\n",
       "    .dataframe thead th {\n",
       "        text-align: right;\n",
       "    }\n",
       "</style>\n",
       "<table border=\"1\" class=\"dataframe\">\n",
       "  <thead>\n",
       "    <tr style=\"text-align: right;\">\n",
       "      <th></th>\n",
       "      <th>Date/Time</th>\n",
       "      <th>LV ActivePower (kW)</th>\n",
       "      <th>Wind Speed (m/s)</th>\n",
       "      <th>Wind Direction (°)</th>\n",
       "    </tr>\n",
       "  </thead>\n",
       "  <tbody>\n",
       "    <tr>\n",
       "      <th>0</th>\n",
       "      <td>2018-01-01 00:00:00</td>\n",
       "      <td>0.105022</td>\n",
       "      <td>0.232143</td>\n",
       "      <td>0.722201</td>\n",
       "    </tr>\n",
       "    <tr>\n",
       "      <th>1</th>\n",
       "      <td>2018-01-01 00:10:00</td>\n",
       "      <td>0.125394</td>\n",
       "      <td>0.252561</td>\n",
       "      <td>0.746219</td>\n",
       "    </tr>\n",
       "    <tr>\n",
       "      <th>2</th>\n",
       "      <td>2018-01-01 00:20:00</td>\n",
       "      <td>0.084664</td>\n",
       "      <td>0.226750</td>\n",
       "      <td>0.757119</td>\n",
       "    </tr>\n",
       "    <tr>\n",
       "      <th>3</th>\n",
       "      <td>2018-01-01 00:30:00</td>\n",
       "      <td>0.115965</td>\n",
       "      <td>0.251854</td>\n",
       "      <td>0.753489</td>\n",
       "    </tr>\n",
       "    <tr>\n",
       "      <th>4</th>\n",
       "      <td>2018-01-01 00:40:00</td>\n",
       "      <td>0.105189</td>\n",
       "      <td>0.247229</td>\n",
       "      <td>0.737978</td>\n",
       "    </tr>\n",
       "  </tbody>\n",
       "</table>\n",
       "</div>"
      ],
      "text/plain": [
       "            Date/Time  LV ActivePower (kW)  Wind Speed (m/s)  \\\n",
       "0 2018-01-01 00:00:00             0.105022          0.232143   \n",
       "1 2018-01-01 00:10:00             0.125394          0.252561   \n",
       "2 2018-01-01 00:20:00             0.084664          0.226750   \n",
       "3 2018-01-01 00:30:00             0.115965          0.251854   \n",
       "4 2018-01-01 00:40:00             0.105189          0.247229   \n",
       "\n",
       "   Wind Direction (°)  \n",
       "0            0.722201  \n",
       "1            0.746219  \n",
       "2            0.757119  \n",
       "3            0.753489  \n",
       "4            0.737978  "
      ]
     },
     "execution_count": 31,
     "metadata": {},
     "output_type": "execute_result"
    }
   ],
   "source": [
    "dfn.head()"
   ]
  },
  {
   "cell_type": "code",
   "execution_count": 32,
   "metadata": {},
   "outputs": [
    {
     "name": "stdout",
     "output_type": "stream",
     "text": [
      "Number of training samples is 35168\n",
      "Number of testing samples is 3908\n",
      "                Date/Time  LV ActivePower (kW)  Wind Speed (m/s)  \\\n",
      "42536 2018-02-11 18:10:00             0.995826          0.678505   \n",
      "2874  2018-01-21 02:40:00             0.954051          0.635440   \n",
      "37338 2018-09-22 21:50:00             0.041085          0.186509   \n",
      "17639 2018-08-05 04:20:00             0.024513          0.146068   \n",
      "28330 2018-07-21 23:10:00             0.007343          0.139998   \n",
      "28692 2018-07-24 11:30:00             0.073729          0.212321   \n",
      "2635  2018-01-19 10:50:00             0.341058          0.340881   \n",
      "34885 2018-05-09 18:10:00             0.453003          0.431541   \n",
      "37181 2018-09-21 19:40:00             0.264562          0.263733   \n",
      "26353 2018-08-07 05:40:00             0.363090          0.382702   \n",
      "\n",
      "       Wind Direction (°)  \n",
      "42536            0.177118  \n",
      "2874             0.615493  \n",
      "37338            0.156874  \n",
      "17639            0.908020  \n",
      "28330            0.000485  \n",
      "28692            0.668911  \n",
      "2635             0.638647  \n",
      "34885            0.134948  \n",
      "37181            0.220730  \n",
      "26353            0.166917  \n",
      "             Date/Time  LV ActivePower (kW)  Wind Speed (m/s)  \\\n",
      "7  2018-01-01 01:10:00             0.107010          0.231844   \n",
      "12 2018-01-01 02:00:00             0.196364          0.302089   \n",
      "13 2018-01-01 02:10:00             0.181056          0.282415   \n",
      "14 2018-01-01 02:20:00             0.208571          0.299710   \n",
      "16 2018-01-01 02:40:00             0.205316          0.292554   \n",
      "26 2018-01-01 04:20:00             0.452350          0.397695   \n",
      "27 2018-01-01 04:30:00             0.382865          0.377473   \n",
      "44 2018-01-01 07:20:00             0.283104          0.331581   \n",
      "50 2018-01-01 08:20:00             0.156202          0.260822   \n",
      "54 2018-01-01 09:00:00             0.200586          0.282111   \n",
      "\n",
      "    Wind Direction (°)  \n",
      "7             0.716519  \n",
      "12            0.761753  \n",
      "13            0.740919  \n",
      "14            0.740995  \n",
      "16            0.740531  \n",
      "26            0.688823  \n",
      "27            0.662794  \n",
      "44            0.638692  \n",
      "50            0.654990  \n",
      "54            0.555119  \n"
     ]
    }
   ],
   "source": [
    "sample = np.random.choice(dfn.index, size=int(len(dfn)*0.9), replace=False)\n",
    "train_data, test_data = dfn.loc[sample], dfn.drop(sample)\n",
    "\n",
    "print(\"Number of training samples is\", len(train_data))\n",
    "print(\"Number of testing samples is\", len(test_data))\n",
    "print(train_data[:10])\n",
    "print(test_data[:10])"
   ]
  },
  {
   "cell_type": "markdown",
   "metadata": {},
   "source": [
    "Separando os dados em features(X) e alvos(Y)"
   ]
  },
  {
   "cell_type": "code",
   "execution_count": 33,
   "metadata": {},
   "outputs": [
    {
     "name": "stdout",
     "output_type": "stream",
     "text": [
      "       Wind Speed (m/s)  Wind Direction (°)\n",
      "42536          0.678505            0.177118\n",
      "2874           0.635440            0.615493\n",
      "37338          0.186509            0.156874\n",
      "17639          0.146068            0.908020\n",
      "28330          0.139998            0.000485\n",
      "28692          0.212321            0.668911\n",
      "2635           0.340881            0.638647\n",
      "34885          0.431541            0.134948\n",
      "37181          0.263733            0.220730\n",
      "26353          0.382702            0.166917\n",
      "42536    0.995826\n",
      "2874     0.954051\n",
      "37338    0.041085\n",
      "17639    0.024513\n",
      "28330    0.007343\n",
      "28692    0.073729\n",
      "2635     0.341058\n",
      "34885    0.453003\n",
      "37181    0.264562\n",
      "26353    0.363090\n",
      "Name: LV ActivePower (kW), dtype: float64\n"
     ]
    }
   ],
   "source": [
    "features = train_data.drop(['LV ActivePower (kW)','Date/Time'], axis=1)\n",
    "targets = train_data['LV ActivePower (kW)']\n",
    "features_test = test_data.drop(['LV ActivePower (kW)','Date/Time'], axis=1)\n",
    "targets_test = test_data['LV ActivePower (kW)']\n",
    "\n",
    "print(features[:10])\n",
    "print(targets[:10])"
   ]
  },
  {
   "cell_type": "markdown",
   "metadata": {},
   "source": [
    "## Treinamento da rede neural"
   ]
  },
  {
   "cell_type": "code",
   "execution_count": 34,
   "metadata": {},
   "outputs": [],
   "source": [
    "# Activation (sigmoid) function\n",
    "def sigmoid(x):\n",
    "    return 1 / (1 + np.exp(-x))\n",
    "def sigmoid_prime(x):\n",
    "    return sigmoid(x) * (1-sigmoid(x))\n",
    "def error_formula(y, output):\n",
    "    return - y*np.log(output) - (1 - y) * np.log(1-output)"
   ]
  },
  {
   "cell_type": "markdown",
   "metadata": {},
   "source": [
    "### Backpropagate the error\n",
    "Now it's your turn to shine. Write the error term. Remember that this is given by the equation $$ -(y-\\hat{y}) \\sigma'(x) $$"
   ]
  },
  {
   "cell_type": "code",
   "execution_count": 35,
   "metadata": {},
   "outputs": [],
   "source": [
    "#Write the error term formula\n",
    "def error_term_formula(y, output):\n",
    "    return (y-output) * output * (1 - output)"
   ]
  },
  {
   "cell_type": "code",
   "execution_count": 36,
   "metadata": {},
   "outputs": [
    {
     "name": "stdout",
     "output_type": "stream",
     "text": [
      "Epoch: 0\n",
      "Train loss:  0.1144636493831508\n",
      "=========\n",
      "Epoch: 100\n",
      "Train loss:  0.10762863572667997\n",
      "=========\n",
      "Epoch: 200\n",
      "Train loss:  0.10283101443566572\n",
      "=========\n",
      "Epoch: 300\n",
      "Train loss:  0.09941954404010721\n",
      "=========\n",
      "Epoch: 400\n",
      "Train loss:  0.09697803265822731\n",
      "=========\n",
      "Epoch: 500\n",
      "Train loss:  0.09521521458063524\n",
      "=========\n",
      "Epoch: 600\n",
      "Train loss:  0.09392921257176988\n",
      "=========\n",
      "Epoch: 700\n",
      "Train loss:  0.09298107500158993\n",
      "=========\n",
      "Epoch: 800\n",
      "Train loss:  0.09227491896229972\n",
      "=========\n",
      "Epoch: 900\n",
      "Train loss:  0.0917440402630329\n",
      "=========\n",
      "Finished training!\n"
     ]
    }
   ],
   "source": [
    "# Neural Network hyperparameters\n",
    "epochs = 1000\n",
    "learnrate = 0.5\n",
    "\n",
    "# Training function\n",
    "def train_nn(features, targets, epochs, learnrate):\n",
    "    \n",
    "    # Use to same seed to make debugging easier\n",
    "    np.random.seed(42)\n",
    "\n",
    "    n_records, n_features = features.shape\n",
    "    last_loss = None\n",
    "\n",
    "    # Initialize weights\n",
    "    weights = np.random.normal(scale=1 / n_features**.5, size=n_features)\n",
    "\n",
    "    for e in range(epochs):\n",
    "        del_w = np.zeros(weights.shape)\n",
    "        for x, y in zip(features.values, targets):\n",
    "            # Loop through all records, x is the input, y is the target\n",
    "\n",
    "            # Activation of the output unit\n",
    "            #   Notice we multiply the inputs and the weights here \n",
    "            #   rather than storing h as a separate variable \n",
    "            output = sigmoid(np.dot(x, weights))\n",
    "\n",
    "            # The error, the target minus the network output\n",
    "            error = error_formula(y, output)\n",
    "\n",
    "            # The error term\n",
    "            #   Notice we calulate f'(h) here instead of defining a separate\n",
    "            #   sigmoid_prime function. This just makes it faster because we\n",
    "            #   can re-use the result of the sigmoid function stored in\n",
    "            #   the output variable\n",
    "            error_term = error_term_formula(y, output)\n",
    "\n",
    "            # The gradient descent step, the error times the gradient times the inputs\n",
    "            del_w += error_term * x\n",
    "\n",
    "        # Update the weights here. The learning rate times the \n",
    "        # change in weights, divided by the number of records to average\n",
    "        weights += learnrate * del_w / n_records\n",
    "\n",
    "        # Printing out the mean square error on the training set\n",
    "        if e % (epochs / 10) == 0:\n",
    "            out = sigmoid(np.dot(features, weights))\n",
    "            loss = np.mean((out - targets) ** 2)\n",
    "            print(\"Epoch:\", e)\n",
    "            if last_loss and last_loss < loss:\n",
    "                print(\"Train loss: \", loss, \"  WARNING - Loss Increasing\")\n",
    "            else:\n",
    "                print(\"Train loss: \", loss)\n",
    "            last_loss = loss\n",
    "            print(\"=========\")\n",
    "    print(\"Finished training!\")\n",
    "    return weights\n",
    "    \n",
    "weights = train_nn(features, targets, epochs, learnrate)"
   ]
  },
  {
   "cell_type": "code",
   "execution_count": 37,
   "metadata": {},
   "outputs": [
    {
     "data": {
      "text/plain": [
       "array([ 1.80846624, -1.73197799])"
      ]
     },
     "execution_count": 37,
     "metadata": {},
     "output_type": "execute_result"
    }
   ],
   "source": [
    "weights"
   ]
  },
  {
   "cell_type": "markdown",
   "metadata": {},
   "source": [
    "Calculando a acurácia nos dados de teste"
   ]
  },
  {
   "cell_type": "code",
   "execution_count": 38,
   "metadata": {},
   "outputs": [],
   "source": [
    "rede_out = sigmoid(np.dot(features_test, weights))\n",
    "\n",
    "time_series_error = targets_test - rede_out"
   ]
  },
  {
   "cell_type": "code",
   "execution_count": 39,
   "metadata": {},
   "outputs": [
    {
     "data": {
      "text/plain": [
       "<ErrorbarContainer object of 3 artists>"
      ]
     },
     "execution_count": 39,
     "metadata": {},
     "output_type": "execute_result"
    },
    {
     "data": {
      "image/png": "[encoded data removed]",
      "text/plain": [
       "<Figure size 432x288 with 1 Axes>"
      ]
     },
     "metadata": {
      "needs_background": "light"
     },
     "output_type": "display_data"
    }
   ],
   "source": [
    "x = np.arange(1, len(time_series_error)+1, 1)\n",
    "plt.errorbar(x = x, y = time_series_error)"
   ]
  },
  {
   "cell_type": "code",
   "execution_count": 40,
   "metadata": {},
   "outputs": [],
   "source": [
    "# Encontrando limites\n",
    "\n",
    "Z = 0.499\n",
    "\n",
    "error_df = pd.DataFrame(time_series_error)\n",
    "\n",
    "limit_low = - Z*error_df.std()\n",
    "limit_high = Z*error_df.std()"
   ]
  },
  {
   "cell_type": "code",
   "execution_count": 41,
   "metadata": {},
   "outputs": [
    {
     "data": {
      "image/png": "[encoded data removed]",
      "text/plain": [
       "<Figure size 432x288 with 1 Axes>"
      ]
     },
     "metadata": {
      "needs_background": "light"
     },
     "output_type": "display_data"
    }
   ],
   "source": [
    "plt.errorbar(x = x, y = time_series_error)\n",
    "plt.errorbar(x = x, y = limit_low)\n",
    "plt.errorbar(x = x, y = limit_high)\n",
    "plt.show()"
   ]
  },
  {
   "cell_type": "code",
   "execution_count": null,
   "metadata": {},
   "outputs": [],
   "source": []
  }
 ],
 "metadata": {
  "kernelspec": {
   "display_name": "Python 3",
   "language": "python",
   "name": "python3"
  },
  "language_info": {
   "codemirror_mode": {
    "name": "ipython",
    "version": 3
   },
   "file_extension": ".py",
   "mimetype": "text/x-python",
   "name": "python",
   "nbconvert_exporter": "python",
   "pygments_lexer": "ipython3",
   "version": "3.7.1"
  }
 },
 "nbformat": 4,
 "nbformat_minor": 2
}
