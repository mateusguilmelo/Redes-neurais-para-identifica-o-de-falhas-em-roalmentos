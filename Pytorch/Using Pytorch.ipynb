{
 "cells": [
  {
   "cell_type": "markdown",
   "metadata": {},
   "source": [
    "# Rede Neural Para Previsão de Falhas em Rolamentos de Aerogeradores Usando Pytorch"
   ]
  },
  {
   "cell_type": "markdown",
   "metadata": {},
   "source": [
    "Este notebook apresenta o modelo de rede neural apresentado por Shcleichtingen e Santos (2011) para a previsão de falhas em rolamentos de aerogeradores, como parte do projeto de mestrado. Aqui, será usado a biblioteca Pytorch para a construção da rede neural."
   ]
  },
  {
   "cell_type": "code",
   "execution_count": 55,
   "metadata": {},
   "outputs": [],
   "source": [
    "# Definindo Bibliotecas\n",
    "import numpy as np\n",
    "import pandas as pd\n",
    "import torch\n",
    "import helper\n",
    "\n",
    "%matplotlib inline\n",
    "\n",
    "import seaborn as sb\n",
    "import matplotlib.pyplot as plt\n",
    "from torchvision import datasets, transforms"
   ]
  },
  {
   "cell_type": "code",
   "execution_count": 56,
   "metadata": {},
   "outputs": [
    {
     "data": {
      "text/html": [
       "<div>\n",
       "<style scoped>\n",
       "    .dataframe tbody tr th:only-of-type {\n",
       "        vertical-align: middle;\n",
       "    }\n",
       "\n",
       "    .dataframe tbody tr th {\n",
       "        vertical-align: top;\n",
       "    }\n",
       "\n",
       "    .dataframe thead th {\n",
       "        text-align: right;\n",
       "    }\n",
       "</style>\n",
       "<table border=\"1\" class=\"dataframe\">\n",
       "  <thead>\n",
       "    <tr style=\"text-align: right;\">\n",
       "      <th></th>\n",
       "      <th>Date/Time</th>\n",
       "      <th>LV ActivePower (kW)</th>\n",
       "      <th>Wind Speed (m/s)</th>\n",
       "      <th>Theoretical_Power_Curve (KWh)</th>\n",
       "      <th>Wind Direction (°)</th>\n",
       "    </tr>\n",
       "  </thead>\n",
       "  <tbody>\n",
       "    <tr>\n",
       "      <th>0</th>\n",
       "      <td>01 01 2018 00:00</td>\n",
       "      <td>380.047791</td>\n",
       "      <td>5.311336</td>\n",
       "      <td>416.328908</td>\n",
       "      <td>259.994904</td>\n",
       "    </tr>\n",
       "    <tr>\n",
       "      <th>1</th>\n",
       "      <td>01 01 2018 00:10</td>\n",
       "      <td>453.769196</td>\n",
       "      <td>5.672167</td>\n",
       "      <td>519.917511</td>\n",
       "      <td>268.641113</td>\n",
       "    </tr>\n",
       "    <tr>\n",
       "      <th>2</th>\n",
       "      <td>01 01 2018 00:20</td>\n",
       "      <td>306.376587</td>\n",
       "      <td>5.216037</td>\n",
       "      <td>390.900016</td>\n",
       "      <td>272.564789</td>\n",
       "    </tr>\n",
       "    <tr>\n",
       "      <th>3</th>\n",
       "      <td>01 01 2018 00:30</td>\n",
       "      <td>419.645905</td>\n",
       "      <td>5.659674</td>\n",
       "      <td>516.127569</td>\n",
       "      <td>271.258087</td>\n",
       "    </tr>\n",
       "    <tr>\n",
       "      <th>4</th>\n",
       "      <td>01 01 2018 00:40</td>\n",
       "      <td>380.650696</td>\n",
       "      <td>5.577941</td>\n",
       "      <td>491.702972</td>\n",
       "      <td>265.674286</td>\n",
       "    </tr>\n",
       "  </tbody>\n",
       "</table>\n",
       "</div>"
      ],
      "text/plain": [
       "          Date/Time  LV ActivePower (kW)  Wind Speed (m/s)  \\\n",
       "0  01 01 2018 00:00           380.047791          5.311336   \n",
       "1  01 01 2018 00:10           453.769196          5.672167   \n",
       "2  01 01 2018 00:20           306.376587          5.216037   \n",
       "3  01 01 2018 00:30           419.645905          5.659674   \n",
       "4  01 01 2018 00:40           380.650696          5.577941   \n",
       "\n",
       "   Theoretical_Power_Curve (KWh)  Wind Direction (°)  \n",
       "0                     416.328908          259.994904  \n",
       "1                     519.917511          268.641113  \n",
       "2                     390.900016          272.564789  \n",
       "3                     516.127569          271.258087  \n",
       "4                     491.702972          265.674286  "
      ]
     },
     "execution_count": 56,
     "metadata": {},
     "output_type": "execute_result"
    }
   ],
   "source": [
    "# Importando dados pro Dataset\n",
    "df = pd.read_csv('T1.csv')\n",
    "df.head()"
   ]
  },
  {
   "cell_type": "markdown",
   "metadata": {},
   "source": [
    "### Fase 1: Pré-processamento\n",
    "\n",
    "Esse modelo de teste será construído de forma a modelar a potência de saída de acordo com a velocidade e direção do vento. Em outras palavras, a rede terá como entradas as variáveis Wind Direction (°) e Wind Speed (m/s), e como saída LV ActivePower (kW).\n",
    "\n",
    "Dessa forma, a variável Theoretical_power_curve será desconsiderada."
   ]
  },
  {
   "cell_type": "code",
   "execution_count": 57,
   "metadata": {},
   "outputs": [
    {
     "data": {
      "text/html": [
       "<div>\n",
       "<style scoped>\n",
       "    .dataframe tbody tr th:only-of-type {\n",
       "        vertical-align: middle;\n",
       "    }\n",
       "\n",
       "    .dataframe tbody tr th {\n",
       "        vertical-align: top;\n",
       "    }\n",
       "\n",
       "    .dataframe thead th {\n",
       "        text-align: right;\n",
       "    }\n",
       "</style>\n",
       "<table border=\"1\" class=\"dataframe\">\n",
       "  <thead>\n",
       "    <tr style=\"text-align: right;\">\n",
       "      <th></th>\n",
       "      <th>Date/Time</th>\n",
       "      <th>LV ActivePower (kW)</th>\n",
       "      <th>Wind Speed (m/s)</th>\n",
       "      <th>Wind Direction (°)</th>\n",
       "    </tr>\n",
       "  </thead>\n",
       "  <tbody>\n",
       "    <tr>\n",
       "      <th>0</th>\n",
       "      <td>01 01 2018 00:00</td>\n",
       "      <td>380.047791</td>\n",
       "      <td>5.311336</td>\n",
       "      <td>259.994904</td>\n",
       "    </tr>\n",
       "    <tr>\n",
       "      <th>1</th>\n",
       "      <td>01 01 2018 00:10</td>\n",
       "      <td>453.769196</td>\n",
       "      <td>5.672167</td>\n",
       "      <td>268.641113</td>\n",
       "    </tr>\n",
       "    <tr>\n",
       "      <th>2</th>\n",
       "      <td>01 01 2018 00:20</td>\n",
       "      <td>306.376587</td>\n",
       "      <td>5.216037</td>\n",
       "      <td>272.564789</td>\n",
       "    </tr>\n",
       "    <tr>\n",
       "      <th>3</th>\n",
       "      <td>01 01 2018 00:30</td>\n",
       "      <td>419.645905</td>\n",
       "      <td>5.659674</td>\n",
       "      <td>271.258087</td>\n",
       "    </tr>\n",
       "    <tr>\n",
       "      <th>4</th>\n",
       "      <td>01 01 2018 00:40</td>\n",
       "      <td>380.650696</td>\n",
       "      <td>5.577941</td>\n",
       "      <td>265.674286</td>\n",
       "    </tr>\n",
       "  </tbody>\n",
       "</table>\n",
       "</div>"
      ],
      "text/plain": [
       "          Date/Time  LV ActivePower (kW)  Wind Speed (m/s)  Wind Direction (°)\n",
       "0  01 01 2018 00:00           380.047791          5.311336          259.994904\n",
       "1  01 01 2018 00:10           453.769196          5.672167          268.641113\n",
       "2  01 01 2018 00:20           306.376587          5.216037          272.564789\n",
       "3  01 01 2018 00:30           419.645905          5.659674          271.258087\n",
       "4  01 01 2018 00:40           380.650696          5.577941          265.674286"
      ]
     },
     "execution_count": 57,
     "metadata": {},
     "output_type": "execute_result"
    }
   ],
   "source": [
    "df = df.drop('Theoretical_Power_Curve (KWh)', axis = 1)\n",
    "df.head()"
   ]
  },
  {
   "cell_type": "code",
   "execution_count": 58,
   "metadata": {},
   "outputs": [
    {
     "name": "stdout",
     "output_type": "stream",
     "text": [
      "<class 'pandas.core.frame.DataFrame'>\n",
      "RangeIndex: 50530 entries, 0 to 50529\n",
      "Data columns (total 4 columns):\n",
      "Date/Time              50530 non-null object\n",
      "LV ActivePower (kW)    50530 non-null float64\n",
      "Wind Speed (m/s)       50530 non-null float64\n",
      "Wind Direction (°)     50530 non-null float64\n",
      "dtypes: float64(3), object(1)\n",
      "memory usage: 1.5+ MB\n"
     ]
    }
   ],
   "source": [
    "df.info()"
   ]
  },
  {
   "cell_type": "markdown",
   "metadata": {},
   "source": [
    "De acordo com a informação acima, a variável Date/time está no time object. Deve-se então transformá-la para o tipo date-time."
   ]
  },
  {
   "cell_type": "code",
   "execution_count": 59,
   "metadata": {
    "scrolled": true
   },
   "outputs": [
    {
     "name": "stdout",
     "output_type": "stream",
     "text": [
      "<class 'pandas.core.frame.DataFrame'>\n",
      "RangeIndex: 50530 entries, 0 to 50529\n",
      "Data columns (total 4 columns):\n",
      "Date/Time              50530 non-null datetime64[ns]\n",
      "LV ActivePower (kW)    50530 non-null float64\n",
      "Wind Speed (m/s)       50530 non-null float64\n",
      "Wind Direction (°)     50530 non-null float64\n",
      "dtypes: datetime64[ns](1), float64(3)\n",
      "memory usage: 1.5 MB\n"
     ]
    }
   ],
   "source": [
    "df['Date/Time'] = pd.to_datetime(df['Date/Time'])\n",
    "df.info()"
   ]
  },
  {
   "cell_type": "markdown",
   "metadata": {},
   "source": [
    "Removendo NaN"
   ]
  },
  {
   "cell_type": "code",
   "execution_count": 60,
   "metadata": {},
   "outputs": [
    {
     "name": "stdout",
     "output_type": "stream",
     "text": [
      "<class 'pandas.core.frame.DataFrame'>\n",
      "RangeIndex: 50530 entries, 0 to 50529\n",
      "Data columns (total 4 columns):\n",
      "Date/Time              50530 non-null datetime64[ns]\n",
      "LV ActivePower (kW)    50530 non-null float64\n",
      "Wind Speed (m/s)       50530 non-null float64\n",
      "Wind Direction (°)     50530 non-null float64\n",
      "dtypes: datetime64[ns](1), float64(3)\n",
      "memory usage: 1.5 MB\n"
     ]
    }
   ],
   "source": [
    "df.dropna(axis = 0, how = 'any')\n",
    "df.info()"
   ]
  },
  {
   "cell_type": "markdown",
   "metadata": {},
   "source": [
    "Removendo valores duplicados"
   ]
  },
  {
   "cell_type": "code",
   "execution_count": 61,
   "metadata": {},
   "outputs": [
    {
     "data": {
      "text/plain": [
       "0"
      ]
     },
     "execution_count": 61,
     "metadata": {},
     "output_type": "execute_result"
    }
   ],
   "source": [
    "sum(df.duplicated())"
   ]
  },
  {
   "cell_type": "code",
   "execution_count": 62,
   "metadata": {},
   "outputs": [
    {
     "name": "stdout",
     "output_type": "stream",
     "text": [
      "<class 'pandas.core.frame.DataFrame'>\n",
      "Int64Index: 50530 entries, 0 to 50529\n",
      "Data columns (total 4 columns):\n",
      "Date/Time              50530 non-null datetime64[ns]\n",
      "LV ActivePower (kW)    50530 non-null float64\n",
      "Wind Speed (m/s)       50530 non-null float64\n",
      "Wind Direction (°)     50530 non-null float64\n",
      "dtypes: datetime64[ns](1), float64(3)\n",
      "memory usage: 1.9 MB\n"
     ]
    }
   ],
   "source": [
    "df.drop_duplicates(inplace = True)\n",
    "df.info()"
   ]
  },
  {
   "cell_type": "markdown",
   "metadata": {},
   "source": [
    "Eliminando numero menores que zero"
   ]
  },
  {
   "cell_type": "code",
   "execution_count": 63,
   "metadata": {},
   "outputs": [
    {
     "data": {
      "text/html": [
       "<div>\n",
       "<style scoped>\n",
       "    .dataframe tbody tr th:only-of-type {\n",
       "        vertical-align: middle;\n",
       "    }\n",
       "\n",
       "    .dataframe tbody tr th {\n",
       "        vertical-align: top;\n",
       "    }\n",
       "\n",
       "    .dataframe thead th {\n",
       "        text-align: right;\n",
       "    }\n",
       "</style>\n",
       "<table border=\"1\" class=\"dataframe\">\n",
       "  <thead>\n",
       "    <tr style=\"text-align: right;\">\n",
       "      <th></th>\n",
       "      <th>LV ActivePower (kW)</th>\n",
       "      <th>Wind Speed (m/s)</th>\n",
       "      <th>Wind Direction (°)</th>\n",
       "    </tr>\n",
       "  </thead>\n",
       "  <tbody>\n",
       "    <tr>\n",
       "      <th>count</th>\n",
       "      <td>39690.000000</td>\n",
       "      <td>39690.000000</td>\n",
       "      <td>39690.000000</td>\n",
       "    </tr>\n",
       "    <tr>\n",
       "      <th>mean</th>\n",
       "      <td>1664.832940</td>\n",
       "      <td>8.769919</td>\n",
       "      <td>115.538096</td>\n",
       "    </tr>\n",
       "    <tr>\n",
       "      <th>std</th>\n",
       "      <td>1264.283374</td>\n",
       "      <td>3.773626</td>\n",
       "      <td>86.275122</td>\n",
       "    </tr>\n",
       "    <tr>\n",
       "      <th>min</th>\n",
       "      <td>0.000200</td>\n",
       "      <td>1.208934</td>\n",
       "      <td>0.015678</td>\n",
       "    </tr>\n",
       "    <tr>\n",
       "      <th>25%</th>\n",
       "      <td>481.716141</td>\n",
       "      <td>5.911983</td>\n",
       "      <td>49.043281</td>\n",
       "    </tr>\n",
       "    <tr>\n",
       "      <th>50%</th>\n",
       "      <td>1394.217957</td>\n",
       "      <td>8.114672</td>\n",
       "      <td>70.242912</td>\n",
       "    </tr>\n",
       "    <tr>\n",
       "      <th>75%</th>\n",
       "      <td>2908.383301</td>\n",
       "      <td>11.099932</td>\n",
       "      <td>197.156948</td>\n",
       "    </tr>\n",
       "    <tr>\n",
       "      <th>max</th>\n",
       "      <td>3618.732910</td>\n",
       "      <td>25.206011</td>\n",
       "      <td>359.997589</td>\n",
       "    </tr>\n",
       "  </tbody>\n",
       "</table>\n",
       "</div>"
      ],
      "text/plain": [
       "       LV ActivePower (kW)  Wind Speed (m/s)  Wind Direction (°)\n",
       "count         39690.000000      39690.000000        39690.000000\n",
       "mean           1664.832940          8.769919          115.538096\n",
       "std            1264.283374          3.773626           86.275122\n",
       "min               0.000200          1.208934            0.015678\n",
       "25%             481.716141          5.911983           49.043281\n",
       "50%            1394.217957          8.114672           70.242912\n",
       "75%            2908.383301         11.099932          197.156948\n",
       "max            3618.732910         25.206011          359.997589"
      ]
     },
     "execution_count": 63,
     "metadata": {},
     "output_type": "execute_result"
    }
   ],
   "source": [
    "for cols in df.columns.tolist()[1:]:\n",
    "    df = df.loc[df[cols] > 0]\n",
    "\n",
    "df.describe()"
   ]
  },
  {
   "cell_type": "markdown",
   "metadata": {},
   "source": [
    "##### Remoção de outliers"
   ]
  },
  {
   "cell_type": "code",
   "execution_count": 64,
   "metadata": {
    "scrolled": true
   },
   "outputs": [
    {
     "data": {
      "text/plain": [
       "<matplotlib.axes._subplots.AxesSubplot at 0x2b33144e518>"
      ]
     },
     "execution_count": 64,
     "metadata": {},
     "output_type": "execute_result"
    },
    {
     "data": {
      "image/png": "[encoded data removed]",
      "text/plain": [
       "<Figure size 432x288 with 1 Axes>"
      ]
     },
     "metadata": {
      "needs_background": "light"
     },
     "output_type": "display_data"
    }
   ],
   "source": [
    "sb.boxplot(data = df, y= 'LV ActivePower (kW)')"
   ]
  },
  {
   "cell_type": "code",
   "execution_count": 65,
   "metadata": {},
   "outputs": [
    {
     "data": {
      "text/plain": [
       "<matplotlib.axes._subplots.AxesSubplot at 0x2b3301176d8>"
      ]
     },
     "execution_count": 65,
     "metadata": {},
     "output_type": "execute_result"
    },
    {
     "data": {
      "image/png": "[encoded data removed]",
      "text/plain": [
       "<Figure size 432x288 with 1 Axes>"
      ]
     },
     "metadata": {
      "needs_background": "light"
     },
     "output_type": "display_data"
    }
   ],
   "source": [
    "sb.boxplot(data = df, y= 'Wind Speed (m/s)')"
   ]
  },
  {
   "cell_type": "code",
   "execution_count": 66,
   "metadata": {},
   "outputs": [
    {
     "data": {
      "text/plain": [
       "<matplotlib.axes._subplots.AxesSubplot at 0x2b333326780>"
      ]
     },
     "execution_count": 66,
     "metadata": {},
     "output_type": "execute_result"
    },
    {
     "data": {
      "image/png": "[encoded data removed]",
      "text/plain": [
       "<Figure size 432x288 with 1 Axes>"
      ]
     },
     "metadata": {
      "needs_background": "light"
     },
     "output_type": "display_data"
    }
   ],
   "source": [
    "sb.boxplot(data = df, y= 'Wind Direction (°)')"
   ]
  },
  {
   "cell_type": "markdown",
   "metadata": {},
   "source": [
    "Nota-se, pelos gráficos acima, que a variável Wind Speed aprensenta alguns outliers que devem ser removidos do Dataset. Dessa forma, eles serão removidos utilizando a seguinte formula: $$ Q3 + 1.5*AIQ < Outlier < Q1 - 1.5*AIQ $$ aonde AIQ significa amplitude interquartil"
   ]
  },
  {
   "cell_type": "code",
   "execution_count": 67,
   "metadata": {},
   "outputs": [
    {
     "data": {
      "text/html": [
       "<div>\n",
       "<style scoped>\n",
       "    .dataframe tbody tr th:only-of-type {\n",
       "        vertical-align: middle;\n",
       "    }\n",
       "\n",
       "    .dataframe tbody tr th {\n",
       "        vertical-align: top;\n",
       "    }\n",
       "\n",
       "    .dataframe thead th {\n",
       "        text-align: right;\n",
       "    }\n",
       "</style>\n",
       "<table border=\"1\" class=\"dataframe\">\n",
       "  <thead>\n",
       "    <tr style=\"text-align: right;\">\n",
       "      <th></th>\n",
       "      <th>LV ActivePower (kW)</th>\n",
       "      <th>Wind Speed (m/s)</th>\n",
       "      <th>Wind Direction (°)</th>\n",
       "    </tr>\n",
       "  </thead>\n",
       "  <tbody>\n",
       "    <tr>\n",
       "      <th>count</th>\n",
       "      <td>39076.000000</td>\n",
       "      <td>39076.000000</td>\n",
       "      <td>39076.000000</td>\n",
       "    </tr>\n",
       "    <tr>\n",
       "      <th>mean</th>\n",
       "      <td>1635.024724</td>\n",
       "      <td>8.590286</td>\n",
       "      <td>114.268271</td>\n",
       "    </tr>\n",
       "    <tr>\n",
       "      <th>std</th>\n",
       "      <td>1251.304296</td>\n",
       "      <td>3.515108</td>\n",
       "      <td>86.335212</td>\n",
       "    </tr>\n",
       "    <tr>\n",
       "      <th>min</th>\n",
       "      <td>0.000200</td>\n",
       "      <td>1.208934</td>\n",
       "      <td>0.015678</td>\n",
       "    </tr>\n",
       "    <tr>\n",
       "      <th>25%</th>\n",
       "      <td>471.007072</td>\n",
       "      <td>5.879802</td>\n",
       "      <td>48.589694</td>\n",
       "    </tr>\n",
       "    <tr>\n",
       "      <th>50%</th>\n",
       "      <td>1357.751038</td>\n",
       "      <td>8.039958</td>\n",
       "      <td>69.606670</td>\n",
       "    </tr>\n",
       "    <tr>\n",
       "      <th>75%</th>\n",
       "      <td>2832.098755</td>\n",
       "      <td>10.941510</td>\n",
       "      <td>196.758205</td>\n",
       "    </tr>\n",
       "    <tr>\n",
       "      <th>max</th>\n",
       "      <td>3618.732910</td>\n",
       "      <td>18.880831</td>\n",
       "      <td>359.997589</td>\n",
       "    </tr>\n",
       "  </tbody>\n",
       "</table>\n",
       "</div>"
      ],
      "text/plain": [
       "       LV ActivePower (kW)  Wind Speed (m/s)  Wind Direction (°)\n",
       "count         39076.000000      39076.000000        39076.000000\n",
       "mean           1635.024724          8.590286          114.268271\n",
       "std            1251.304296          3.515108           86.335212\n",
       "min               0.000200          1.208934            0.015678\n",
       "25%             471.007072          5.879802           48.589694\n",
       "50%            1357.751038          8.039958           69.606670\n",
       "75%            2832.098755         10.941510          196.758205\n",
       "max            3618.732910         18.880831          359.997589"
      ]
     },
     "execution_count": 67,
     "metadata": {},
     "output_type": "execute_result"
    }
   ],
   "source": [
    "WS_Q1 = df['Wind Speed (m/s)'].quantile(0.25)\n",
    "WS_Q3 = df['Wind Speed (m/s)'].quantile(0.75)\n",
    "\n",
    "WS_IQR = WS_Q3 - WS_Q1\n",
    "\n",
    "df = df.loc[df['Wind Speed (m/s)'] > WS_Q1 - 1.5*WS_IQR]\n",
    "df = df.loc[df['Wind Speed (m/s)'] < WS_Q3 + 1.5*WS_IQR]\n",
    "\n",
    "df.describe()"
   ]
  },
  {
   "cell_type": "code",
   "execution_count": 68,
   "metadata": {},
   "outputs": [
    {
     "data": {
      "text/plain": [
       "<matplotlib.axes._subplots.AxesSubplot at 0x2b333380cf8>"
      ]
     },
     "execution_count": 68,
     "metadata": {},
     "output_type": "execute_result"
    },
    {
     "data": {
      "image/png": "[encoded data removed]",
      "text/plain": [
       "<Figure size 432x288 with 1 Axes>"
      ]
     },
     "metadata": {
      "needs_background": "light"
     },
     "output_type": "display_data"
    }
   ],
   "source": [
    "sb.boxplot(data = df, y= 'Wind Speed (m/s)')"
   ]
  },
  {
   "cell_type": "code",
   "execution_count": 69,
   "metadata": {},
   "outputs": [
    {
     "data": {
      "text/html": [
       "<div>\n",
       "<style scoped>\n",
       "    .dataframe tbody tr th:only-of-type {\n",
       "        vertical-align: middle;\n",
       "    }\n",
       "\n",
       "    .dataframe tbody tr th {\n",
       "        vertical-align: top;\n",
       "    }\n",
       "\n",
       "    .dataframe thead th {\n",
       "        text-align: right;\n",
       "    }\n",
       "</style>\n",
       "<table border=\"1\" class=\"dataframe\">\n",
       "  <thead>\n",
       "    <tr style=\"text-align: right;\">\n",
       "      <th></th>\n",
       "      <th>Date/Time</th>\n",
       "      <th>LV ActivePower (kW)</th>\n",
       "      <th>Wind Speed (m/s)</th>\n",
       "      <th>Wind Direction (°)</th>\n",
       "    </tr>\n",
       "  </thead>\n",
       "  <tbody>\n",
       "    <tr>\n",
       "      <th>0</th>\n",
       "      <td>2018-01-01 00:00:00</td>\n",
       "      <td>380.047791</td>\n",
       "      <td>5.311336</td>\n",
       "      <td>259.994904</td>\n",
       "    </tr>\n",
       "    <tr>\n",
       "      <th>1</th>\n",
       "      <td>2018-01-01 00:10:00</td>\n",
       "      <td>453.769196</td>\n",
       "      <td>5.672167</td>\n",
       "      <td>268.641113</td>\n",
       "    </tr>\n",
       "    <tr>\n",
       "      <th>2</th>\n",
       "      <td>2018-01-01 00:20:00</td>\n",
       "      <td>306.376587</td>\n",
       "      <td>5.216037</td>\n",
       "      <td>272.564789</td>\n",
       "    </tr>\n",
       "    <tr>\n",
       "      <th>3</th>\n",
       "      <td>2018-01-01 00:30:00</td>\n",
       "      <td>419.645905</td>\n",
       "      <td>5.659674</td>\n",
       "      <td>271.258087</td>\n",
       "    </tr>\n",
       "    <tr>\n",
       "      <th>4</th>\n",
       "      <td>2018-01-01 00:40:00</td>\n",
       "      <td>380.650696</td>\n",
       "      <td>5.577941</td>\n",
       "      <td>265.674286</td>\n",
       "    </tr>\n",
       "  </tbody>\n",
       "</table>\n",
       "</div>"
      ],
      "text/plain": [
       "            Date/Time  LV ActivePower (kW)  Wind Speed (m/s)  \\\n",
       "0 2018-01-01 00:00:00           380.047791          5.311336   \n",
       "1 2018-01-01 00:10:00           453.769196          5.672167   \n",
       "2 2018-01-01 00:20:00           306.376587          5.216037   \n",
       "3 2018-01-01 00:30:00           419.645905          5.659674   \n",
       "4 2018-01-01 00:40:00           380.650696          5.577941   \n",
       "\n",
       "   Wind Direction (°)  \n",
       "0          259.994904  \n",
       "1          268.641113  \n",
       "2          272.564789  \n",
       "3          271.258087  \n",
       "4          265.674286  "
      ]
     },
     "execution_count": 69,
     "metadata": {},
     "output_type": "execute_result"
    }
   ],
   "source": [
    "df.head()"
   ]
  },
  {
   "cell_type": "markdown",
   "metadata": {},
   "source": [
    "##### Separando o dataset em treinamento, teste e validação"
   ]
  },
  {
   "cell_type": "markdown",
   "metadata": {},
   "source": [
    "Os dados serão separados da seguinte forma: 80% para treinamento, 10% para teste e 10% para validação"
   ]
  },
  {
   "cell_type": "code",
   "execution_count": 70,
   "metadata": {},
   "outputs": [],
   "source": [
    "train_lengh = int(len(df)*0.8)\n",
    "train_data = df[0:train_lengh]\n",
    "\n",
    "test_lengh = train_lengh + int(len(df)*0.1)\n",
    "test_data = df[train_lengh:test_lengh]\n",
    "\n",
    "validation_data = df[test_lengh:]"
   ]
  },
  {
   "cell_type": "code",
   "execution_count": 71,
   "metadata": {},
   "outputs": [
    {
     "name": "stdout",
     "output_type": "stream",
     "text": [
      "<class 'pandas.core.frame.DataFrame'>\n",
      "Int64Index: 31260 entries, 0 to 40678\n",
      "Data columns (total 4 columns):\n",
      "Date/Time              31260 non-null datetime64[ns]\n",
      "LV ActivePower (kW)    31260 non-null float64\n",
      "Wind Speed (m/s)       31260 non-null float64\n",
      "Wind Direction (°)     31260 non-null float64\n",
      "dtypes: datetime64[ns](1), float64(3)\n",
      "memory usage: 1.2 MB\n",
      "<class 'pandas.core.frame.DataFrame'>\n",
      "Int64Index: 3907 entries, 40679 to 44867\n",
      "Data columns (total 4 columns):\n",
      "Date/Time              3907 non-null datetime64[ns]\n",
      "LV ActivePower (kW)    3907 non-null float64\n",
      "Wind Speed (m/s)       3907 non-null float64\n",
      "Wind Direction (°)     3907 non-null float64\n",
      "dtypes: datetime64[ns](1), float64(3)\n",
      "memory usage: 152.6 KB\n",
      "<class 'pandas.core.frame.DataFrame'>\n",
      "Int64Index: 3909 entries, 44868 to 50529\n",
      "Data columns (total 4 columns):\n",
      "Date/Time              3909 non-null datetime64[ns]\n",
      "LV ActivePower (kW)    3909 non-null float64\n",
      "Wind Speed (m/s)       3909 non-null float64\n",
      "Wind Direction (°)     3909 non-null float64\n",
      "dtypes: datetime64[ns](1), float64(3)\n",
      "memory usage: 152.7 KB\n"
     ]
    }
   ],
   "source": [
    "train_data.info()\n",
    "test_data.info()\n",
    "validation_data.info()"
   ]
  },
  {
   "cell_type": "markdown",
   "metadata": {},
   "source": [
    "##### Escalonamento"
   ]
  },
  {
   "cell_type": "code",
   "execution_count": 72,
   "metadata": {},
   "outputs": [
    {
     "data": {
      "text/html": [
       "<div>\n",
       "<style scoped>\n",
       "    .dataframe tbody tr th:only-of-type {\n",
       "        vertical-align: middle;\n",
       "    }\n",
       "\n",
       "    .dataframe tbody tr th {\n",
       "        vertical-align: top;\n",
       "    }\n",
       "\n",
       "    .dataframe thead th {\n",
       "        text-align: right;\n",
       "    }\n",
       "</style>\n",
       "<table border=\"1\" class=\"dataframe\">\n",
       "  <thead>\n",
       "    <tr style=\"text-align: right;\">\n",
       "      <th></th>\n",
       "      <th>LV ActivePower (kW)</th>\n",
       "      <th>Wind Speed (m/s)</th>\n",
       "      <th>Wind Direction (°)</th>\n",
       "    </tr>\n",
       "  </thead>\n",
       "  <tbody>\n",
       "    <tr>\n",
       "      <th>count</th>\n",
       "      <td>31260.000000</td>\n",
       "      <td>31260.000000</td>\n",
       "      <td>31260.000000</td>\n",
       "    </tr>\n",
       "    <tr>\n",
       "      <th>mean</th>\n",
       "      <td>0.437742</td>\n",
       "      <td>0.397220</td>\n",
       "      <td>0.308632</td>\n",
       "    </tr>\n",
       "    <tr>\n",
       "      <th>std</th>\n",
       "      <td>0.345438</td>\n",
       "      <td>0.201435</td>\n",
       "      <td>0.238969</td>\n",
       "    </tr>\n",
       "    <tr>\n",
       "      <th>min</th>\n",
       "      <td>0.000000</td>\n",
       "      <td>0.000000</td>\n",
       "      <td>0.000000</td>\n",
       "    </tr>\n",
       "    <tr>\n",
       "      <th>25%</th>\n",
       "      <td>0.117371</td>\n",
       "      <td>0.239359</td>\n",
       "      <td>0.132403</td>\n",
       "    </tr>\n",
       "    <tr>\n",
       "      <th>50%</th>\n",
       "      <td>0.354227</td>\n",
       "      <td>0.366290</td>\n",
       "      <td>0.186959</td>\n",
       "    </tr>\n",
       "    <tr>\n",
       "      <th>75%</th>\n",
       "      <td>0.762294</td>\n",
       "      <td>0.534926</td>\n",
       "      <td>0.543276</td>\n",
       "    </tr>\n",
       "    <tr>\n",
       "      <th>max</th>\n",
       "      <td>1.000000</td>\n",
       "      <td>1.000000</td>\n",
       "      <td>1.000000</td>\n",
       "    </tr>\n",
       "  </tbody>\n",
       "</table>\n",
       "</div>"
      ],
      "text/plain": [
       "       LV ActivePower (kW)  Wind Speed (m/s)  Wind Direction (°)\n",
       "count         31260.000000      31260.000000        31260.000000\n",
       "mean              0.437742          0.397220            0.308632\n",
       "std               0.345438          0.201435            0.238969\n",
       "min               0.000000          0.000000            0.000000\n",
       "25%               0.117371          0.239359            0.132403\n",
       "50%               0.354227          0.366290            0.186959\n",
       "75%               0.762294          0.534926            0.543276\n",
       "max               1.000000          1.000000            1.000000"
      ]
     },
     "execution_count": 72,
     "metadata": {},
     "output_type": "execute_result"
    }
   ],
   "source": [
    "#Normalização do banco de dados de treinamento segundo o artigo\n",
    "\n",
    "dfn = train_data.copy()\n",
    "\n",
    "i = ['LV ActivePower (kW)', 'Wind Speed (m/s)', 'Wind Direction (°)']\n",
    "for j in i:\n",
    "    a = dfn[j].max()\n",
    "    b = dfn[j].min()\n",
    "    dfn[j] = (dfn[j]-b)/(a-b)\n",
    "    \n",
    "dfn.describe()"
   ]
  },
  {
   "cell_type": "code",
   "execution_count": 73,
   "metadata": {},
   "outputs": [
    {
     "data": {
      "text/html": [
       "<div>\n",
       "<style scoped>\n",
       "    .dataframe tbody tr th:only-of-type {\n",
       "        vertical-align: middle;\n",
       "    }\n",
       "\n",
       "    .dataframe tbody tr th {\n",
       "        vertical-align: top;\n",
       "    }\n",
       "\n",
       "    .dataframe thead th {\n",
       "        text-align: right;\n",
       "    }\n",
       "</style>\n",
       "<table border=\"1\" class=\"dataframe\">\n",
       "  <thead>\n",
       "    <tr style=\"text-align: right;\">\n",
       "      <th></th>\n",
       "      <th>LV ActivePower (kW)</th>\n",
       "      <th>Wind Speed (m/s)</th>\n",
       "      <th>Wind Direction (°)</th>\n",
       "    </tr>\n",
       "  </thead>\n",
       "  <tbody>\n",
       "    <tr>\n",
       "      <th>count</th>\n",
       "      <td>3907.000000</td>\n",
       "      <td>3907.000000</td>\n",
       "      <td>3907.000000</td>\n",
       "    </tr>\n",
       "    <tr>\n",
       "      <th>mean</th>\n",
       "      <td>0.458339</td>\n",
       "      <td>0.382929</td>\n",
       "      <td>0.335191</td>\n",
       "    </tr>\n",
       "    <tr>\n",
       "      <th>std</th>\n",
       "      <td>0.299433</td>\n",
       "      <td>0.172315</td>\n",
       "      <td>0.231567</td>\n",
       "    </tr>\n",
       "    <tr>\n",
       "      <th>min</th>\n",
       "      <td>0.000000</td>\n",
       "      <td>0.000000</td>\n",
       "      <td>0.000000</td>\n",
       "    </tr>\n",
       "    <tr>\n",
       "      <th>25%</th>\n",
       "      <td>0.202529</td>\n",
       "      <td>0.262395</td>\n",
       "      <td>0.167496</td>\n",
       "    </tr>\n",
       "    <tr>\n",
       "      <th>50%</th>\n",
       "      <td>0.386320</td>\n",
       "      <td>0.352292</td>\n",
       "      <td>0.207486</td>\n",
       "    </tr>\n",
       "    <tr>\n",
       "      <th>75%</th>\n",
       "      <td>0.712191</td>\n",
       "      <td>0.486754</td>\n",
       "      <td>0.550442</td>\n",
       "    </tr>\n",
       "    <tr>\n",
       "      <th>max</th>\n",
       "      <td>1.000000</td>\n",
       "      <td>1.000000</td>\n",
       "      <td>1.000000</td>\n",
       "    </tr>\n",
       "  </tbody>\n",
       "</table>\n",
       "</div>"
      ],
      "text/plain": [
       "       LV ActivePower (kW)  Wind Speed (m/s)  Wind Direction (°)\n",
       "count          3907.000000       3907.000000         3907.000000\n",
       "mean              0.458339          0.382929            0.335191\n",
       "std               0.299433          0.172315            0.231567\n",
       "min               0.000000          0.000000            0.000000\n",
       "25%               0.202529          0.262395            0.167496\n",
       "50%               0.386320          0.352292            0.207486\n",
       "75%               0.712191          0.486754            0.550442\n",
       "max               1.000000          1.000000            1.000000"
      ]
     },
     "execution_count": 73,
     "metadata": {},
     "output_type": "execute_result"
    }
   ],
   "source": [
    "# Normalização dos dados de teste segundo o artigo\n",
    "\n",
    "dfnt = test_data.copy()\n",
    "\n",
    "i = ['LV ActivePower (kW)', 'Wind Speed (m/s)', 'Wind Direction (°)']\n",
    "for j in i:\n",
    "    a = dfnt[j].max()\n",
    "    b = dfnt[j].min()\n",
    "    dfnt[j] = (dfnt[j]-b)/(a-b)\n",
    "    \n",
    "dfnt.describe()"
   ]
  },
  {
   "cell_type": "code",
   "execution_count": 74,
   "metadata": {},
   "outputs": [],
   "source": [
    "#Normalização do banco de dados de treinamento \n",
    "\n",
    "#dfn = train_data.copy()\n",
    "\n",
    "#i = ['LV ActivePower (kW)', 'Wind Speed (m/s)', 'Wind Direction (°)']\n",
    "#for j in i:\n",
    "#    a = dfn[j].mean()\n",
    "#    b = dfn[j].std()\n",
    "#    dfn[j] = (dfn[j]-a)/b\n",
    "    \n",
    "#dfn.describe()"
   ]
  },
  {
   "cell_type": "code",
   "execution_count": 75,
   "metadata": {},
   "outputs": [],
   "source": [
    "# Normalização dos dados de teste\n",
    "\n",
    "#dfnt = test_data.copy()\n",
    "\n",
    "#i = ['LV ActivePower (kW)', 'Wind Speed (m/s)', 'Wind Direction (°)']\n",
    "#for j in i:\n",
    "#    a = dfnt[j].mean()\n",
    "#    b = dfnt[j].std()\n",
    "#    dfnt[j] = (dfnt[j]-a)/b\n",
    "    \n",
    "#dfnt.describe()"
   ]
  },
  {
   "cell_type": "markdown",
   "metadata": {},
   "source": [
    "Definindo features e targets"
   ]
  },
  {
   "cell_type": "code",
   "execution_count": 76,
   "metadata": {},
   "outputs": [],
   "source": [
    "features_train, targets_train = dfn[['Wind Speed (m/s)',\"Wind Direction (°)\"]], dfn['LV ActivePower (kW)']\n",
    "features_test, targets_test = dfnt[['Wind Speed (m/s)',\"Wind Direction (°)\"]], dfnt['LV ActivePower (kW)']"
   ]
  },
  {
   "cell_type": "markdown",
   "metadata": {},
   "source": [
    "Transformando dados de treinamento em tensores"
   ]
  },
  {
   "cell_type": "code",
   "execution_count": 77,
   "metadata": {},
   "outputs": [],
   "source": [
    "features_train = torch.from_numpy(np.array(features_train)).double().requires_grad_(True)\n",
    "targets_train = torch.from_numpy(np.array(targets_train)).double().requires_grad_(True)\n",
    "\n",
    "#features_train.requires_grad_(True)\n",
    "#targets_train.requires_grad_(True)"
   ]
  },
  {
   "cell_type": "code",
   "execution_count": 78,
   "metadata": {},
   "outputs": [
    {
     "name": "stdout",
     "output_type": "stream",
     "text": [
      "torch.Size([31260, 2])\n",
      "torch.Size([31260])\n"
     ]
    }
   ],
   "source": [
    "print(features_train.size())\n",
    "print(targets_train.size())"
   ]
  },
  {
   "cell_type": "markdown",
   "metadata": {},
   "source": [
    "### Fase 2: Construção da rede neural"
   ]
  },
  {
   "attachments": {
    "image.png": {
     "image/png": "[encoded data removed]"
    }
   },
   "cell_type": "markdown",
   "metadata": {},
   "source": [
    "O modelo proposto em Schlechtingen e Santos (2011) é uma rede neural do tipo feedforward com 5 neurons na hidden layer, como mostrado na figura a seguir:\n",
    "![image.png](attachment:image.png)\n",
    "\n",
    "Os sinais de input, para o caso específico dessa simulação, serão Velocidade do Vento (Wind Speed) e Direção (Wind Direction), e a saída será a Potência de Saída (Power Output).\n",
    "\n",
    "A função de ativação será a função Sigmoide.\n",
    "\n",
    "Método de treinamento: Gradiente descendente com momento.\n",
    "\n",
    "Pesos iniciados aleatóriamente.\n",
    "\n",
    "\n",
    "\n"
   ]
  },
  {
   "cell_type": "code",
   "execution_count": 79,
   "metadata": {},
   "outputs": [],
   "source": [
    "from torch import nn\n",
    "import torch.nn.functional as F"
   ]
  },
  {
   "cell_type": "code",
   "execution_count": 80,
   "metadata": {},
   "outputs": [
    {
     "data": {
      "text/plain": [
       "Network(\n",
       "  (fc1): Linear(in_features=2, out_features=5, bias=True)\n",
       "  (fc2): Linear(in_features=5, out_features=1, bias=True)\n",
       ")"
      ]
     },
     "execution_count": 80,
     "metadata": {},
     "output_type": "execute_result"
    }
   ],
   "source": [
    "class Network(nn.Module):\n",
    "    def __init__(self):\n",
    "        super().__init__()\n",
    "        \n",
    "        self.fc1 = nn.Linear(2, 5)\n",
    "        self.fc2 = nn.Linear(5, 1)\n",
    "    \n",
    "    def forward(self, x):\n",
    "        x = self.fc1(x)\n",
    "        x = torch.sigmoid(x)\n",
    "        x = self.fc2(x)\n",
    "        x = torch.sigmoid(x)\n",
    "        \n",
    "        return x\n",
    "\n",
    "model = Network().double()\n",
    "model"
   ]
  },
  {
   "cell_type": "markdown",
   "metadata": {},
   "source": [
    "Incializando pesos e bias"
   ]
  },
  {
   "cell_type": "code",
   "execution_count": 81,
   "metadata": {},
   "outputs": [
    {
     "data": {
      "text/plain": [
       "tensor([[-0.0002,  0.0012,  0.0165, -0.0026, -0.0048]], dtype=torch.float64)"
      ]
     },
     "execution_count": 81,
     "metadata": {},
     "output_type": "execute_result"
    }
   ],
   "source": [
    "model.fc1.weight.data.normal_(std = 0.01)\n",
    "model.fc2.weight.data.normal_(std = 0.01)"
   ]
  },
  {
   "cell_type": "code",
   "execution_count": 83,
   "metadata": {},
   "outputs": [
    {
     "data": {
      "text/plain": [
       "tensor([0.4244], dtype=torch.float64, grad_fn=<SigmoidBackward>)"
      ]
     },
     "execution_count": 83,
     "metadata": {},
     "output_type": "execute_result"
    }
   ],
   "source": [
    "#### TESTE\n",
    "\n",
    "ps = model.forward(features_train[0])\n",
    "\n",
    "ps"
   ]
  },
  {
   "cell_type": "markdown",
   "metadata": {},
   "source": [
    "Jeito mais simples de construção do modelo em pytorch, nomeando a rede neural..."
   ]
  },
  {
   "cell_type": "code",
   "execution_count": 84,
   "metadata": {},
   "outputs": [
    {
     "data": {
      "text/plain": [
       "Sequential(\n",
       "  (fc1): Linear(in_features=2, out_features=5, bias=True)\n",
       "  (sig1): Sigmoid()\n",
       "  (fc2): Linear(in_features=5, out_features=1, bias=True)\n",
       "  (sig2): Sigmoid()\n",
       ")"
      ]
     },
     "execution_count": 84,
     "metadata": {},
     "output_type": "execute_result"
    }
   ],
   "source": [
    "from collections import OrderedDict\n",
    "\n",
    "input_size = 2\n",
    "hidden_size = 5\n",
    "output_size = 1\n",
    "\n",
    "model = nn.Sequential(OrderedDict([\n",
    "                    ('fc1', nn.Linear(input_size, hidden_size)),\n",
    "                    ('sig1', nn.Sigmoid()),\n",
    "                    ('fc2', nn.Linear(hidden_size, output_size)),\n",
    "                    ('sig2', nn.Sigmoid())\n",
    "]))\n",
    "\n",
    "model = model.double()\n",
    "\n",
    "model"
   ]
  },
  {
   "cell_type": "code",
   "execution_count": 86,
   "metadata": {},
   "outputs": [
    {
     "data": {
      "text/plain": [
       "tensor([0.3964], dtype=torch.float64, grad_fn=<SigmoidBackward>)"
      ]
     },
     "execution_count": 86,
     "metadata": {},
     "output_type": "execute_result"
    }
   ],
   "source": [
    "### TESTE\n",
    "\n",
    "ps = model.forward(features_train[0])\n",
    "\n",
    "ps\n"
   ]
  },
  {
   "cell_type": "code",
   "execution_count": 87,
   "metadata": {},
   "outputs": [
    {
     "name": "stdout",
     "output_type": "stream",
     "text": [
      "Parameter containing:\n",
      "tensor([[-0.7004,  0.6030],\n",
      "        [ 0.1031, -0.6825],\n",
      "        [-0.4219,  0.2672],\n",
      "        [ 0.1278,  0.2138],\n",
      "        [ 0.0372,  0.5850]], dtype=torch.float64, requires_grad=True)\n",
      "Parameter containing:\n",
      "tensor([[ 0.2331,  0.4145, -0.1363, -0.3303, -0.3681]], dtype=torch.float64,\n",
      "       requires_grad=True)\n"
     ]
    }
   ],
   "source": [
    "print(model.fc1.weight)\n",
    "print(model.fc2.weight)"
   ]
  },
  {
   "cell_type": "markdown",
   "metadata": {},
   "source": [
    "### Fase 3: Treinamento da rede neural"
   ]
  },
  {
   "cell_type": "markdown",
   "metadata": {},
   "source": [
    "A rede neural será treinada através de Gradient Descent, ou gradiente descendente."
   ]
  },
  {
   "cell_type": "code",
   "execution_count": 88,
   "metadata": {},
   "outputs": [],
   "source": [
    "import time\n",
    "\n",
    "from torch import optim"
   ]
  },
  {
   "cell_type": "code",
   "execution_count": 89,
   "metadata": {},
   "outputs": [],
   "source": [
    "#criterion = nn.CrossEntropyLoss() #Função erro # não funciona\n",
    "\n",
    "def criterion(output, targets):  # acredito que esteja errado\n",
    "    return targets - output\n",
    "\n",
    "optimizer = optim.SGD(model.parameters(), lr = 0.01, momentum = 0.9)    #atualiza os pesos na rede \n",
    "                                                                        #SGD = stochastic gradiente descent"
   ]
  },
  {
   "cell_type": "markdown",
   "metadata": {},
   "source": [
    "Treinamento"
   ]
  },
  {
   "cell_type": "code",
   "execution_count": 90,
   "metadata": {},
   "outputs": [
    {
     "name": "stdout",
     "output_type": "stream",
     "text": [
      "Epoch: 40/1... Loss: -0.339235\n",
      "Epoch: 80/1... Loss: -0.745059\n",
      "Epoch: 120/1... Loss: -0.381007\n",
      "Epoch: 160/1... Loss: -0.009859\n",
      "Epoch: 200/1... Loss: -0.043121\n",
      "Epoch: 240/1... Loss: -0.069973\n",
      "Epoch: 280/1... Loss: -0.142761\n",
      "Epoch: 320/1... Loss: -0.607099\n",
      "Epoch: 360/1... Loss: -0.700470\n",
      "Epoch: 400/1... Loss: -0.824548\n",
      "Epoch: 440/1... Loss: -0.613093\n",
      "Epoch: 480/1... Loss: -0.644482\n",
      "Epoch: 520/1... Loss: -0.782699\n",
      "Epoch: 560/1... Loss: -0.829279\n",
      "Epoch: 600/1... Loss: -0.930193\n",
      "Epoch: 640/1... Loss: -0.195085\n",
      "Epoch: 680/1... Loss: -0.057780\n",
      "Epoch: 720/1... Loss: -0.151767\n",
      "Epoch: 760/1... Loss: -0.039040\n",
      "Epoch: 800/1... Loss: -0.467277\n",
      "Epoch: 840/1... Loss: -0.871028\n",
      "Epoch: 880/1... Loss: -0.863641\n",
      "Epoch: 920/1... Loss: -0.865006\n",
      "Epoch: 960/1... Loss: -0.928989\n",
      "Epoch: 1000/1... Loss: -0.774001\n",
      "Epoch: 1040/1... Loss: -0.845198\n",
      "Epoch: 1080/1... Loss: -0.811024\n",
      "Epoch: 1120/1... Loss: -0.822812\n",
      "Epoch: 1160/1... Loss: -0.579798\n",
      "Epoch: 1200/1... Loss: -0.561138\n",
      "Epoch: 1240/1... Loss: -0.944367\n",
      "Epoch: 1280/1... Loss: -0.778866\n",
      "Epoch: 1320/1... Loss: -0.197330\n",
      "Epoch: 1360/1... Loss: -0.027542\n",
      "Epoch: 1400/1... Loss: -0.314992\n",
      "Epoch: 1440/1... Loss: -0.796561\n",
      "Epoch: 1480/1... Loss: -0.733913\n",
      "Epoch: 1520/1... Loss: -0.278256\n",
      "Epoch: 1560/1... Loss: -0.098356\n",
      "Epoch: 1600/1... Loss: -0.041562\n",
      "Epoch: 1640/1... Loss: -0.056244\n",
      "Epoch: 1680/1... Loss: -0.048897\n",
      "Epoch: 1720/1... Loss: -0.038946\n",
      "Epoch: 1760/1... Loss: -0.322277\n",
      "Epoch: 1800/1... Loss: -0.401312\n",
      "Epoch: 1840/1... Loss: -0.245478\n",
      "Epoch: 1880/1... Loss: -0.570071\n",
      "Epoch: 1920/1... Loss: -0.456816\n",
      "Epoch: 1960/1... Loss: -0.072717\n",
      "Epoch: 2000/1... Loss: -0.003377\n",
      "Epoch: 2040/1... Loss: -0.034017\n",
      "Epoch: 2080/1... Loss: -0.050970\n",
      "Epoch: 2120/1... Loss: -0.104128\n",
      "Epoch: 2160/1... Loss: -0.144777\n",
      "Epoch: 2200/1... Loss: -0.035960\n",
      "Epoch: 2240/1... Loss: -0.255011\n",
      "Epoch: 2280/1... Loss: -0.911204\n",
      "Epoch: 2320/1... Loss: -0.727718\n",
      "Epoch: 2360/1... Loss: -0.293434\n",
      "Epoch: 2400/1... Loss: -0.799698\n",
      "Epoch: 2440/1... Loss: -0.912916\n",
      "Epoch: 2480/1... Loss: -0.819874\n",
      "Epoch: 2520/1... Loss: -0.673837\n",
      "Epoch: 2560/1... Loss: -0.940166\n",
      "Epoch: 2600/1... Loss: -0.475218\n",
      "Epoch: 2640/1... Loss: -0.012374\n",
      "Epoch: 2680/1... Loss: -0.024970\n",
      "Epoch: 2720/1... Loss: -0.019990\n",
      "Epoch: 2760/1... Loss: -0.003612\n",
      "Epoch: 2800/1... Loss: -0.007347\n",
      "Epoch: 2840/1... Loss: -0.003505\n",
      "Epoch: 2880/1... Loss: -0.010663\n",
      "Epoch: 2920/1... Loss: -0.620742\n",
      "Epoch: 2960/1... Loss: -0.882421\n",
      "Epoch: 3000/1... Loss: -0.657845\n",
      "Epoch: 3040/1... Loss: -0.571518\n",
      "Epoch: 3080/1... Loss: -0.390276\n",
      "Epoch: 3120/1... Loss: -0.479336\n",
      "Epoch: 3160/1... Loss: -0.937641\n",
      "Epoch: 3200/1... Loss: -0.951337\n",
      "Epoch: 3240/1... Loss: -0.857279\n",
      "Epoch: 3280/1... Loss: -0.508822\n",
      "Epoch: 3320/1... Loss: -0.219527\n",
      "Epoch: 3360/1... Loss: -0.146917\n",
      "Epoch: 3400/1... Loss: -0.126404\n",
      "Epoch: 3440/1... Loss: -0.309701\n",
      "Epoch: 3480/1... Loss: -0.196488\n",
      "Epoch: 3520/1... Loss: -0.696601\n",
      "Epoch: 3560/1... Loss: -0.942222\n",
      "Epoch: 3600/1... Loss: -0.782897\n",
      "Epoch: 3640/1... Loss: -0.866361\n",
      "Epoch: 3680/1... Loss: -0.771053\n",
      "Epoch: 3720/1... Loss: -0.435470\n",
      "Epoch: 3760/1... Loss: -0.053319\n",
      "Epoch: 3800/1... Loss: -0.325649\n",
      "Epoch: 3840/1... Loss: -0.870015\n",
      "Epoch: 3880/1... Loss: -0.939706\n",
      "Epoch: 3920/1... Loss: -0.174542\n",
      "Epoch: 3960/1... Loss: -0.021862\n",
      "Epoch: 4000/1... Loss: -0.041068\n",
      "Epoch: 4040/1... Loss: -0.082772\n",
      "Epoch: 4080/1... Loss: -0.210364\n",
      "Epoch: 4120/1... Loss: -0.571609\n",
      "Epoch: 4160/1... Loss: -0.811661\n",
      "Epoch: 4200/1... Loss: -0.301113\n",
      "Epoch: 4240/1... Loss: -0.229620\n",
      "Epoch: 4280/1... Loss: -0.481894\n",
      "Epoch: 4320/1... Loss: -0.431488\n",
      "Epoch: 4360/1... Loss: -0.567888\n",
      "Epoch: 4400/1... Loss: -0.493722\n",
      "Epoch: 4440/1... Loss: -0.506679\n",
      "Epoch: 4480/1... Loss: -0.603451\n",
      "Epoch: 4520/1... Loss: -0.976692\n",
      "Epoch: 4560/1... Loss: -0.480706\n",
      "Epoch: 4600/1... Loss: -0.120726\n",
      "Epoch: 4640/1... Loss: -0.229017\n",
      "Epoch: 4680/1... Loss: -0.334791\n",
      "Epoch: 4720/1... Loss: -0.657814\n",
      "Epoch: 4760/1... Loss: -0.933470\n",
      "Epoch: 4800/1... Loss: -0.965060\n",
      "Epoch: 4840/1... Loss: -0.783141\n",
      "Epoch: 4880/1... Loss: -0.877423\n",
      "Epoch: 4920/1... Loss: -0.570834\n",
      "Epoch: 4960/1... Loss: -0.548913\n",
      "Epoch: 5000/1... Loss: -0.802953\n",
      "Epoch: 5040/1... Loss: -0.796497\n",
      "Epoch: 5080/1... Loss: -0.679237\n",
      "Epoch: 5120/1... Loss: -0.931381\n",
      "Epoch: 5160/1... Loss: -0.947442\n",
      "Epoch: 5200/1... Loss: -0.834303\n",
      "Epoch: 5240/1... Loss: -0.242513\n",
      "Epoch: 5280/1... Loss: -0.337291\n",
      "Epoch: 5320/1... Loss: -0.711492\n",
      "Epoch: 5360/1... Loss: -0.069868\n",
      "Epoch: 5400/1... Loss: -0.307356\n",
      "Epoch: 5440/1... Loss: -0.536149\n",
      "Epoch: 5480/1... Loss: -0.036000\n",
      "Epoch: 5520/1... Loss: -0.036830\n",
      "Epoch: 5560/1... Loss: -0.183004\n",
      "Epoch: 5600/1... Loss: -0.042168\n",
      "Epoch: 5640/1... Loss: -0.035162\n",
      "Epoch: 5680/1... Loss: -0.013020\n",
      "Epoch: 5720/1... Loss: -0.012899\n",
      "Epoch: 5760/1... Loss: -0.020486\n",
      "Epoch: 5800/1... Loss: -0.732461\n",
      "Epoch: 5840/1... Loss: -0.919895\n",
      "Epoch: 5880/1... Loss: -0.406665\n",
      "Epoch: 5920/1... Loss: -0.204898\n",
      "Epoch: 5960/1... Loss: -0.028872\n",
      "Epoch: 6000/1... Loss: -0.029709\n",
      "Epoch: 6040/1... Loss: -0.035940\n",
      "Epoch: 6080/1... Loss: -0.070030\n",
      "Epoch: 6120/1... Loss: -0.090354\n",
      "Epoch: 6160/1... Loss: -0.104201\n",
      "Epoch: 6200/1... Loss: -0.348478\n",
      "Epoch: 6240/1... Loss: -0.549993\n",
      "Epoch: 6280/1... Loss: -0.965220\n",
      "Epoch: 6320/1... Loss: -0.778428\n",
      "Epoch: 6360/1... Loss: -0.178314\n",
      "Epoch: 6400/1... Loss: -0.654972\n",
      "Epoch: 6440/1... Loss: -0.902420\n",
      "Epoch: 6480/1... Loss: -0.793144\n",
      "Epoch: 6520/1... Loss: -0.645333\n",
      "Epoch: 6560/1... Loss: -0.666804\n",
      "Epoch: 6600/1... Loss: -0.067502\n",
      "Epoch: 6640/1... Loss: -0.086251\n",
      "Epoch: 6680/1... Loss: -0.238632\n",
      "Epoch: 6720/1... Loss: -0.297322\n",
      "Epoch: 6760/1... Loss: -0.003944\n",
      "Epoch: 6800/1... Loss: -0.076107\n",
      "Epoch: 6840/1... Loss: -0.261339\n",
      "Epoch: 6880/1... Loss: -0.503907\n",
      "Epoch: 6920/1... Loss: -0.253973\n",
      "Epoch: 6960/1... Loss: -0.606488\n",
      "Epoch: 7000/1... Loss: -0.749900\n",
      "Epoch: 7040/1... Loss: -0.548976\n",
      "Epoch: 7080/1... Loss: -0.439213\n",
      "Epoch: 7120/1... Loss: -0.321906\n",
      "Epoch: 7160/1... Loss: -0.003896\n",
      "Epoch: 7200/1... Loss: -0.015558\n",
      "Epoch: 7240/1... Loss: -0.055653\n",
      "Epoch: 7280/1... Loss: -0.003928\n",
      "Epoch: 7320/1... Loss: -0.093229\n",
      "Epoch: 7360/1... Loss: -0.068759\n",
      "Epoch: 7400/1... Loss: -0.441677\n",
      "Epoch: 7440/1... Loss: -0.604693\n",
      "Epoch: 7480/1... Loss: -0.775195\n",
      "Epoch: 7520/1... Loss: -0.079674\n",
      "Epoch: 7560/1... Loss: -0.020159\n",
      "Epoch: 7600/1... Loss: -0.468349\n",
      "Epoch: 7640/1... Loss: -0.159451\n",
      "Epoch: 7680/1... Loss: -0.102326\n",
      "Epoch: 7720/1... Loss: -0.355944\n",
      "Epoch: 7760/1... Loss: -0.268915\n",
      "Epoch: 7800/1... Loss: -0.850607\n",
      "Epoch: 7840/1... Loss: -0.388833\n",
      "Epoch: 7880/1... Loss: -0.135827\n",
      "Epoch: 7920/1... Loss: -0.527302\n",
      "Epoch: 7960/1... Loss: -0.188841\n",
      "Epoch: 8000/1... Loss: -0.386942\n",
      "Epoch: 8040/1... Loss: -0.680917\n",
      "Epoch: 8080/1... Loss: -0.777815\n",
      "Epoch: 8120/1... Loss: -0.935504\n",
      "Epoch: 8160/1... Loss: -0.879247\n",
      "Epoch: 8200/1... Loss: -0.919995\n",
      "Epoch: 8240/1... Loss: -0.792334\n",
      "Epoch: 8280/1... Loss: -0.376506\n",
      "Epoch: 8320/1... Loss: -0.013441\n",
      "Epoch: 8360/1... Loss: -0.120363\n",
      "Epoch: 8400/1... Loss: -0.803462\n",
      "Epoch: 8440/1... Loss: -0.176536\n",
      "Epoch: 8480/1... Loss: -0.054978\n",
      "Epoch: 8520/1... Loss: -0.274841\n",
      "Epoch: 8560/1... Loss: -0.445736\n",
      "Epoch: 8600/1... Loss: -0.858842\n",
      "Epoch: 8640/1... Loss: -0.671562\n",
      "Epoch: 8680/1... Loss: -0.267509\n",
      "Epoch: 8720/1... Loss: -0.154514\n",
      "Epoch: 8760/1... Loss: -0.431027\n",
      "Epoch: 8800/1... Loss: -0.947984\n",
      "Epoch: 8840/1... Loss: -0.881376\n",
      "Epoch: 8880/1... Loss: -0.501344\n",
      "Epoch: 8920/1... Loss: -0.817486\n",
      "Epoch: 8960/1... Loss: -0.183330\n",
      "Epoch: 9000/1... Loss: -0.003951\n",
      "Epoch: 9040/1... Loss: -0.034145\n",
      "Epoch: 9080/1... Loss: -0.446165\n",
      "Epoch: 9120/1... Loss: -0.856991\n",
      "Epoch: 9160/1... Loss: -0.743113\n",
      "Epoch: 9200/1... Loss: -0.940542\n",
      "Epoch: 9240/1... Loss: -0.972694\n",
      "Epoch: 9280/1... Loss: -0.973348\n",
      "Epoch: 9320/1... Loss: -0.538627\n",
      "Epoch: 9360/1... Loss: -0.323015\n",
      "Epoch: 9400/1... Loss: -0.902699\n",
      "Epoch: 9440/1... Loss: -0.751654\n",
      "Epoch: 9480/1... Loss: -0.614248\n",
      "Epoch: 9520/1... Loss: -0.621313\n",
      "Epoch: 9560/1... Loss: -0.556862\n",
      "Epoch: 9600/1... Loss: -0.926603\n",
      "Epoch: 9640/1... Loss: -0.850392\n",
      "Epoch: 9680/1... Loss: -0.823954\n",
      "Epoch: 9720/1... Loss: -0.960989\n",
      "Epoch: 9760/1... Loss: -0.966198\n",
      "Epoch: 9800/1... Loss: -0.964755\n",
      "Epoch: 9840/1... Loss: -0.980423\n",
      "Epoch: 9880/1... Loss: -0.922389\n",
      "Epoch: 9920/1... Loss: -0.185750\n",
      "Epoch: 9960/1... Loss: -0.027274\n"
     ]
    },
    {
     "name": "stdout",
     "output_type": "stream",
     "text": [
      "Epoch: 10000/1... Loss: -0.242399\n",
      "Epoch: 10040/1... Loss: -0.187256\n",
      "Epoch: 10080/1... Loss: -0.221553\n",
      "Epoch: 10120/1... Loss: -0.886415\n",
      "Epoch: 10160/1... Loss: -0.946192\n",
      "Epoch: 10200/1... Loss: -0.916590\n",
      "Epoch: 10240/1... Loss: -0.855381\n",
      "Epoch: 10280/1... Loss: -0.913963\n",
      "Epoch: 10320/1... Loss: -0.781770\n",
      "Epoch: 10360/1... Loss: -0.818370\n",
      "Epoch: 10400/1... Loss: -0.303549\n",
      "Epoch: 10440/1... Loss: -0.004114\n",
      "Epoch: 10480/1... Loss: -0.367556\n",
      "Epoch: 10520/1... Loss: -0.190283\n",
      "Epoch: 10560/1... Loss: -0.574287\n",
      "Epoch: 10600/1... Loss: -0.621331\n",
      "Epoch: 10640/1... Loss: -0.169140\n",
      "Epoch: 10680/1... Loss: -0.313108\n",
      "Epoch: 10720/1... Loss: -0.597076\n",
      "Epoch: 10760/1... Loss: -0.676682\n",
      "Epoch: 10800/1... Loss: -0.829237\n",
      "Epoch: 10840/1... Loss: -0.936126\n",
      "Epoch: 10880/1... Loss: -0.925612\n",
      "Epoch: 10920/1... Loss: -0.855718\n",
      "Epoch: 10960/1... Loss: -0.902387\n",
      "Epoch: 11000/1... Loss: -0.962430\n",
      "Epoch: 11040/1... Loss: -0.904189\n",
      "Epoch: 11080/1... Loss: -0.894532\n",
      "Epoch: 11120/1... Loss: -0.863890\n",
      "Epoch: 11160/1... Loss: -0.840074\n",
      "Epoch: 11200/1... Loss: -0.823435\n",
      "Epoch: 11240/1... Loss: -0.912754\n",
      "Epoch: 11280/1... Loss: -0.839579\n",
      "Epoch: 11320/1... Loss: -0.392099\n",
      "Epoch: 11360/1... Loss: -0.100127\n",
      "Epoch: 11400/1... Loss: -0.152739\n",
      "Epoch: 11440/1... Loss: -0.425644\n",
      "Epoch: 11480/1... Loss: -0.037785\n",
      "Epoch: 11520/1... Loss: -0.637349\n",
      "Epoch: 11560/1... Loss: -0.654233\n",
      "Epoch: 11600/1... Loss: -0.698459\n",
      "Epoch: 11640/1... Loss: -0.947713\n",
      "Epoch: 11680/1... Loss: -0.848383\n",
      "Epoch: 11720/1... Loss: -0.956535\n",
      "Epoch: 11760/1... Loss: -0.980659\n",
      "Epoch: 11800/1... Loss: -0.954638\n",
      "Epoch: 11840/1... Loss: -0.931260\n",
      "Epoch: 11880/1... Loss: -0.841870\n",
      "Epoch: 11920/1... Loss: -0.874940\n",
      "Epoch: 11960/1... Loss: -0.646419\n",
      "Epoch: 12000/1... Loss: -0.806166\n",
      "Epoch: 12040/1... Loss: -0.765672\n",
      "Epoch: 12080/1... Loss: -0.789008\n",
      "Epoch: 12120/1... Loss: -0.463658\n",
      "Epoch: 12160/1... Loss: -0.780889\n",
      "Epoch: 12200/1... Loss: -0.805526\n",
      "Epoch: 12240/1... Loss: -0.719109\n",
      "Epoch: 12280/1... Loss: -0.947000\n",
      "Epoch: 12320/1... Loss: -0.933447\n",
      "Epoch: 12360/1... Loss: -0.865145\n",
      "Epoch: 12400/1... Loss: -0.877901\n",
      "Epoch: 12440/1... Loss: -0.917384\n",
      "Epoch: 12480/1... Loss: -0.897093\n",
      "Epoch: 12520/1... Loss: -0.937339\n",
      "Epoch: 12560/1... Loss: -0.916990\n",
      "Epoch: 12600/1... Loss: -0.846457\n",
      "Epoch: 12640/1... Loss: -0.763365\n",
      "Epoch: 12680/1... Loss: -0.241306\n",
      "Epoch: 12720/1... Loss: -0.330571\n",
      "Epoch: 12760/1... Loss: -0.440893\n",
      "Epoch: 12800/1... Loss: -0.326426\n",
      "Epoch: 12840/1... Loss: -0.734456\n",
      "Epoch: 12880/1... Loss: -0.908692\n",
      "Epoch: 12920/1... Loss: -0.968656\n",
      "Epoch: 12960/1... Loss: -0.941715\n",
      "Epoch: 13000/1... Loss: -0.802788\n",
      "Epoch: 13040/1... Loss: -0.135083\n",
      "Epoch: 13080/1... Loss: -0.545520\n",
      "Epoch: 13120/1... Loss: -0.928705\n",
      "Epoch: 13160/1... Loss: -0.345023\n",
      "Epoch: 13200/1... Loss: -0.558070\n",
      "Epoch: 13240/1... Loss: -0.738803\n",
      "Epoch: 13280/1... Loss: -0.800426\n",
      "Epoch: 13320/1... Loss: -0.832636\n",
      "Epoch: 13360/1... Loss: -0.963771\n",
      "Epoch: 13400/1... Loss: -0.965404\n",
      "Epoch: 13440/1... Loss: -0.907518\n",
      "Epoch: 13480/1... Loss: -0.854724\n",
      "Epoch: 13520/1... Loss: -0.795978\n",
      "Epoch: 13560/1... Loss: -0.699438\n",
      "Epoch: 13600/1... Loss: -0.614874\n",
      "Epoch: 13640/1... Loss: -0.622159\n",
      "Epoch: 13680/1... Loss: -0.407416\n",
      "Epoch: 13720/1... Loss: -0.586280\n",
      "Epoch: 13760/1... Loss: -0.679515\n",
      "Epoch: 13800/1... Loss: -0.858568\n",
      "Epoch: 13840/1... Loss: -0.861473\n",
      "Epoch: 13880/1... Loss: -0.989224\n",
      "Epoch: 13920/1... Loss: -0.932312\n",
      "Epoch: 13960/1... Loss: -0.956137\n",
      "Epoch: 14000/1... Loss: -0.768052\n",
      "Epoch: 14040/1... Loss: -0.745191\n",
      "Epoch: 14080/1... Loss: -0.675339\n",
      "Epoch: 14120/1... Loss: -0.523847\n",
      "Epoch: 14160/1... Loss: -0.317218\n",
      "Epoch: 14200/1... Loss: -0.431565\n",
      "Epoch: 14240/1... Loss: -0.543247\n",
      "Epoch: 14280/1... Loss: -0.147302\n",
      "Epoch: 14320/1... Loss: -0.218532\n",
      "Epoch: 14360/1... Loss: -0.424222\n",
      "Epoch: 14400/1... Loss: -0.661285\n",
      "Epoch: 14440/1... Loss: -0.549708\n",
      "Epoch: 14480/1... Loss: -0.558798\n",
      "Epoch: 14520/1... Loss: -0.583211\n",
      "Epoch: 14560/1... Loss: -0.347443\n",
      "Epoch: 14600/1... Loss: -0.635838\n",
      "Epoch: 14640/1... Loss: -0.860047\n",
      "Epoch: 14680/1... Loss: -0.837026\n",
      "Epoch: 14720/1... Loss: -0.284972\n",
      "Epoch: 14760/1... Loss: -0.591482\n",
      "Epoch: 14800/1... Loss: -0.615534\n",
      "Epoch: 14840/1... Loss: -0.271491\n",
      "Epoch: 14880/1... Loss: -0.383205\n",
      "Epoch: 14920/1... Loss: -0.640976\n",
      "Epoch: 14960/1... Loss: -0.802345\n",
      "Epoch: 15000/1... Loss: -0.705923\n",
      "Epoch: 15040/1... Loss: -0.612583\n",
      "Epoch: 15080/1... Loss: -0.678916\n",
      "Epoch: 15120/1... Loss: -0.729045\n",
      "Epoch: 15160/1... Loss: -0.238457\n",
      "Epoch: 15200/1... Loss: -0.540123\n",
      "Epoch: 15240/1... Loss: -0.831542\n",
      "Epoch: 15280/1... Loss: -0.715955\n",
      "Epoch: 15320/1... Loss: -0.687670\n",
      "Epoch: 15360/1... Loss: -0.744708\n",
      "Epoch: 15400/1... Loss: -0.960273\n",
      "Epoch: 15440/1... Loss: -0.927667\n",
      "Epoch: 15480/1... Loss: -0.976257\n",
      "Epoch: 15520/1... Loss: -0.970691\n",
      "Epoch: 15560/1... Loss: -0.953191\n",
      "Epoch: 15600/1... Loss: -0.946915\n",
      "Epoch: 15640/1... Loss: -0.825382\n",
      "Epoch: 15680/1... Loss: -0.926713\n",
      "Epoch: 15720/1... Loss: -0.761688\n",
      "Epoch: 15760/1... Loss: -0.844842\n",
      "Epoch: 15800/1... Loss: -0.887752\n",
      "Epoch: 15840/1... Loss: -0.944581\n",
      "Epoch: 15880/1... Loss: -0.892454\n",
      "Epoch: 15920/1... Loss: -0.941289\n",
      "Epoch: 15960/1... Loss: -0.892144\n",
      "Epoch: 16000/1... Loss: -0.299011\n",
      "Epoch: 16040/1... Loss: -0.174513\n",
      "Epoch: 16080/1... Loss: -0.089620\n",
      "Epoch: 16120/1... Loss: -0.223195\n",
      "Epoch: 16160/1... Loss: -0.022043\n",
      "Epoch: 16200/1... Loss: -0.004229\n",
      "Epoch: 16240/1... Loss: -0.306620\n",
      "Epoch: 16280/1... Loss: -0.481912\n",
      "Epoch: 16320/1... Loss: -0.606317\n",
      "Epoch: 16360/1... Loss: -0.746849\n",
      "Epoch: 16400/1... Loss: -0.908024\n",
      "Epoch: 16440/1... Loss: -0.800835\n",
      "Epoch: 16480/1... Loss: -0.730045\n",
      "Epoch: 16520/1... Loss: -0.710129\n",
      "Epoch: 16560/1... Loss: -0.783630\n",
      "Epoch: 16600/1... Loss: -0.522409\n",
      "Epoch: 16640/1... Loss: -0.859522\n",
      "Epoch: 16680/1... Loss: -0.650866\n",
      "Epoch: 16720/1... Loss: -0.967883\n",
      "Epoch: 16760/1... Loss: -0.970680\n",
      "Epoch: 16800/1... Loss: -0.877455\n",
      "Epoch: 16840/1... Loss: -0.916603\n",
      "Epoch: 16880/1... Loss: -0.844489\n",
      "Epoch: 16920/1... Loss: -0.325644\n",
      "Epoch: 16960/1... Loss: -0.442768\n",
      "Epoch: 17000/1... Loss: -0.709132\n",
      "Epoch: 17040/1... Loss: -0.677837\n",
      "Epoch: 17080/1... Loss: -0.532655\n",
      "Epoch: 17120/1... Loss: -0.718701\n",
      "Epoch: 17160/1... Loss: -0.860852\n",
      "Epoch: 17200/1... Loss: -0.974024\n",
      "Epoch: 17240/1... Loss: -0.651368\n",
      "Epoch: 17280/1... Loss: -0.871549\n",
      "Epoch: 17320/1... Loss: -0.595161\n",
      "Epoch: 17360/1... Loss: -0.566573\n",
      "Epoch: 17400/1... Loss: -0.562411\n",
      "Epoch: 17440/1... Loss: -0.300727\n",
      "Epoch: 17480/1... Loss: -0.220796\n",
      "Epoch: 17520/1... Loss: -0.351962\n",
      "Epoch: 17560/1... Loss: -0.352439\n",
      "Epoch: 17600/1... Loss: -0.463159\n",
      "Epoch: 17640/1... Loss: -0.322912\n",
      "Epoch: 17680/1... Loss: -0.296134\n",
      "Epoch: 17720/1... Loss: -0.802879\n",
      "Epoch: 17760/1... Loss: -0.851895\n",
      "Epoch: 17800/1... Loss: -0.716743\n",
      "Epoch: 17840/1... Loss: -0.690143\n",
      "Epoch: 17880/1... Loss: -0.450008\n",
      "Epoch: 17920/1... Loss: -0.771374\n",
      "Epoch: 17960/1... Loss: -0.540253\n",
      "Epoch: 18000/1... Loss: -0.707350\n",
      "Epoch: 18040/1... Loss: -0.554552\n",
      "Epoch: 18080/1... Loss: -0.438444\n",
      "Epoch: 18120/1... Loss: -0.676139\n",
      "Epoch: 18160/1... Loss: -0.209524\n",
      "Epoch: 18200/1... Loss: -0.346401\n",
      "Epoch: 18240/1... Loss: -0.519991\n",
      "Epoch: 18280/1... Loss: -0.557748\n",
      "Epoch: 18320/1... Loss: -0.631500\n",
      "Epoch: 18360/1... Loss: -0.931468\n",
      "Epoch: 18400/1... Loss: -0.895650\n",
      "Epoch: 18440/1... Loss: -0.696707\n",
      "Epoch: 18480/1... Loss: -0.756260\n",
      "Epoch: 18520/1... Loss: -0.502449\n",
      "Epoch: 18560/1... Loss: -0.809040\n",
      "Epoch: 18600/1... Loss: -0.976737\n",
      "Epoch: 18640/1... Loss: -0.814338\n",
      "Epoch: 18680/1... Loss: -0.630450\n",
      "Epoch: 18720/1... Loss: -0.572632\n",
      "Epoch: 18760/1... Loss: -0.865754\n",
      "Epoch: 18800/1... Loss: -0.821852\n",
      "Epoch: 18840/1... Loss: -0.854045\n",
      "Epoch: 18880/1... Loss: -0.937282\n",
      "Epoch: 18920/1... Loss: -0.792482\n",
      "Epoch: 18960/1... Loss: -0.934305\n",
      "Epoch: 19000/1... Loss: -0.972910\n",
      "Epoch: 19040/1... Loss: -0.916339\n",
      "Epoch: 19080/1... Loss: -0.888597\n",
      "Epoch: 19120/1... Loss: -0.837348\n",
      "Epoch: 19160/1... Loss: -0.688306\n",
      "Epoch: 19200/1... Loss: -0.670938\n",
      "Epoch: 19240/1... Loss: -0.561738\n",
      "Epoch: 19280/1... Loss: -0.857296\n",
      "Epoch: 19320/1... Loss: -0.838988\n",
      "Epoch: 19360/1... Loss: -0.976118\n",
      "Epoch: 19400/1... Loss: -0.948146\n",
      "Epoch: 19440/1... Loss: -0.893041\n",
      "Epoch: 19480/1... Loss: -0.927939\n",
      "Epoch: 19520/1... Loss: -0.956414\n",
      "Epoch: 19560/1... Loss: -0.771894\n"
     ]
    },
    {
     "name": "stdout",
     "output_type": "stream",
     "text": [
      "Epoch: 19600/1... Loss: -0.530395\n",
      "Epoch: 19640/1... Loss: -0.333835\n",
      "Epoch: 19680/1... Loss: -0.417078\n",
      "Epoch: 19720/1... Loss: -0.587825\n",
      "Epoch: 19760/1... Loss: -0.578547\n",
      "Epoch: 19800/1... Loss: -0.674360\n",
      "Epoch: 19840/1... Loss: -0.632623\n",
      "Epoch: 19880/1... Loss: -0.612557\n",
      "Epoch: 19920/1... Loss: -0.566308\n",
      "Epoch: 19960/1... Loss: -0.826591\n",
      "Epoch: 20000/1... Loss: -0.870222\n",
      "Epoch: 20040/1... Loss: -0.632741\n",
      "Epoch: 20080/1... Loss: -0.732620\n",
      "Epoch: 20120/1... Loss: -0.922934\n",
      "Epoch: 20160/1... Loss: -0.786219\n",
      "Epoch: 20200/1... Loss: -0.918076\n",
      "Epoch: 20240/1... Loss: -0.976281\n",
      "Epoch: 20280/1... Loss: -0.970541\n",
      "Epoch: 20320/1... Loss: -0.899494\n",
      "Epoch: 20360/1... Loss: -0.926741\n",
      "Epoch: 20400/1... Loss: -0.904206\n",
      "Epoch: 20440/1... Loss: -0.900785\n",
      "Epoch: 20480/1... Loss: -0.898641\n",
      "Epoch: 20520/1... Loss: -0.834725\n",
      "Epoch: 20560/1... Loss: -0.821096\n",
      "Epoch: 20600/1... Loss: -0.954477\n",
      "Epoch: 20640/1... Loss: -0.880295\n",
      "Epoch: 20680/1... Loss: -0.958056\n",
      "Epoch: 20720/1... Loss: -0.934126\n",
      "Epoch: 20760/1... Loss: -0.881625\n",
      "Epoch: 20800/1... Loss: -0.934045\n",
      "Epoch: 20840/1... Loss: -0.959853\n",
      "Epoch: 20880/1... Loss: -0.940428\n",
      "Epoch: 20920/1... Loss: -0.661468\n",
      "Epoch: 20960/1... Loss: -0.937926\n",
      "Epoch: 21000/1... Loss: -0.955251\n",
      "Epoch: 21040/1... Loss: -0.974096\n",
      "Epoch: 21080/1... Loss: -0.932259\n",
      "Epoch: 21120/1... Loss: -0.919372\n",
      "Epoch: 21160/1... Loss: -0.941231\n",
      "Epoch: 21200/1... Loss: -0.964684\n",
      "Epoch: 21240/1... Loss: -0.948789\n",
      "Epoch: 21280/1... Loss: -0.898670\n",
      "Epoch: 21320/1... Loss: -0.747376\n",
      "Epoch: 21360/1... Loss: -0.646209\n",
      "Epoch: 21400/1... Loss: -0.683470\n",
      "Epoch: 21440/1... Loss: -0.709133\n",
      "Epoch: 21480/1... Loss: -0.830038\n",
      "Epoch: 21520/1... Loss: -0.774891\n",
      "Epoch: 21560/1... Loss: -0.829974\n",
      "Epoch: 21600/1... Loss: -0.721772\n",
      "Epoch: 21640/1... Loss: -0.621315\n",
      "Epoch: 21680/1... Loss: -0.752085\n",
      "Epoch: 21720/1... Loss: -0.283729\n",
      "Epoch: 21760/1... Loss: -0.385759\n",
      "Epoch: 21800/1... Loss: -0.597008\n",
      "Epoch: 21840/1... Loss: -0.540468\n",
      "Epoch: 21880/1... Loss: -0.128479\n",
      "Epoch: 21920/1... Loss: -0.062084\n",
      "Epoch: 21960/1... Loss: -0.179356\n",
      "Epoch: 22000/1... Loss: -0.127698\n",
      "Epoch: 22040/1... Loss: -0.036339\n",
      "Epoch: 22080/1... Loss: -0.174418\n",
      "Epoch: 22120/1... Loss: -0.321828\n",
      "Epoch: 22160/1... Loss: -0.165808\n",
      "Epoch: 22200/1... Loss: -0.481815\n",
      "Epoch: 22240/1... Loss: -0.717521\n",
      "Epoch: 22280/1... Loss: -0.505953\n",
      "Epoch: 22320/1... Loss: -0.401058\n",
      "Epoch: 22360/1... Loss: -0.579058\n",
      "Epoch: 22400/1... Loss: -0.398863\n",
      "Epoch: 22440/1... Loss: -0.231705\n",
      "Epoch: 22480/1... Loss: -0.365456\n",
      "Epoch: 22520/1... Loss: -0.641758\n",
      "Epoch: 22560/1... Loss: -0.192647\n",
      "Epoch: 22600/1... Loss: -0.311448\n",
      "Epoch: 22640/1... Loss: -0.461374\n",
      "Epoch: 22680/1... Loss: -0.383454\n",
      "Epoch: 22720/1... Loss: -0.101502\n",
      "Epoch: 22760/1... Loss: -0.055042\n",
      "Epoch: 22800/1... Loss: -0.199438\n",
      "Epoch: 22840/1... Loss: -0.049256\n",
      "Epoch: 22880/1... Loss: -0.005067\n",
      "Epoch: 22920/1... Loss: -0.025713\n",
      "Epoch: 22960/1... Loss: -0.059063\n",
      "Epoch: 23000/1... Loss: -0.022161\n",
      "Epoch: 23040/1... Loss: -0.010327\n",
      "Epoch: 23080/1... Loss: -0.257175\n",
      "Epoch: 23120/1... Loss: -0.339360\n",
      "Epoch: 23160/1... Loss: -0.081726\n",
      "Epoch: 23200/1... Loss: -0.111363\n",
      "Epoch: 23240/1... Loss: -0.290284\n",
      "Epoch: 23280/1... Loss: -0.397441\n",
      "Epoch: 23320/1... Loss: -0.255496\n",
      "Epoch: 23360/1... Loss: -0.746846\n",
      "Epoch: 23400/1... Loss: -0.636645\n",
      "Epoch: 23440/1... Loss: -0.424254\n",
      "Epoch: 23480/1... Loss: -0.742070\n",
      "Epoch: 23520/1... Loss: -0.789713\n",
      "Epoch: 23560/1... Loss: -0.673548\n",
      "Epoch: 23600/1... Loss: -0.779511\n",
      "Epoch: 23640/1... Loss: -0.782878\n",
      "Epoch: 23680/1... Loss: -0.829980\n",
      "Epoch: 23720/1... Loss: -0.891137\n",
      "Epoch: 23760/1... Loss: -0.681992\n",
      "Epoch: 23800/1... Loss: -0.847912\n",
      "Epoch: 23840/1... Loss: -0.497231\n",
      "Epoch: 23880/1... Loss: -0.679552\n",
      "Epoch: 23920/1... Loss: -0.566541\n",
      "Epoch: 23960/1... Loss: -0.233293\n",
      "Epoch: 24000/1... Loss: -0.007089\n",
      "Epoch: 24040/1... Loss: -0.078283\n",
      "Epoch: 24080/1... Loss: -0.118314\n",
      "Epoch: 24120/1... Loss: -0.047793\n",
      "Epoch: 24160/1... Loss: -0.102639\n",
      "Epoch: 24200/1... Loss: -0.194422\n",
      "Epoch: 24240/1... Loss: -0.198168\n",
      "Epoch: 24280/1... Loss: -0.229534\n",
      "Epoch: 24320/1... Loss: -0.497464\n",
      "Epoch: 24360/1... Loss: -0.644732\n",
      "Epoch: 24400/1... Loss: -0.599252\n",
      "Epoch: 24440/1... Loss: -0.414353\n",
      "Epoch: 24480/1... Loss: -0.387214\n",
      "Epoch: 24520/1... Loss: -0.151262\n",
      "Epoch: 24560/1... Loss: -0.009901\n",
      "Epoch: 24600/1... Loss: -0.063803\n",
      "Epoch: 24640/1... Loss: -0.218919\n",
      "Epoch: 24680/1... Loss: -0.091466\n",
      "Epoch: 24720/1... Loss: -0.206909\n",
      "Epoch: 24760/1... Loss: -0.586320\n",
      "Epoch: 24800/1... Loss: -0.761586\n",
      "Epoch: 24840/1... Loss: -0.655880\n",
      "Epoch: 24880/1... Loss: -0.815514\n",
      "Epoch: 24920/1... Loss: -0.915723\n",
      "Epoch: 24960/1... Loss: -0.855885\n",
      "Epoch: 25000/1... Loss: -0.895976\n",
      "Epoch: 25040/1... Loss: -0.896030\n",
      "Epoch: 25080/1... Loss: -0.807092\n",
      "Epoch: 25120/1... Loss: -0.840468\n",
      "Epoch: 25160/1... Loss: -0.692929\n",
      "Epoch: 25200/1... Loss: -0.520761\n",
      "Epoch: 25240/1... Loss: -0.112762\n",
      "Epoch: 25280/1... Loss: -0.691839\n",
      "Epoch: 25320/1... Loss: -0.492484\n",
      "Epoch: 25360/1... Loss: -0.724342\n",
      "Epoch: 25400/1... Loss: -0.459034\n",
      "Epoch: 25440/1... Loss: -0.622466\n",
      "Epoch: 25480/1... Loss: -0.901319\n",
      "Epoch: 25520/1... Loss: -0.820894\n",
      "Epoch: 25560/1... Loss: -0.330259\n",
      "Epoch: 25600/1... Loss: -0.339575\n",
      "Epoch: 25640/1... Loss: -0.528992\n",
      "Epoch: 25680/1... Loss: -0.184134\n",
      "Epoch: 25720/1... Loss: -0.065093\n",
      "Epoch: 25760/1... Loss: -0.223966\n",
      "Epoch: 25800/1... Loss: -0.574751\n",
      "Epoch: 25840/1... Loss: -0.103753\n",
      "Epoch: 25880/1... Loss: -0.087350\n",
      "Epoch: 25920/1... Loss: -0.375953\n",
      "Epoch: 25960/1... Loss: -0.452445\n",
      "Epoch: 26000/1... Loss: -0.028919\n",
      "Epoch: 26040/1... Loss: -0.222580\n",
      "Epoch: 26080/1... Loss: -0.682315\n",
      "Epoch: 26120/1... Loss: -0.681951\n",
      "Epoch: 26160/1... Loss: -0.943886\n",
      "Epoch: 26200/1... Loss: -0.941377\n",
      "Epoch: 26240/1... Loss: -0.788172\n",
      "Epoch: 26280/1... Loss: -0.733858\n",
      "Epoch: 26320/1... Loss: -0.911331\n",
      "Epoch: 26360/1... Loss: -0.971048\n",
      "Epoch: 26400/1... Loss: -0.705957\n",
      "Epoch: 26440/1... Loss: -0.911982\n",
      "Epoch: 26480/1... Loss: -0.962102\n",
      "Epoch: 26520/1... Loss: -0.964699\n",
      "Epoch: 26560/1... Loss: -0.787214\n",
      "Epoch: 26600/1... Loss: -0.731757\n",
      "Epoch: 26640/1... Loss: -0.876274\n",
      "Epoch: 26680/1... Loss: -0.820012\n",
      "Epoch: 26720/1... Loss: -0.816413\n",
      "Epoch: 26760/1... Loss: -0.825640\n",
      "Epoch: 26800/1... Loss: -0.905471\n",
      "Epoch: 26840/1... Loss: -0.784123\n",
      "Epoch: 26880/1... Loss: -0.971243\n",
      "Epoch: 26920/1... Loss: -0.872451\n",
      "Epoch: 26960/1... Loss: -0.877872\n",
      "Epoch: 27000/1... Loss: -0.946408\n",
      "Epoch: 27040/1... Loss: -0.403054\n",
      "Epoch: 27080/1... Loss: -0.015667\n",
      "Epoch: 27120/1... Loss: -0.305273\n",
      "Epoch: 27160/1... Loss: -0.826024\n",
      "Epoch: 27200/1... Loss: -0.665020\n",
      "Epoch: 27240/1... Loss: -0.611660\n",
      "Epoch: 27280/1... Loss: -0.890171\n",
      "Epoch: 27320/1... Loss: -0.814333\n",
      "Epoch: 27360/1... Loss: -0.966234\n",
      "Epoch: 27400/1... Loss: -0.949952\n",
      "Epoch: 27440/1... Loss: -0.610017\n",
      "Epoch: 27480/1... Loss: -0.113109\n",
      "Epoch: 27520/1... Loss: -0.110024\n",
      "Epoch: 27560/1... Loss: -0.283723\n",
      "Epoch: 27600/1... Loss: -0.311808\n",
      "Epoch: 27640/1... Loss: -0.153691\n",
      "Epoch: 27680/1... Loss: -0.452738\n",
      "Epoch: 27720/1... Loss: -0.308299\n",
      "Epoch: 27760/1... Loss: -0.075239\n",
      "Epoch: 27800/1... Loss: -0.207844\n",
      "Epoch: 27840/1... Loss: -0.244159\n",
      "Epoch: 27880/1... Loss: -0.144671\n",
      "Epoch: 27920/1... Loss: -0.166390\n",
      "Epoch: 27960/1... Loss: -0.462157\n",
      "Epoch: 28000/1... Loss: -0.531440\n",
      "Epoch: 28040/1... Loss: -0.216758\n",
      "Epoch: 28080/1... Loss: -0.551316\n",
      "Epoch: 28120/1... Loss: -0.744758\n",
      "Epoch: 28160/1... Loss: -0.600281\n",
      "Epoch: 28200/1... Loss: -0.951945\n",
      "Epoch: 28240/1... Loss: -0.940162\n",
      "Epoch: 28280/1... Loss: -0.933224\n",
      "Epoch: 28320/1... Loss: -0.957231\n",
      "Epoch: 28360/1... Loss: -0.958714\n",
      "Epoch: 28400/1... Loss: -0.785236\n",
      "Epoch: 28440/1... Loss: -0.795542\n",
      "Epoch: 28480/1... Loss: -0.875362\n",
      "Epoch: 28520/1... Loss: -0.545717\n",
      "Epoch: 28560/1... Loss: -0.577140\n",
      "Epoch: 28600/1... Loss: -0.140304\n",
      "Epoch: 28640/1... Loss: -0.227735\n",
      "Epoch: 28680/1... Loss: -0.075624\n",
      "Epoch: 28720/1... Loss: -0.013109\n",
      "Epoch: 28760/1... Loss: -0.008909\n",
      "Epoch: 28800/1... Loss: -0.011786\n",
      "Epoch: 28840/1... Loss: -0.006257\n",
      "Epoch: 28880/1... Loss: -0.006335\n",
      "Epoch: 28920/1... Loss: -0.210237\n",
      "Epoch: 28960/1... Loss: -0.106579\n",
      "Epoch: 29000/1... Loss: -0.300201\n",
      "Epoch: 29040/1... Loss: -0.221014\n",
      "Epoch: 29080/1... Loss: -0.209717\n",
      "Epoch: 29120/1... Loss: -0.760359\n",
      "Epoch: 29160/1... Loss: -0.907397\n"
     ]
    },
    {
     "name": "stdout",
     "output_type": "stream",
     "text": [
      "Epoch: 29200/1... Loss: -0.767185\n",
      "Epoch: 29240/1... Loss: -0.924329\n",
      "Epoch: 29280/1... Loss: -0.550885\n",
      "Epoch: 29320/1... Loss: -0.080280\n",
      "Epoch: 29360/1... Loss: -0.154161\n",
      "Epoch: 29400/1... Loss: -0.084813\n",
      "Epoch: 29440/1... Loss: -0.020377\n",
      "Epoch: 29480/1... Loss: -0.244048\n",
      "Epoch: 29520/1... Loss: -0.726403\n",
      "Epoch: 29560/1... Loss: -0.336061\n",
      "Epoch: 29600/1... Loss: -0.916864\n",
      "Epoch: 29640/1... Loss: -0.950171\n",
      "Epoch: 29680/1... Loss: -0.887528\n",
      "Epoch: 29720/1... Loss: -0.928161\n",
      "Epoch: 29760/1... Loss: -0.880627\n",
      "Epoch: 29800/1... Loss: -0.806518\n",
      "Epoch: 29840/1... Loss: -0.167221\n",
      "Epoch: 29880/1... Loss: -0.193496\n",
      "Epoch: 29920/1... Loss: -0.317905\n",
      "Epoch: 29960/1... Loss: -0.090546\n",
      "Epoch: 30000/1... Loss: -0.237243\n",
      "Epoch: 30040/1... Loss: -0.297488\n",
      "Epoch: 30080/1... Loss: -0.217832\n",
      "Epoch: 30120/1... Loss: -0.319141\n",
      "Epoch: 30160/1... Loss: -0.614835\n",
      "Epoch: 30200/1... Loss: -0.723261\n",
      "Epoch: 30240/1... Loss: -0.736681\n",
      "Epoch: 30280/1... Loss: -0.244526\n",
      "Epoch: 30320/1... Loss: -0.281887\n",
      "Epoch: 30360/1... Loss: -0.338982\n",
      "Epoch: 30400/1... Loss: -0.275573\n",
      "Epoch: 30440/1... Loss: -0.421960\n",
      "Epoch: 30480/1... Loss: -0.536560\n",
      "Epoch: 30520/1... Loss: -0.699662\n",
      "Epoch: 30560/1... Loss: -0.802983\n",
      "Epoch: 30600/1... Loss: -0.506737\n",
      "Epoch: 30640/1... Loss: -0.615197\n",
      "Epoch: 30680/1... Loss: -0.667886\n",
      "Epoch: 30720/1... Loss: -0.658262\n",
      "Epoch: 30760/1... Loss: -0.675412\n",
      "Epoch: 30800/1... Loss: -0.912415\n",
      "Epoch: 30840/1... Loss: -0.896112\n",
      "Epoch: 30880/1... Loss: -0.680834\n",
      "Epoch: 30920/1... Loss: -0.378595\n",
      "Epoch: 30960/1... Loss: -0.576519\n",
      "Epoch: 31000/1... Loss: -0.529715\n",
      "Epoch: 31040/1... Loss: -0.640764\n",
      "Epoch: 31080/1... Loss: -0.803490\n",
      "Epoch: 31120/1... Loss: -0.891650\n",
      "Epoch: 31160/1... Loss: -0.849062\n",
      "Epoch: 31200/1... Loss: -0.965333\n",
      "Epoch: 31240/1... Loss: -0.980740\n"
     ]
    }
   ],
   "source": [
    "epochs = 1\n",
    "print_every = 40\n",
    "steps = 0\n",
    "\n",
    "for i in range(epochs):\n",
    "    running_loss = 0\n",
    "    for i in range(len(features_train)):\n",
    "        steps += 1\n",
    "    \n",
    "        optimizer.zero_grad()\n",
    "        \n",
    "        output = model.forward(features_train[i])\n",
    "        loss = criterion(output, targets_train[i])\n",
    "        loss.backward()\n",
    "        optimizer.step()\n",
    "        \n",
    "        running_loss += loss.item()\n",
    "        \n",
    "        if steps % print_every == 0:\n",
    "            print(\"Epoch: {}/{}...\".format(i+1, epochs),\n",
    "                  \"Loss: {:4f}\".format(running_loss/print_every))\n",
    "            \n",
    "            running_loss = 0"
   ]
  },
  {
   "cell_type": "code",
   "execution_count": 51,
   "metadata": {},
   "outputs": [
    {
     "name": "stdout",
     "output_type": "stream",
     "text": [
      "Parameter containing:\n",
      "tensor([[ 8.5933,  1.6296],\n",
      "        [-4.3750, -0.6309],\n",
      "        [-6.6692, -0.8113],\n",
      "        [-4.7476, -0.6487],\n",
      "        [-1.9805, -0.1126]], dtype=torch.float64, requires_grad=True)\n"
     ]
    }
   ],
   "source": [
    "print(model.fc1.weight)"
   ]
  },
  {
   "cell_type": "code",
   "execution_count": 52,
   "metadata": {},
   "outputs": [
    {
     "name": "stdout",
     "output_type": "stream",
     "text": [
      "Parameter containing:\n",
      "tensor([[ 7.0113, -2.2968, -4.2508, -2.5754, -0.7100]], dtype=torch.float64,\n",
      "       requires_grad=True)\n"
     ]
    }
   ],
   "source": [
    "print(model.fc2.weight)"
   ]
  },
  {
   "cell_type": "markdown",
   "metadata": {},
   "source": [
    "Com a rede treinada, podemos checar as previsões com o banco de dados de treinamento"
   ]
  },
  {
   "cell_type": "code",
   "execution_count": 45,
   "metadata": {},
   "outputs": [],
   "source": [
    "# transdormanfo o banco de dados de teste em tensores\n",
    "\n",
    "features_test = torch.from_numpy(np.array(features_test)).double()\n",
    "targets_test = torch.from_numpy(np.array(targets_test)).double()"
   ]
  },
  {
   "cell_type": "code",
   "execution_count": 46,
   "metadata": {},
   "outputs": [],
   "source": [
    "test_error = torch.rand((len(features_test), 1))\n",
    "\n",
    "for i in range(len(features_test)):\n",
    "    \n",
    "    ps = model.forward(features_test[i])\n",
    "    test_error[0] = targets_test[i] - ps"
   ]
  },
  {
   "cell_type": "code",
   "execution_count": 47,
   "metadata": {},
   "outputs": [
    {
     "data": {
      "text/plain": [
       "[<matplotlib.lines.Line2D at 0x2b331401198>]"
      ]
     },
     "execution_count": 47,
     "metadata": {},
     "output_type": "execute_result"
    },
    {
     "data": {
      "image/png": "[encoded data removed]",
      "text/plain": [
       "<Figure size 432x288 with 1 Axes>"
      ]
     },
     "metadata": {
      "needs_background": "light"
     },
     "output_type": "display_data"
    }
   ],
   "source": [
    "x = np.arange(1, len(features_test)+1, 1)\n",
    "y = test_error.detach().numpy()\n",
    "\n",
    "plt.plot(x, y) "
   ]
  },
  {
   "cell_type": "markdown",
   "metadata": {},
   "source": [
    "Falta: \n",
    "\n",
    "- Fazer o modelo diminuir o erro gradativamente (funcionar).\n",
    "    - Implementar a função erro adequada.\n",
    "    \n",
    "- Definir métricas de avaliação.\n",
    "\n",
    "- Transformar as previsões em escala real.\n",
    "\n",
    "- Elaborar gráfico de controle.\n"
   ]
  },
  {
   "cell_type": "code",
   "execution_count": null,
   "metadata": {},
   "outputs": [],
   "source": []
  },
  {
   "cell_type": "code",
   "execution_count": null,
   "metadata": {},
   "outputs": [],
   "source": []
  }
 ],
 "metadata": {
  "kernelspec": {
   "display_name": "Python 3",
   "language": "python",
   "name": "python3"
  },
  "language_info": {
   "codemirror_mode": {
    "name": "ipython",
    "version": 3
   },
   "file_extension": ".py",
   "mimetype": "text/x-python",
   "name": "python",
   "nbconvert_exporter": "python",
   "pygments_lexer": "ipython3",
   "version": "3.7.1"
  }
 },
 "nbformat": 4,
 "nbformat_minor": 2
}
