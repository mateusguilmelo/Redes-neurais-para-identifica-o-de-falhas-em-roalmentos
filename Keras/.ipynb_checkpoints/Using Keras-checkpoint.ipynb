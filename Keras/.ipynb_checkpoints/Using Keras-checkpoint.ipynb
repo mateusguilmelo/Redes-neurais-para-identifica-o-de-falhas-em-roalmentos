{
 "cells": [
  {
   "cell_type": "markdown",
   "metadata": {},
   "source": [
    "# Desenvolvimento em Keras"
   ]
  },
  {
   "cell_type": "markdown",
   "metadata": {},
   "source": [
    "Nesse problema de Data Science, o que se quer é criar um modelo que consiga prever a potência gerada instatânea gerada pelo aerogerador através da velocidade e direção do vento."
   ]
  },
  {
   "cell_type": "markdown",
   "metadata": {},
   "source": [
    "### 1. Aquisição de dados"
   ]
  },
  {
   "cell_type": "code",
   "execution_count": 51,
   "metadata": {},
   "outputs": [
    {
     "data": {
      "text/html": [
       "<div>\n",
       "<style scoped>\n",
       "    .dataframe tbody tr th:only-of-type {\n",
       "        vertical-align: middle;\n",
       "    }\n",
       "\n",
       "    .dataframe tbody tr th {\n",
       "        vertical-align: top;\n",
       "    }\n",
       "\n",
       "    .dataframe thead th {\n",
       "        text-align: right;\n",
       "    }\n",
       "</style>\n",
       "<table border=\"1\" class=\"dataframe\">\n",
       "  <thead>\n",
       "    <tr style=\"text-align: right;\">\n",
       "      <th></th>\n",
       "      <th>Date/Time</th>\n",
       "      <th>LV ActivePower (kW)</th>\n",
       "      <th>Wind Speed (m/s)</th>\n",
       "      <th>Theoretical_Power_Curve (KWh)</th>\n",
       "      <th>Wind Direction (°)</th>\n",
       "    </tr>\n",
       "  </thead>\n",
       "  <tbody>\n",
       "    <tr>\n",
       "      <th>0</th>\n",
       "      <td>01 01 2018 00:00</td>\n",
       "      <td>380.047791</td>\n",
       "      <td>5.311336</td>\n",
       "      <td>416.328908</td>\n",
       "      <td>259.994904</td>\n",
       "    </tr>\n",
       "    <tr>\n",
       "      <th>1</th>\n",
       "      <td>01 01 2018 00:10</td>\n",
       "      <td>453.769196</td>\n",
       "      <td>5.672167</td>\n",
       "      <td>519.917511</td>\n",
       "      <td>268.641113</td>\n",
       "    </tr>\n",
       "    <tr>\n",
       "      <th>2</th>\n",
       "      <td>01 01 2018 00:20</td>\n",
       "      <td>306.376587</td>\n",
       "      <td>5.216037</td>\n",
       "      <td>390.900016</td>\n",
       "      <td>272.564789</td>\n",
       "    </tr>\n",
       "    <tr>\n",
       "      <th>3</th>\n",
       "      <td>01 01 2018 00:30</td>\n",
       "      <td>419.645905</td>\n",
       "      <td>5.659674</td>\n",
       "      <td>516.127569</td>\n",
       "      <td>271.258087</td>\n",
       "    </tr>\n",
       "    <tr>\n",
       "      <th>4</th>\n",
       "      <td>01 01 2018 00:40</td>\n",
       "      <td>380.650696</td>\n",
       "      <td>5.577941</td>\n",
       "      <td>491.702972</td>\n",
       "      <td>265.674286</td>\n",
       "    </tr>\n",
       "  </tbody>\n",
       "</table>\n",
       "</div>"
      ],
      "text/plain": [
       "          Date/Time  LV ActivePower (kW)  Wind Speed (m/s)  \\\n",
       "0  01 01 2018 00:00           380.047791          5.311336   \n",
       "1  01 01 2018 00:10           453.769196          5.672167   \n",
       "2  01 01 2018 00:20           306.376587          5.216037   \n",
       "3  01 01 2018 00:30           419.645905          5.659674   \n",
       "4  01 01 2018 00:40           380.650696          5.577941   \n",
       "\n",
       "   Theoretical_Power_Curve (KWh)  Wind Direction (°)  \n",
       "0                     416.328908          259.994904  \n",
       "1                     519.917511          268.641113  \n",
       "2                     390.900016          272.564789  \n",
       "3                     516.127569          271.258087  \n",
       "4                     491.702972          265.674286  "
      ]
     },
     "execution_count": 51,
     "metadata": {},
     "output_type": "execute_result"
    }
   ],
   "source": [
    "# Importando dados\n",
    "import pandas as pd\n",
    "\n",
    "filename = 'T1.csv'\n",
    "df = pd.read_csv(filename)\n",
    "\n",
    "df.head()"
   ]
  },
  {
   "cell_type": "code",
   "execution_count": 52,
   "metadata": {},
   "outputs": [
    {
     "name": "stdout",
     "output_type": "stream",
     "text": [
      "<class 'pandas.core.frame.DataFrame'>\n",
      "RangeIndex: 50530 entries, 0 to 50529\n",
      "Data columns (total 5 columns):\n",
      "Date/Time                        50530 non-null object\n",
      "LV ActivePower (kW)              50530 non-null float64\n",
      "Wind Speed (m/s)                 50530 non-null float64\n",
      "Theoretical_Power_Curve (KWh)    50530 non-null float64\n",
      "Wind Direction (°)               50530 non-null float64\n",
      "dtypes: float64(4), object(1)\n",
      "memory usage: 1.9+ MB\n"
     ]
    }
   ],
   "source": [
    "df.info()"
   ]
  },
  {
   "cell_type": "markdown",
   "metadata": {},
   "source": [
    "Não há presença de objetos nulos"
   ]
  },
  {
   "cell_type": "code",
   "execution_count": 53,
   "metadata": {},
   "outputs": [
    {
     "name": "stdout",
     "output_type": "stream",
     "text": [
      "<class 'pandas.core.frame.DataFrame'>\n",
      "RangeIndex: 50530 entries, 0 to 50529\n",
      "Data columns (total 5 columns):\n",
      "Date/Time                        50530 non-null datetime64[ns]\n",
      "LV ActivePower (kW)              50530 non-null float64\n",
      "Wind Speed (m/s)                 50530 non-null float64\n",
      "Theoretical_Power_Curve (KWh)    50530 non-null float64\n",
      "Wind Direction (°)               50530 non-null float64\n",
      "dtypes: datetime64[ns](1), float64(4)\n",
      "memory usage: 1.9 MB\n"
     ]
    }
   ],
   "source": [
    "#Passando DateTime para o tipo datetime\n",
    "\n",
    "df['Date/Time'] = pd.to_datetime(df['Date/Time'])\n",
    "df.info()"
   ]
  },
  {
   "cell_type": "code",
   "execution_count": 54,
   "metadata": {},
   "outputs": [
    {
     "data": {
      "text/html": [
       "<div>\n",
       "<style scoped>\n",
       "    .dataframe tbody tr th:only-of-type {\n",
       "        vertical-align: middle;\n",
       "    }\n",
       "\n",
       "    .dataframe tbody tr th {\n",
       "        vertical-align: top;\n",
       "    }\n",
       "\n",
       "    .dataframe thead th {\n",
       "        text-align: right;\n",
       "    }\n",
       "</style>\n",
       "<table border=\"1\" class=\"dataframe\">\n",
       "  <thead>\n",
       "    <tr style=\"text-align: right;\">\n",
       "      <th></th>\n",
       "      <th>LV ActivePower (kW)</th>\n",
       "      <th>Wind Speed (m/s)</th>\n",
       "      <th>Theoretical_Power_Curve (KWh)</th>\n",
       "      <th>Wind Direction (°)</th>\n",
       "    </tr>\n",
       "  </thead>\n",
       "  <tbody>\n",
       "    <tr>\n",
       "      <th>count</th>\n",
       "      <td>50530.000000</td>\n",
       "      <td>50530.000000</td>\n",
       "      <td>50530.000000</td>\n",
       "      <td>50530.000000</td>\n",
       "    </tr>\n",
       "    <tr>\n",
       "      <th>mean</th>\n",
       "      <td>1307.684332</td>\n",
       "      <td>7.557952</td>\n",
       "      <td>1492.175463</td>\n",
       "      <td>123.687559</td>\n",
       "    </tr>\n",
       "    <tr>\n",
       "      <th>std</th>\n",
       "      <td>1312.459242</td>\n",
       "      <td>4.227166</td>\n",
       "      <td>1368.018238</td>\n",
       "      <td>93.443736</td>\n",
       "    </tr>\n",
       "    <tr>\n",
       "      <th>min</th>\n",
       "      <td>-2.471405</td>\n",
       "      <td>0.000000</td>\n",
       "      <td>0.000000</td>\n",
       "      <td>0.000000</td>\n",
       "    </tr>\n",
       "    <tr>\n",
       "      <th>25%</th>\n",
       "      <td>50.677890</td>\n",
       "      <td>4.201395</td>\n",
       "      <td>161.328167</td>\n",
       "      <td>49.315437</td>\n",
       "    </tr>\n",
       "    <tr>\n",
       "      <th>50%</th>\n",
       "      <td>825.838074</td>\n",
       "      <td>7.104594</td>\n",
       "      <td>1063.776283</td>\n",
       "      <td>73.712978</td>\n",
       "    </tr>\n",
       "    <tr>\n",
       "      <th>75%</th>\n",
       "      <td>2482.507568</td>\n",
       "      <td>10.300020</td>\n",
       "      <td>2964.972462</td>\n",
       "      <td>201.696720</td>\n",
       "    </tr>\n",
       "    <tr>\n",
       "      <th>max</th>\n",
       "      <td>3618.732910</td>\n",
       "      <td>25.206011</td>\n",
       "      <td>3600.000000</td>\n",
       "      <td>359.997589</td>\n",
       "    </tr>\n",
       "  </tbody>\n",
       "</table>\n",
       "</div>"
      ],
      "text/plain": [
       "       LV ActivePower (kW)  Wind Speed (m/s)  Theoretical_Power_Curve (KWh)  \\\n",
       "count         50530.000000      50530.000000                   50530.000000   \n",
       "mean           1307.684332          7.557952                    1492.175463   \n",
       "std            1312.459242          4.227166                    1368.018238   \n",
       "min              -2.471405          0.000000                       0.000000   \n",
       "25%              50.677890          4.201395                     161.328167   \n",
       "50%             825.838074          7.104594                    1063.776283   \n",
       "75%            2482.507568         10.300020                    2964.972462   \n",
       "max            3618.732910         25.206011                    3600.000000   \n",
       "\n",
       "       Wind Direction (°)  \n",
       "count        50530.000000  \n",
       "mean           123.687559  \n",
       "std             93.443736  \n",
       "min              0.000000  \n",
       "25%             49.315437  \n",
       "50%             73.712978  \n",
       "75%            201.696720  \n",
       "max            359.997589  "
      ]
     },
     "execution_count": 54,
     "metadata": {},
     "output_type": "execute_result"
    }
   ],
   "source": [
    "df.describe()"
   ]
  },
  {
   "cell_type": "markdown",
   "metadata": {},
   "source": [
    "### 2. Desbravando dados"
   ]
  },
  {
   "cell_type": "code",
   "execution_count": 55,
   "metadata": {},
   "outputs": [
    {
     "data": {
      "image/png": "[encoded data removed]",
      "text/plain": [
       "<Figure size 576x432 with 4 Axes>"
      ]
     },
     "metadata": {
      "needs_background": "light"
     },
     "output_type": "display_data"
    }
   ],
   "source": [
    "# Plotando histogramas dos dados\n",
    "\n",
    "import matplotlib.pyplot as plt\n",
    "%matplotlib inline  \n",
    "df.hist(bins=400, figsize=(8,6))\n",
    "plt.tight_layout()\n",
    "plt.show()"
   ]
  },
  {
   "cell_type": "code",
   "execution_count": 56,
   "metadata": {},
   "outputs": [
    {
     "data": {
      "text/html": [
       "<div>\n",
       "<style scoped>\n",
       "    .dataframe tbody tr th:only-of-type {\n",
       "        vertical-align: middle;\n",
       "    }\n",
       "\n",
       "    .dataframe tbody tr th {\n",
       "        vertical-align: top;\n",
       "    }\n",
       "\n",
       "    .dataframe thead th {\n",
       "        text-align: right;\n",
       "    }\n",
       "</style>\n",
       "<table border=\"1\" class=\"dataframe\">\n",
       "  <thead>\n",
       "    <tr style=\"text-align: right;\">\n",
       "      <th></th>\n",
       "      <th>LV ActivePower (kW)</th>\n",
       "      <th>Wind Speed (m/s)</th>\n",
       "      <th>Theoretical_Power_Curve (KWh)</th>\n",
       "      <th>Wind Direction (°)</th>\n",
       "    </tr>\n",
       "  </thead>\n",
       "  <tbody>\n",
       "    <tr>\n",
       "      <th>LV ActivePower (kW)</th>\n",
       "      <td>1.000000</td>\n",
       "      <td>0.912774</td>\n",
       "      <td>0.949918</td>\n",
       "      <td>-0.062702</td>\n",
       "    </tr>\n",
       "    <tr>\n",
       "      <th>Wind Speed (m/s)</th>\n",
       "      <td>0.912774</td>\n",
       "      <td>1.000000</td>\n",
       "      <td>0.944209</td>\n",
       "      <td>-0.077188</td>\n",
       "    </tr>\n",
       "    <tr>\n",
       "      <th>Theoretical_Power_Curve (KWh)</th>\n",
       "      <td>0.949918</td>\n",
       "      <td>0.944209</td>\n",
       "      <td>1.000000</td>\n",
       "      <td>-0.099076</td>\n",
       "    </tr>\n",
       "    <tr>\n",
       "      <th>Wind Direction (°)</th>\n",
       "      <td>-0.062702</td>\n",
       "      <td>-0.077188</td>\n",
       "      <td>-0.099076</td>\n",
       "      <td>1.000000</td>\n",
       "    </tr>\n",
       "  </tbody>\n",
       "</table>\n",
       "</div>"
      ],
      "text/plain": [
       "                               LV ActivePower (kW)  Wind Speed (m/s)  \\\n",
       "LV ActivePower (kW)                       1.000000          0.912774   \n",
       "Wind Speed (m/s)                          0.912774          1.000000   \n",
       "Theoretical_Power_Curve (KWh)             0.949918          0.944209   \n",
       "Wind Direction (°)                       -0.062702         -0.077188   \n",
       "\n",
       "                               Theoretical_Power_Curve (KWh)  \\\n",
       "LV ActivePower (kW)                                 0.949918   \n",
       "Wind Speed (m/s)                                    0.944209   \n",
       "Theoretical_Power_Curve (KWh)                       1.000000   \n",
       "Wind Direction (°)                                 -0.099076   \n",
       "\n",
       "                               Wind Direction (°)  \n",
       "LV ActivePower (kW)                     -0.062702  \n",
       "Wind Speed (m/s)                        -0.077188  \n",
       "Theoretical_Power_Curve (KWh)           -0.099076  \n",
       "Wind Direction (°)                       1.000000  "
      ]
     },
     "execution_count": 56,
     "metadata": {},
     "output_type": "execute_result"
    }
   ],
   "source": [
    "df.corr()"
   ]
  },
  {
   "cell_type": "markdown",
   "metadata": {},
   "source": [
    "### 3. Preparando os dados para a rede neural"
   ]
  },
  {
   "cell_type": "markdown",
   "metadata": {},
   "source": [
    "##### 3.1 Remoção de números negativos"
   ]
  },
  {
   "cell_type": "code",
   "execution_count": 57,
   "metadata": {},
   "outputs": [
    {
     "data": {
      "text/html": [
       "<div>\n",
       "<style scoped>\n",
       "    .dataframe tbody tr th:only-of-type {\n",
       "        vertical-align: middle;\n",
       "    }\n",
       "\n",
       "    .dataframe tbody tr th {\n",
       "        vertical-align: top;\n",
       "    }\n",
       "\n",
       "    .dataframe thead th {\n",
       "        text-align: right;\n",
       "    }\n",
       "</style>\n",
       "<table border=\"1\" class=\"dataframe\">\n",
       "  <thead>\n",
       "    <tr style=\"text-align: right;\">\n",
       "      <th></th>\n",
       "      <th>LV ActivePower (kW)</th>\n",
       "      <th>Wind Speed (m/s)</th>\n",
       "      <th>Theoretical_Power_Curve (KWh)</th>\n",
       "      <th>Wind Direction (°)</th>\n",
       "    </tr>\n",
       "  </thead>\n",
       "  <tbody>\n",
       "    <tr>\n",
       "      <th>count</th>\n",
       "      <td>39265.000000</td>\n",
       "      <td>39265.000000</td>\n",
       "      <td>39265.000000</td>\n",
       "      <td>39265.000000</td>\n",
       "    </tr>\n",
       "    <tr>\n",
       "      <th>mean</th>\n",
       "      <td>1682.757970</td>\n",
       "      <td>8.835618</td>\n",
       "      <td>1849.600792</td>\n",
       "      <td>115.081817</td>\n",
       "    </tr>\n",
       "    <tr>\n",
       "      <th>std</th>\n",
       "      <td>1259.248116</td>\n",
       "      <td>3.740388</td>\n",
       "      <td>1299.455462</td>\n",
       "      <td>86.093682</td>\n",
       "    </tr>\n",
       "    <tr>\n",
       "      <th>min</th>\n",
       "      <td>0.028733</td>\n",
       "      <td>3.002270</td>\n",
       "      <td>16.073052</td>\n",
       "      <td>0.015678</td>\n",
       "    </tr>\n",
       "    <tr>\n",
       "      <th>25%</th>\n",
       "      <td>504.130402</td>\n",
       "      <td>5.985851</td>\n",
       "      <td>620.233851</td>\n",
       "      <td>48.838100</td>\n",
       "    </tr>\n",
       "    <tr>\n",
       "      <th>50%</th>\n",
       "      <td>1421.088989</td>\n",
       "      <td>8.168509</td>\n",
       "      <td>1627.920349</td>\n",
       "      <td>69.959221</td>\n",
       "    </tr>\n",
       "    <tr>\n",
       "      <th>75%</th>\n",
       "      <td>2925.330078</td>\n",
       "      <td>11.145490</td>\n",
       "      <td>3321.427096</td>\n",
       "      <td>197.017807</td>\n",
       "    </tr>\n",
       "    <tr>\n",
       "      <th>max</th>\n",
       "      <td>3618.732910</td>\n",
       "      <td>25.206011</td>\n",
       "      <td>3600.000000</td>\n",
       "      <td>359.997589</td>\n",
       "    </tr>\n",
       "  </tbody>\n",
       "</table>\n",
       "</div>"
      ],
      "text/plain": [
       "       LV ActivePower (kW)  Wind Speed (m/s)  Theoretical_Power_Curve (KWh)  \\\n",
       "count         39265.000000      39265.000000                   39265.000000   \n",
       "mean           1682.757970          8.835618                    1849.600792   \n",
       "std            1259.248116          3.740388                    1299.455462   \n",
       "min               0.028733          3.002270                      16.073052   \n",
       "25%             504.130402          5.985851                     620.233851   \n",
       "50%            1421.088989          8.168509                    1627.920349   \n",
       "75%            2925.330078         11.145490                    3321.427096   \n",
       "max            3618.732910         25.206011                    3600.000000   \n",
       "\n",
       "       Wind Direction (°)  \n",
       "count        39265.000000  \n",
       "mean           115.081817  \n",
       "std             86.093682  \n",
       "min              0.015678  \n",
       "25%             48.838100  \n",
       "50%             69.959221  \n",
       "75%            197.017807  \n",
       "max            359.997589  "
      ]
     },
     "execution_count": 57,
     "metadata": {},
     "output_type": "execute_result"
    }
   ],
   "source": [
    "for cols in df.columns.tolist()[1:]:\n",
    "    df = df.loc[df[cols] > 0]\n",
    "\n",
    "df.describe()"
   ]
  },
  {
   "cell_type": "markdown",
   "metadata": {},
   "source": [
    "##### 3.2 Remoção de outliers"
   ]
  },
  {
   "cell_type": "code",
   "execution_count": 58,
   "metadata": {},
   "outputs": [
    {
     "data": {
      "image/png": "[encoded data removed]",
      "text/plain": [
       "<Figure size 720x576 with 10 Axes>"
      ]
     },
     "metadata": {
      "needs_background": "light"
     },
     "output_type": "display_data"
    }
   ],
   "source": [
    "cols = ['LV ActivePower (kW)', 'Wind Speed (m/s)', 'Theoretical_Power_Curve (KWh)', 'Wind Direction (°)']\n",
    "cols\n",
    "\n",
    "# Exploratory Data Analysis\n",
    "# Identfy the KDE shape for all columns (gaussian distribution?)\n",
    "\n",
    "df[cols].plot(kind='box',\n",
    "            layout=(5,2),\n",
    "            subplots=True,\n",
    "            figsize=(10,8),\n",
    "            sharex=False)\n",
    "\n",
    "plt.tight_layout()\n",
    "plt.show()"
   ]
  },
  {
   "cell_type": "markdown",
   "metadata": {},
   "source": [
    "Nota-se, pelos gráficos acima, que a variável Wind Speed aprensenta alguns outliers que devem ser removidos do Dataset. Dessa forma, eles serão removidos utilizando a seguinte formula: $$ Q3 + 1.5*AIQ < Outlier < Q1 - 1.5*AIQ $$ aonde AIQ significa amplitude interquartil"
   ]
  },
  {
   "cell_type": "code",
   "execution_count": 59,
   "metadata": {},
   "outputs": [
    {
     "data": {
      "text/html": [
       "<div>\n",
       "<style scoped>\n",
       "    .dataframe tbody tr th:only-of-type {\n",
       "        vertical-align: middle;\n",
       "    }\n",
       "\n",
       "    .dataframe tbody tr th {\n",
       "        vertical-align: top;\n",
       "    }\n",
       "\n",
       "    .dataframe thead th {\n",
       "        text-align: right;\n",
       "    }\n",
       "</style>\n",
       "<table border=\"1\" class=\"dataframe\">\n",
       "  <thead>\n",
       "    <tr style=\"text-align: right;\">\n",
       "      <th></th>\n",
       "      <th>LV ActivePower (kW)</th>\n",
       "      <th>Wind Speed (m/s)</th>\n",
       "      <th>Theoretical_Power_Curve (KWh)</th>\n",
       "      <th>Wind Direction (°)</th>\n",
       "    </tr>\n",
       "  </thead>\n",
       "  <tbody>\n",
       "    <tr>\n",
       "      <th>count</th>\n",
       "      <td>38653.000000</td>\n",
       "      <td>38653.000000</td>\n",
       "      <td>38653.000000</td>\n",
       "      <td>38653.000000</td>\n",
       "    </tr>\n",
       "    <tr>\n",
       "      <th>mean</th>\n",
       "      <td>1653.003972</td>\n",
       "      <td>8.655582</td>\n",
       "      <td>1821.886402</td>\n",
       "      <td>113.794714</td>\n",
       "    </tr>\n",
       "    <tr>\n",
       "      <th>std</th>\n",
       "      <td>1246.467008</td>\n",
       "      <td>3.479963</td>\n",
       "      <td>1290.751814</td>\n",
       "      <td>86.144154</td>\n",
       "    </tr>\n",
       "    <tr>\n",
       "      <th>min</th>\n",
       "      <td>0.028733</td>\n",
       "      <td>3.002270</td>\n",
       "      <td>16.073052</td>\n",
       "      <td>0.015678</td>\n",
       "    </tr>\n",
       "    <tr>\n",
       "      <th>25%</th>\n",
       "      <td>493.298187</td>\n",
       "      <td>5.954392</td>\n",
       "      <td>609.712191</td>\n",
       "      <td>48.394951</td>\n",
       "    </tr>\n",
       "    <tr>\n",
       "      <th>50%</th>\n",
       "      <td>1382.901001</td>\n",
       "      <td>8.092525</td>\n",
       "      <td>1583.418531</td>\n",
       "      <td>69.302498</td>\n",
       "    </tr>\n",
       "    <tr>\n",
       "      <th>75%</th>\n",
       "      <td>2849.197021</td>\n",
       "      <td>10.978900</td>\n",
       "      <td>3264.941266</td>\n",
       "      <td>196.646606</td>\n",
       "    </tr>\n",
       "    <tr>\n",
       "      <th>max</th>\n",
       "      <td>3618.732910</td>\n",
       "      <td>18.884310</td>\n",
       "      <td>3600.000000</td>\n",
       "      <td>359.997589</td>\n",
       "    </tr>\n",
       "  </tbody>\n",
       "</table>\n",
       "</div>"
      ],
      "text/plain": [
       "       LV ActivePower (kW)  Wind Speed (m/s)  Theoretical_Power_Curve (KWh)  \\\n",
       "count         38653.000000      38653.000000                   38653.000000   \n",
       "mean           1653.003972          8.655582                    1821.886402   \n",
       "std            1246.467008          3.479963                    1290.751814   \n",
       "min               0.028733          3.002270                      16.073052   \n",
       "25%             493.298187          5.954392                     609.712191   \n",
       "50%            1382.901001          8.092525                    1583.418531   \n",
       "75%            2849.197021         10.978900                    3264.941266   \n",
       "max            3618.732910         18.884310                    3600.000000   \n",
       "\n",
       "       Wind Direction (°)  \n",
       "count        38653.000000  \n",
       "mean           113.794714  \n",
       "std             86.144154  \n",
       "min              0.015678  \n",
       "25%             48.394951  \n",
       "50%             69.302498  \n",
       "75%            196.646606  \n",
       "max            359.997589  "
      ]
     },
     "execution_count": 59,
     "metadata": {},
     "output_type": "execute_result"
    }
   ],
   "source": [
    "WS_Q1 = df['Wind Speed (m/s)'].quantile(0.25)\n",
    "WS_Q3 = df['Wind Speed (m/s)'].quantile(0.75)\n",
    "\n",
    "WS_IQR = WS_Q3 - WS_Q1\n",
    "\n",
    "df = df.loc[df['Wind Speed (m/s)'] > WS_Q1 - 1.5*WS_IQR]\n",
    "df = df.loc[df['Wind Speed (m/s)'] < WS_Q3 + 1.5*WS_IQR]\n",
    "\n",
    "df.describe()"
   ]
  },
  {
   "cell_type": "code",
   "execution_count": 60,
   "metadata": {},
   "outputs": [
    {
     "data": {
      "image/png": "[encoded data removed]",
      "text/plain": [
       "<Figure size 720x576 with 10 Axes>"
      ]
     },
     "metadata": {
      "needs_background": "light"
     },
     "output_type": "display_data"
    }
   ],
   "source": [
    "df[cols].plot(kind='box',\n",
    "            layout=(5,2),\n",
    "            subplots=True,\n",
    "            figsize=(10,8),\n",
    "            sharex=False)\n",
    "\n",
    "plt.tight_layout()\n",
    "plt.show()"
   ]
  },
  {
   "cell_type": "code",
   "execution_count": 61,
   "metadata": {},
   "outputs": [
    {
     "data": {
      "image/png": "[encoded data removed]",
      "text/plain": [
       "<Figure size 576x432 with 4 Axes>"
      ]
     },
     "metadata": {
      "needs_background": "light"
     },
     "output_type": "display_data"
    }
   ],
   "source": [
    "# Plotando histogramas dos dados\n",
    "\n",
    "import matplotlib.pyplot as plt\n",
    "%matplotlib inline  \n",
    "df.hist(bins=400, figsize=(8,6))\n",
    "plt.tight_layout()\n",
    "plt.show()"
   ]
  },
  {
   "cell_type": "markdown",
   "metadata": {},
   "source": [
    "##### 3.3 Separando em banco de dados de treinamento e teste"
   ]
  },
  {
   "cell_type": "markdown",
   "metadata": {},
   "source": [
    "Os dados serão divididos em 80% treinamento e velidação e 20% para teste"
   ]
  },
  {
   "cell_type": "code",
   "execution_count": 26,
   "metadata": {},
   "outputs": [
    {
     "name": "stdout",
     "output_type": "stream",
     "text": [
      "<class 'pandas.core.frame.DataFrame'>\n",
      "Int64Index: 30922 entries, 0 to 40715\n",
      "Data columns (total 5 columns):\n",
      "Date/Time                        30922 non-null datetime64[ns]\n",
      "LV ActivePower (kW)              30922 non-null float64\n",
      "Wind Speed (m/s)                 30922 non-null float64\n",
      "Theoretical_Power_Curve (KWh)    30922 non-null float64\n",
      "Wind Direction (°)               30922 non-null float64\n",
      "dtypes: datetime64[ns](1), float64(4)\n",
      "memory usage: 1.4 MB\n",
      "<class 'pandas.core.frame.DataFrame'>\n",
      "Int64Index: 7730 entries, 40716 to 50528\n",
      "Data columns (total 5 columns):\n",
      "Date/Time                        7730 non-null datetime64[ns]\n",
      "LV ActivePower (kW)              7730 non-null float64\n",
      "Wind Speed (m/s)                 7730 non-null float64\n",
      "Theoretical_Power_Curve (KWh)    7730 non-null float64\n",
      "Wind Direction (°)               7730 non-null float64\n",
      "dtypes: datetime64[ns](1), float64(4)\n",
      "memory usage: 362.3 KB\n"
     ]
    }
   ],
   "source": [
    "train_lengh = int(len(df)*0.8)\n",
    "train_data = df[0:train_lengh]\n",
    "\n",
    "test_lengh = train_lengh + int(len(df)*0.2)\n",
    "test_data = df[train_lengh:test_lengh]\n",
    "\n",
    "train_data.info()\n",
    "test_data.info()"
   ]
  },
  {
   "cell_type": "markdown",
   "metadata": {},
   "source": [
    "#### 3.4 Escalonamento de dados de treinamento"
   ]
  },
  {
   "cell_type": "code",
   "execution_count": 65,
   "metadata": {},
   "outputs": [
    {
     "data": {
      "text/html": [
       "<div>\n",
       "<style scoped>\n",
       "    .dataframe tbody tr th:only-of-type {\n",
       "        vertical-align: middle;\n",
       "    }\n",
       "\n",
       "    .dataframe tbody tr th {\n",
       "        vertical-align: top;\n",
       "    }\n",
       "\n",
       "    .dataframe thead th {\n",
       "        text-align: right;\n",
       "    }\n",
       "</style>\n",
       "<table border=\"1\" class=\"dataframe\">\n",
       "  <thead>\n",
       "    <tr style=\"text-align: right;\">\n",
       "      <th></th>\n",
       "      <th>LV ActivePower (kW)</th>\n",
       "      <th>Wind Speed (m/s)</th>\n",
       "      <th>Theoretical_Power_Curve (KWh)</th>\n",
       "      <th>Wind Direction (°)</th>\n",
       "    </tr>\n",
       "  </thead>\n",
       "  <tbody>\n",
       "    <tr>\n",
       "      <th>count</th>\n",
       "      <td>30922.000000</td>\n",
       "      <td>30922.000000</td>\n",
       "      <td>30922.000000</td>\n",
       "      <td>30922.000000</td>\n",
       "    </tr>\n",
       "    <tr>\n",
       "      <th>mean</th>\n",
       "      <td>0.442872</td>\n",
       "      <td>0.345646</td>\n",
       "      <td>0.489012</td>\n",
       "      <td>0.306710</td>\n",
       "    </tr>\n",
       "    <tr>\n",
       "      <th>std</th>\n",
       "      <td>0.344036</td>\n",
       "      <td>0.217616</td>\n",
       "      <td>0.362134</td>\n",
       "      <td>0.238033</td>\n",
       "    </tr>\n",
       "    <tr>\n",
       "      <th>min</th>\n",
       "      <td>0.000000</td>\n",
       "      <td>0.000000</td>\n",
       "      <td>0.000000</td>\n",
       "      <td>0.000000</td>\n",
       "    </tr>\n",
       "    <tr>\n",
       "      <th>25%</th>\n",
       "      <td>0.123243</td>\n",
       "      <td>0.173925</td>\n",
       "      <td>0.148538</td>\n",
       "      <td>0.131698</td>\n",
       "    </tr>\n",
       "    <tr>\n",
       "      <th>50%</th>\n",
       "      <td>0.362809</td>\n",
       "      <td>0.310413</td>\n",
       "      <td>0.411665</td>\n",
       "      <td>0.185963</td>\n",
       "    </tr>\n",
       "    <tr>\n",
       "      <th>75%</th>\n",
       "      <td>0.767142</td>\n",
       "      <td>0.493786</td>\n",
       "      <td>0.892512</td>\n",
       "      <td>0.542174</td>\n",
       "    </tr>\n",
       "    <tr>\n",
       "      <th>max</th>\n",
       "      <td>1.000000</td>\n",
       "      <td>1.000000</td>\n",
       "      <td>1.000000</td>\n",
       "      <td>0.999745</td>\n",
       "    </tr>\n",
       "  </tbody>\n",
       "</table>\n",
       "</div>"
      ],
      "text/plain": [
       "       LV ActivePower (kW)  Wind Speed (m/s)  Theoretical_Power_Curve (KWh)  \\\n",
       "count         30922.000000      30922.000000                   30922.000000   \n",
       "mean              0.442872          0.345646                       0.489012   \n",
       "std               0.344036          0.217616                       0.362134   \n",
       "min               0.000000          0.000000                       0.000000   \n",
       "25%               0.123243          0.173925                       0.148538   \n",
       "50%               0.362809          0.310413                       0.411665   \n",
       "75%               0.767142          0.493786                       0.892512   \n",
       "max               1.000000          1.000000                       1.000000   \n",
       "\n",
       "       Wind Direction (°)  \n",
       "count        30922.000000  \n",
       "mean             0.306710  \n",
       "std              0.238033  \n",
       "min              0.000000  \n",
       "25%              0.131698  \n",
       "50%              0.185963  \n",
       "75%              0.542174  \n",
       "max              0.999745  "
      ]
     },
     "execution_count": 65,
     "metadata": {},
     "output_type": "execute_result"
    }
   ],
   "source": [
    "dfn = train_data.copy()\n",
    "\n",
    "i = ['Theoretical_Power_Curve (KWh)' ,'Wind Speed (m/s)', 'Wind Direction (°)', 'LV ActivePower (kW)']\n",
    "for j in i:\n",
    "    a = df[j].max()\n",
    "    b = df[j].min()\n",
    "    dfn[j] = (dfn[j]-b)/(a-b)\n",
    "    \n",
    "dfn.describe()"
   ]
  },
  {
   "cell_type": "markdown",
   "metadata": {},
   "source": [
    "#### 3.5 Definindo features e targets"
   ]
  },
  {
   "cell_type": "code",
   "execution_count": 66,
   "metadata": {},
   "outputs": [
    {
     "name": "stdout",
     "output_type": "stream",
     "text": [
      "(30922, 2)\n",
      "(30922,)\n"
     ]
    }
   ],
   "source": [
    "import numpy as np\n",
    "\n",
    "features_train, targets_train = dfn[['Wind Speed (m/s)',\"Wind Direction (°)\"]], dfn['LV ActivePower (kW)']\n",
    "\n",
    "# transformando em arrays\n",
    "\n",
    "features_train = np.array(features_train)\n",
    "targets_train = np.array(targets_train)\n",
    "\n",
    "print(features_train.shape)\n",
    "print(targets_train.shape)"
   ]
  },
  {
   "cell_type": "markdown",
   "metadata": {},
   "source": [
    "### 4. Seleção do modelo"
   ]
  },
  {
   "attachments": {
    "image.png": {
     "image/png": "[encoded data removed]"
    }
   },
   "cell_type": "markdown",
   "metadata": {},
   "source": [
    "O modelo proposto em Schlechtingen e Santos (2011) é uma rede neural do tipo feedforward com 5 neurons na hidden layer, como mostrado na figura a seguir:\n",
    "\n",
    "![image.png](attachment:image.png)\n",
    "\n",
    "Os sinais de input, para o caso específico dessa simulação, serão Velocidade do Vento (Wind Speed) e Direção (Wind Direction), e a saída será a Potência de Saída (Power Output).\n",
    "\n",
    "A função de ativação será a função Sigmoide.\n",
    "\n",
    "Método de treinamento: Gradiente descendente com momento.\n",
    "\n",
    "Pesos iniciados aleatóriamente.\n",
    "\n"
   ]
  },
  {
   "cell_type": "code",
   "execution_count": 67,
   "metadata": {},
   "outputs": [],
   "source": [
    "# Importando keras\n",
    "\n",
    "from keras.models import Sequential\n",
    "from keras.layers import Dense"
   ]
  },
  {
   "cell_type": "code",
   "execution_count": 68,
   "metadata": {},
   "outputs": [],
   "source": [
    "# definindo o modelo keras\n",
    "\n",
    "model = Sequential()\n",
    "model.add(Dense(5, input_dim = 2, activation = 'sigmoid'))\n",
    "model.add(Dense(1, activation = 'linear'))"
   ]
  },
  {
   "cell_type": "code",
   "execution_count": 69,
   "metadata": {},
   "outputs": [],
   "source": [
    "# compilando o modelo keras\n",
    "\n",
    "model.compile(loss='mean_squared_error', optimizer = 'adam')"
   ]
  },
  {
   "cell_type": "markdown",
   "metadata": {},
   "source": [
    "### 5. Treinando a rede neural"
   ]
  },
  {
   "cell_type": "code",
   "execution_count": 70,
   "metadata": {},
   "outputs": [
    {
     "name": "stdout",
     "output_type": "stream",
     "text": [
      "Epoch 1/10\n",
      "30922/30922 [==============================] - 23s 749us/step - loss: 0.0193\n",
      "Epoch 2/10\n",
      "30922/30922 [==============================] - 29s 932us/step - loss: 0.0083\n",
      "Epoch 3/10\n",
      "30922/30922 [==============================] - 27s 872us/step - loss: 0.0078\n",
      "Epoch 4/10\n",
      "30922/30922 [==============================] - 30s 962us/step - loss: 0.0071\n",
      "Epoch 5/10\n",
      "30922/30922 [==============================] - 23s 744us/step - loss: 0.0062\n",
      "Epoch 6/10\n",
      "30922/30922 [==============================] - 23s 729us/step - loss: 0.0053\n",
      "Epoch 7/10\n",
      "30922/30922 [==============================] - 23s 740us/step - loss: 0.0049\n",
      "Epoch 8/10\n",
      "30922/30922 [==============================] - 22s 725us/step - loss: 0.0048\n",
      "Epoch 9/10\n",
      "30922/30922 [==============================] - 23s 740us/step - loss: 0.0048\n",
      "Epoch 10/10\n",
      "30922/30922 [==============================] - 27s 865us/step - loss: 0.0048\n"
     ]
    },
    {
     "data": {
      "text/plain": [
       "<keras.callbacks.History at 0x18b976046d8>"
      ]
     },
     "execution_count": 70,
     "metadata": {},
     "output_type": "execute_result"
    }
   ],
   "source": [
    "# fitting the model\n",
    "\n",
    "X= features_train\n",
    "y= targets_train\n",
    "\n",
    "model.fit(X, y, epochs = 10, batch_size = 1)"
   ]
  },
  {
   "cell_type": "code",
   "execution_count": 71,
   "metadata": {},
   "outputs": [
    {
     "name": "stdout",
     "output_type": "stream",
     "text": [
      "30922/30922 [==============================] - 0s 16us/step\n",
      "0.004656770963588864\n"
     ]
    }
   ],
   "source": [
    "# evaluating training loss\n",
    "\n",
    "loss = model.evaluate(X, y)\n",
    "print(loss)"
   ]
  },
  {
   "cell_type": "markdown",
   "metadata": {},
   "source": [
    "### 6. Teste da rede neural"
   ]
  },
  {
   "cell_type": "code",
   "execution_count": 72,
   "metadata": {},
   "outputs": [
    {
     "data": {
      "text/html": [
       "<div>\n",
       "<style scoped>\n",
       "    .dataframe tbody tr th:only-of-type {\n",
       "        vertical-align: middle;\n",
       "    }\n",
       "\n",
       "    .dataframe tbody tr th {\n",
       "        vertical-align: top;\n",
       "    }\n",
       "\n",
       "    .dataframe thead th {\n",
       "        text-align: right;\n",
       "    }\n",
       "</style>\n",
       "<table border=\"1\" class=\"dataframe\">\n",
       "  <thead>\n",
       "    <tr style=\"text-align: right;\">\n",
       "      <th></th>\n",
       "      <th>LV ActivePower (kW)</th>\n",
       "      <th>Wind Speed (m/s)</th>\n",
       "      <th>Theoretical_Power_Curve (KWh)</th>\n",
       "      <th>Wind Direction (°)</th>\n",
       "    </tr>\n",
       "  </thead>\n",
       "  <tbody>\n",
       "    <tr>\n",
       "      <th>count</th>\n",
       "      <td>7730.000000</td>\n",
       "      <td>7730.000000</td>\n",
       "      <td>7730.000000</td>\n",
       "      <td>7730.000000</td>\n",
       "    </tr>\n",
       "    <tr>\n",
       "      <th>mean</th>\n",
       "      <td>0.512408</td>\n",
       "      <td>0.397189</td>\n",
       "      <td>0.563242</td>\n",
       "      <td>0.353518</td>\n",
       "    </tr>\n",
       "    <tr>\n",
       "      <th>std</th>\n",
       "      <td>0.340498</td>\n",
       "      <td>0.220256</td>\n",
       "      <td>0.345820</td>\n",
       "      <td>0.240724</td>\n",
       "    </tr>\n",
       "    <tr>\n",
       "      <th>min</th>\n",
       "      <td>0.000003</td>\n",
       "      <td>0.000526</td>\n",
       "      <td>0.000077</td>\n",
       "      <td>0.000039</td>\n",
       "    </tr>\n",
       "    <tr>\n",
       "      <th>25%</th>\n",
       "      <td>0.195715</td>\n",
       "      <td>0.230416</td>\n",
       "      <td>0.238468</td>\n",
       "      <td>0.155223</td>\n",
       "    </tr>\n",
       "    <tr>\n",
       "      <th>50%</th>\n",
       "      <td>0.467863</td>\n",
       "      <td>0.359031</td>\n",
       "      <td>0.541134</td>\n",
       "      <td>0.238869</td>\n",
       "    </tr>\n",
       "    <tr>\n",
       "      <th>75%</th>\n",
       "      <td>0.862999</td>\n",
       "      <td>0.533670</td>\n",
       "      <td>0.948756</td>\n",
       "      <td>0.555698</td>\n",
       "    </tr>\n",
       "    <tr>\n",
       "      <th>max</th>\n",
       "      <td>0.996061</td>\n",
       "      <td>0.999781</td>\n",
       "      <td>1.000000</td>\n",
       "      <td>1.000000</td>\n",
       "    </tr>\n",
       "  </tbody>\n",
       "</table>\n",
       "</div>"
      ],
      "text/plain": [
       "       LV ActivePower (kW)  Wind Speed (m/s)  Theoretical_Power_Curve (KWh)  \\\n",
       "count          7730.000000       7730.000000                    7730.000000   \n",
       "mean              0.512408          0.397189                       0.563242   \n",
       "std               0.340498          0.220256                       0.345820   \n",
       "min               0.000003          0.000526                       0.000077   \n",
       "25%               0.195715          0.230416                       0.238468   \n",
       "50%               0.467863          0.359031                       0.541134   \n",
       "75%               0.862999          0.533670                       0.948756   \n",
       "max               0.996061          0.999781                       1.000000   \n",
       "\n",
       "       Wind Direction (°)  \n",
       "count         7730.000000  \n",
       "mean             0.353518  \n",
       "std              0.240724  \n",
       "min              0.000039  \n",
       "25%              0.155223  \n",
       "50%              0.238869  \n",
       "75%              0.555698  \n",
       "max              1.000000  "
      ]
     },
     "execution_count": 72,
     "metadata": {},
     "output_type": "execute_result"
    }
   ],
   "source": [
    "# preparando os dados de teste\n",
    "\n",
    "dfnt = test_data.copy()\n",
    "\n",
    "i = ['Theoretical_Power_Curve (KWh)' ,'Wind Speed (m/s)', 'Wind Direction (°)', 'LV ActivePower (kW)']\n",
    "for j in i:\n",
    "    a = df[j].max()\n",
    "    b = df[j].min()\n",
    "    dfnt[j] = (dfnt[j]-b)/(a-b)\n",
    "    \n",
    "dfnt.describe()\n"
   ]
  },
  {
   "cell_type": "code",
   "execution_count": 73,
   "metadata": {},
   "outputs": [
    {
     "name": "stdout",
     "output_type": "stream",
     "text": [
      "(7730, 1)\n"
     ]
    }
   ],
   "source": [
    "# making predictions out of the test set\n",
    "\n",
    "X_test = dfnt[['Wind Speed (m/s)','Wind Direction (°)']]\n",
    "testing = model.predict(X_test)\n",
    "\n",
    "testing = np.array(testing)\n",
    "print(testing.shape)"
   ]
  },
  {
   "cell_type": "code",
   "execution_count": 74,
   "metadata": {},
   "outputs": [],
   "source": [
    "# evaluating test error\n",
    "\n",
    "y_testing = np.array(dfnt['LV ActivePower (kW)']).reshape(-1, 1)\n",
    "error = testing - y_testing"
   ]
  },
  {
   "cell_type": "code",
   "execution_count": 79,
   "metadata": {},
   "outputs": [
    {
     "data": {
      "text/plain": [
       "[<matplotlib.lines.Line2D at 0x18b98e0c438>]"
      ]
     },
     "execution_count": 79,
     "metadata": {},
     "output_type": "execute_result"
    },
    {
     "data": {
      "image/png": "[encoded data removed]",
      "text/plain": [
       "<Figure size 432x288 with 1 Axes>"
      ]
     },
     "metadata": {
      "needs_background": "light"
     },
     "output_type": "display_data"
    }
   ],
   "source": [
    "# plotting error\n",
    "\n",
    "x = np.arange(1, len(y_testing)+1, 1)\n",
    "y = error\n",
    "\n",
    "plt.xlabel('Value [10 sec]')\n",
    "plt.ylabel('Erro de previsão (kW)')\n",
    "plt.plot(x, y) "
   ]
  },
  {
   "cell_type": "markdown",
   "metadata": {},
   "source": [
    "#### 6.1 Aplicando o gráfico de controle"
   ]
  },
  {
   "cell_type": "code",
   "execution_count": 80,
   "metadata": {},
   "outputs": [],
   "source": [
    "# Encontrando limites\n",
    "\n",
    "Z = 0.499\n",
    "\n",
    "error_df = pd.DataFrame(error)\n",
    "\n",
    "limit_low = - Z*error_df.std()\n",
    "limit_high = Z*error_df.std()"
   ]
  },
  {
   "cell_type": "code",
   "execution_count": 81,
   "metadata": {},
   "outputs": [
    {
     "data": {
      "image/png": "[encoded data removed]",
      "text/plain": [
       "<Figure size 432x288 with 1 Axes>"
      ]
     },
     "metadata": {
      "needs_background": "light"
     },
     "output_type": "display_data"
    }
   ],
   "source": [
    "x = np.arange(1, len(y_testing)+1, 1)\n",
    "y = error\n",
    "\n",
    "plt.errorbar(x = x, y = error)\n",
    "plt.errorbar(x = x, y = limit_low)\n",
    "plt.errorbar(x = x, y = limit_high)\n",
    "plt.xlabel('Value [10 sec]')\n",
    "plt.ylabel('Erro de previsão (kW)')\n",
    "plt.show()"
   ]
  },
  {
   "cell_type": "markdown",
   "metadata": {},
   "source": [
    "O modelo acima descrito corresponde a todos os errros durante a time-series. No entando, o artigo de Schlechtinge, Santos e Achiche (2013), fala que o erro deve ser analisado por lotes. Para esse banco de dados, os de erro serão analisados por média horária. Como cada valor corresponde a um intervalo de 10 min, a cada 6 erros será tirada a média entre eles."
   ]
  },
  {
   "cell_type": "code",
   "execution_count": 82,
   "metadata": {},
   "outputs": [],
   "source": [
    "# definindo função que separa em lotes 1 hora\n",
    "\n",
    "def hour_batches_mean(data):\n",
    "    how_many = len(data)//6\n",
    "    error_batches = np.ones((how_many, 1))\n",
    "    for i in range(how_many):\n",
    "        for j in range(6):\n",
    "            error_batches[i] += data[6*i + j]\n",
    "            \n",
    "            \n",
    "        error_batches[i] = data[i]/6\n",
    "    return error_batches"
   ]
  },
  {
   "cell_type": "code",
   "execution_count": 83,
   "metadata": {},
   "outputs": [],
   "source": [
    "error_hour_mean = error.copy()\n",
    "error_batches = hour_batches_mean(error_hour_mean)"
   ]
  },
  {
   "cell_type": "code",
   "execution_count": 84,
   "metadata": {},
   "outputs": [
    {
     "data": {
      "image/png": "[encoded data removed]",
      "text/plain": [
       "<Figure size 432x288 with 1 Axes>"
      ]
     },
     "metadata": {
      "needs_background": "light"
     },
     "output_type": "display_data"
    }
   ],
   "source": [
    "# grafico do erro em medição horária\n",
    "\n",
    "y = error_batches\n",
    "x = x = np.arange(1, len(error_batches)+1, 1)\n",
    "\n",
    "plt.errorbar(x = x, y = error_batches)\n",
    "#plt.errorbar(x = x, y = limit_low)\n",
    "#plt.errorbar(x = x, y = limit_high)\n",
    "plt.xlabel('Horas')\n",
    "plt.ylabel('Erro médio (kW)')\n",
    "plt.show()"
   ]
  },
  {
   "cell_type": "markdown",
   "metadata": {},
   "source": [
    "#### 6.2 Valor de saída real"
   ]
  },
  {
   "cell_type": "markdown",
   "metadata": {},
   "source": [
    "Aplicando a formual de normalização de forma inversa para encontrar valores reais"
   ]
  },
  {
   "cell_type": "code",
   "execution_count": 85,
   "metadata": {},
   "outputs": [],
   "source": [
    "a = df['LV ActivePower (kW)'].max()\n",
    "b = df['LV ActivePower (kW)'].min()\n",
    "\n",
    "y_testing_real = y_testing*(a-b) + b\n",
    "testing_real = testing*(a-b) + b"
   ]
  },
  {
   "cell_type": "code",
   "execution_count": 86,
   "metadata": {},
   "outputs": [
    {
     "name": "stdout",
     "output_type": "stream",
     "text": [
      "[[ 898.58477783]\n",
      " [ 982.78869629]\n",
      " [ 722.4074707 ]\n",
      " ...\n",
      " [1684.35302734]\n",
      " [2201.10693359]\n",
      " [2515.6940918 ]]\n"
     ]
    }
   ],
   "source": [
    "print(y_testing_real)"
   ]
  },
  {
   "cell_type": "code",
   "execution_count": 87,
   "metadata": {},
   "outputs": [
    {
     "name": "stdout",
     "output_type": "stream",
     "text": [
      "[[ 793.8823 ]\n",
      " [ 956.92426]\n",
      " [ 685.6053 ]\n",
      " ...\n",
      " [1034.1329 ]\n",
      " [1589.3033 ]\n",
      " [2122.0896 ]]\n"
     ]
    }
   ],
   "source": [
    "print(testing_real)"
   ]
  },
  {
   "cell_type": "code",
   "execution_count": 88,
   "metadata": {},
   "outputs": [],
   "source": [
    "error_real = testing_real - y_testing_real"
   ]
  },
  {
   "cell_type": "code",
   "execution_count": 92,
   "metadata": {},
   "outputs": [
    {
     "data": {
      "image/png": "[encoded data removed]",
      "text/plain": [
       "<Figure size 432x288 with 1 Axes>"
      ]
     },
     "metadata": {
      "needs_background": "light"
     },
     "output_type": "display_data"
    }
   ],
   "source": [
    "y = error_real\n",
    "x = x = np.arange(1, len(error_real)+1, 1)\n",
    "\n",
    "plt.errorbar(x = x, y = error_real)\n",
    "#plt.errorbar(x = x, y = limit_low)\n",
    "#plt.errorbar(x = x, y = limit_high)\n",
    "plt.xlabel('[10sec]')\n",
    "plt.ylabel('Erro médio real (kW)')\n",
    "plt.show()"
   ]
  },
  {
   "cell_type": "markdown",
   "metadata": {},
   "source": [
    "Passando para lotes de uma hora"
   ]
  },
  {
   "cell_type": "code",
   "execution_count": 90,
   "metadata": {},
   "outputs": [],
   "source": [
    "error_hour_mean_real = error_real.copy()\n",
    "error_batches_real = hour_batches_mean(error_hour_mean_real)"
   ]
  },
  {
   "cell_type": "code",
   "execution_count": 91,
   "metadata": {},
   "outputs": [
    {
     "data": {
      "image/png": "[encoded data removed]",
      "text/plain": [
       "<Figure size 432x288 with 1 Axes>"
      ]
     },
     "metadata": {
      "needs_background": "light"
     },
     "output_type": "display_data"
    }
   ],
   "source": [
    "# grafico do erro em medição horária\n",
    "\n",
    "y = error_batches_real\n",
    "x = x = np.arange(1, len(error_batches_real)+1, 1)\n",
    "\n",
    "plt.errorbar(x = x, y = error_batches_real)\n",
    "#plt.errorbar(x = x, y = limit_low)\n",
    "#plt.errorbar(x = x, y = limit_high)\n",
    "plt.xlabel('Horas')\n",
    "plt.ylabel('Erro médio real horário (kW)')\n",
    "plt.show()"
   ]
  },
  {
   "cell_type": "markdown",
   "metadata": {},
   "source": [
    "Ao analisar os gráficos de controle, vemos que mais ou menos a partir de 550 horas de operação, a turbina sai muito do comportamento esperado. O que pode ser um sinal de mal funcionamento."
   ]
  },
  {
   "cell_type": "markdown",
   "metadata": {},
   "source": [
    "### 7. Ajustes"
   ]
  },
  {
   "cell_type": "code",
   "execution_count": 93,
   "metadata": {},
   "outputs": [
    {
     "data": {
      "text/html": [
       "<div>\n",
       "<style scoped>\n",
       "    .dataframe tbody tr th:only-of-type {\n",
       "        vertical-align: middle;\n",
       "    }\n",
       "\n",
       "    .dataframe tbody tr th {\n",
       "        vertical-align: top;\n",
       "    }\n",
       "\n",
       "    .dataframe thead th {\n",
       "        text-align: right;\n",
       "    }\n",
       "</style>\n",
       "<table border=\"1\" class=\"dataframe\">\n",
       "  <thead>\n",
       "    <tr style=\"text-align: right;\">\n",
       "      <th></th>\n",
       "      <th>LV ActivePower (kW)</th>\n",
       "      <th>Wind Speed (m/s)</th>\n",
       "      <th>Theoretical_Power_Curve (KWh)</th>\n",
       "      <th>Wind Direction (°)</th>\n",
       "    </tr>\n",
       "  </thead>\n",
       "  <tbody>\n",
       "    <tr>\n",
       "      <th>LV ActivePower (kW)</th>\n",
       "      <td>1.000000</td>\n",
       "      <td>0.943495</td>\n",
       "      <td>0.973266</td>\n",
       "      <td>0.020504</td>\n",
       "    </tr>\n",
       "    <tr>\n",
       "      <th>Wind Speed (m/s)</th>\n",
       "      <td>0.943495</td>\n",
       "      <td>1.000000</td>\n",
       "      <td>0.950241</td>\n",
       "      <td>0.036232</td>\n",
       "    </tr>\n",
       "    <tr>\n",
       "      <th>Theoretical_Power_Curve (KWh)</th>\n",
       "      <td>0.973266</td>\n",
       "      <td>0.950241</td>\n",
       "      <td>1.000000</td>\n",
       "      <td>-0.008058</td>\n",
       "    </tr>\n",
       "    <tr>\n",
       "      <th>Wind Direction (°)</th>\n",
       "      <td>0.020504</td>\n",
       "      <td>0.036232</td>\n",
       "      <td>-0.008058</td>\n",
       "      <td>1.000000</td>\n",
       "    </tr>\n",
       "  </tbody>\n",
       "</table>\n",
       "</div>"
      ],
      "text/plain": [
       "                               LV ActivePower (kW)  Wind Speed (m/s)  \\\n",
       "LV ActivePower (kW)                       1.000000          0.943495   \n",
       "Wind Speed (m/s)                          0.943495          1.000000   \n",
       "Theoretical_Power_Curve (KWh)             0.973266          0.950241   \n",
       "Wind Direction (°)                        0.020504          0.036232   \n",
       "\n",
       "                               Theoretical_Power_Curve (KWh)  \\\n",
       "LV ActivePower (kW)                                 0.973266   \n",
       "Wind Speed (m/s)                                    0.950241   \n",
       "Theoretical_Power_Curve (KWh)                       1.000000   \n",
       "Wind Direction (°)                                 -0.008058   \n",
       "\n",
       "                               Wind Direction (°)  \n",
       "LV ActivePower (kW)                      0.020504  \n",
       "Wind Speed (m/s)                         0.036232  \n",
       "Theoretical_Power_Curve (KWh)           -0.008058  \n",
       "Wind Direction (°)                       1.000000  "
      ]
     },
     "execution_count": 93,
     "metadata": {},
     "output_type": "execute_result"
    }
   ],
   "source": [
    "df.corr()"
   ]
  },
  {
   "cell_type": "markdown",
   "metadata": {},
   "source": [
    "No quadro acima pode-se ver que a potência de saída tem uma correlação forte com a velocidade do vento, mas pequena em relação a direção do vento. Dessa forma, o modelo que leva em consideração a direção do vento não deve ter bons resultados. Dessa forma, vamos transformar a direção do vento em uma variável categórica. Essa variável será adicionada a rede neural mais adiante para testar seu desempenho com, e sem o one hot encoding."
   ]
  },
  {
   "cell_type": "code",
   "execution_count": 98,
   "metadata": {},
   "outputs": [
    {
     "data": {
      "text/plain": [
       "array([3., 3., 4., ..., 1., 1., 1.])"
      ]
     },
     "execution_count": 98,
     "metadata": {},
     "output_type": "execute_result"
    }
   ],
   "source": [
    "wd_train = np.array(train_data['Wind Direction (°)'].copy())\n",
    "\n",
    "for i in range(len(wd_train)):\n",
    "    if wd_train[i] < 90:\n",
    "        wd_train[i] = 1\n",
    "    elif 90 <= wd_train[i] < 180:\n",
    "        wd_train[i] = 2\n",
    "    elif 180 <= wd_train[i] < 270:\n",
    "        wd_train[i] = 3\n",
    "    else:\n",
    "        wd_train[i] = 4\n",
    "        \n",
    "wd_train"
   ]
  },
  {
   "cell_type": "code",
   "execution_count": 135,
   "metadata": {},
   "outputs": [
    {
     "data": {
      "text/html": [
       "<div>\n",
       "<style scoped>\n",
       "    .dataframe tbody tr th:only-of-type {\n",
       "        vertical-align: middle;\n",
       "    }\n",
       "\n",
       "    .dataframe tbody tr th {\n",
       "        vertical-align: top;\n",
       "    }\n",
       "\n",
       "    .dataframe thead th {\n",
       "        text-align: right;\n",
       "    }\n",
       "</style>\n",
       "<table border=\"1\" class=\"dataframe\">\n",
       "  <thead>\n",
       "    <tr style=\"text-align: right;\">\n",
       "      <th></th>\n",
       "      <th>1.0</th>\n",
       "      <th>2.0</th>\n",
       "      <th>3.0</th>\n",
       "      <th>4.0</th>\n",
       "    </tr>\n",
       "  </thead>\n",
       "  <tbody>\n",
       "    <tr>\n",
       "      <th>0</th>\n",
       "      <td>0</td>\n",
       "      <td>0</td>\n",
       "      <td>1</td>\n",
       "      <td>0</td>\n",
       "    </tr>\n",
       "    <tr>\n",
       "      <th>1</th>\n",
       "      <td>0</td>\n",
       "      <td>0</td>\n",
       "      <td>1</td>\n",
       "      <td>0</td>\n",
       "    </tr>\n",
       "    <tr>\n",
       "      <th>2</th>\n",
       "      <td>0</td>\n",
       "      <td>0</td>\n",
       "      <td>0</td>\n",
       "      <td>1</td>\n",
       "    </tr>\n",
       "    <tr>\n",
       "      <th>3</th>\n",
       "      <td>0</td>\n",
       "      <td>0</td>\n",
       "      <td>0</td>\n",
       "      <td>1</td>\n",
       "    </tr>\n",
       "    <tr>\n",
       "      <th>4</th>\n",
       "      <td>0</td>\n",
       "      <td>0</td>\n",
       "      <td>1</td>\n",
       "      <td>0</td>\n",
       "    </tr>\n",
       "  </tbody>\n",
       "</table>\n",
       "</div>"
      ],
      "text/plain": [
       "   1.0  2.0  3.0  4.0\n",
       "0    0    0    1    0\n",
       "1    0    0    1    0\n",
       "2    0    0    0    1\n",
       "3    0    0    0    1\n",
       "4    0    0    1    0"
      ]
     },
     "execution_count": 135,
     "metadata": {},
     "output_type": "execute_result"
    }
   ],
   "source": [
    "#utilizando one hot encoding\n",
    "\n",
    "wd_dummies = pd.get_dummies(wd_train)\n",
    "wd_dummies.head()"
   ]
  },
  {
   "cell_type": "code",
   "execution_count": 143,
   "metadata": {},
   "outputs": [
    {
     "data": {
      "text/html": [
       "<div>\n",
       "<style scoped>\n",
       "    .dataframe tbody tr th:only-of-type {\n",
       "        vertical-align: middle;\n",
       "    }\n",
       "\n",
       "    .dataframe tbody tr th {\n",
       "        vertical-align: top;\n",
       "    }\n",
       "\n",
       "    .dataframe thead th {\n",
       "        text-align: right;\n",
       "    }\n",
       "</style>\n",
       "<table border=\"1\" class=\"dataframe\">\n",
       "  <thead>\n",
       "    <tr style=\"text-align: right;\">\n",
       "      <th></th>\n",
       "      <th>0-90°</th>\n",
       "      <th>90°-180°</th>\n",
       "      <th>180°-270°</th>\n",
       "      <th>270°-360°</th>\n",
       "    </tr>\n",
       "  </thead>\n",
       "  <tbody>\n",
       "    <tr>\n",
       "      <th>0</th>\n",
       "      <td>0</td>\n",
       "      <td>0</td>\n",
       "      <td>1</td>\n",
       "      <td>0</td>\n",
       "    </tr>\n",
       "    <tr>\n",
       "      <th>1</th>\n",
       "      <td>0</td>\n",
       "      <td>0</td>\n",
       "      <td>1</td>\n",
       "      <td>0</td>\n",
       "    </tr>\n",
       "    <tr>\n",
       "      <th>2</th>\n",
       "      <td>0</td>\n",
       "      <td>0</td>\n",
       "      <td>0</td>\n",
       "      <td>1</td>\n",
       "    </tr>\n",
       "    <tr>\n",
       "      <th>3</th>\n",
       "      <td>0</td>\n",
       "      <td>0</td>\n",
       "      <td>0</td>\n",
       "      <td>1</td>\n",
       "    </tr>\n",
       "    <tr>\n",
       "      <th>4</th>\n",
       "      <td>0</td>\n",
       "      <td>0</td>\n",
       "      <td>1</td>\n",
       "      <td>0</td>\n",
       "    </tr>\n",
       "  </tbody>\n",
       "</table>\n",
       "</div>"
      ],
      "text/plain": [
       "   0-90°  90°-180°  180°-270°  270°-360°\n",
       "0      0         0          1          0\n",
       "1      0         0          1          0\n",
       "2      0         0          0          1\n",
       "3      0         0          0          1\n",
       "4      0         0          1          0"
      ]
     },
     "execution_count": 143,
     "metadata": {},
     "output_type": "execute_result"
    }
   ],
   "source": [
    "wd_dummies.columns = ['0-90°','90°-180°','180°-270°','270°-360°']\n",
    "wd_dummies.head()"
   ]
  },
  {
   "cell_type": "markdown",
   "metadata": {},
   "source": [
    "Escalonando os dados de treinamento"
   ]
  },
  {
   "cell_type": "code",
   "execution_count": 169,
   "metadata": {},
   "outputs": [
    {
     "name": "stdout",
     "output_type": "stream",
     "text": [
      "float64\n"
     ]
    }
   ],
   "source": [
    "a = df['Wind Speed (m/s)'].max()\n",
    "b = df['Wind Speed (m/s)'].min()\n",
    "\n",
    "train_data_with_dummies = train_data['Wind Speed (m/s)'].copy()\n",
    "train_data_with_dummies = (train_data_with_dummies-b)/(a-b)\n",
    "train_data_with_dummies = np.array(train_data_with_dummies).reshape(-1, 1)\n",
    "train_data_with_dummies\n",
    "\n",
    "print(train_data_with_dummies.dtype)"
   ]
  },
  {
   "cell_type": "markdown",
   "metadata": {},
   "source": [
    "Unindo dummies as features"
   ]
  },
  {
   "cell_type": "code",
   "execution_count": 170,
   "metadata": {},
   "outputs": [
    {
     "name": "stdout",
     "output_type": "stream",
     "text": [
      "float64\n"
     ]
    }
   ],
   "source": [
    "wd_dummies = np.array(wd_dummies)\n",
    "wd_dummies = wd_dummies.astype(float)\n",
    "print(wd_dummies.dtype)"
   ]
  },
  {
   "cell_type": "code",
   "execution_count": 171,
   "metadata": {},
   "outputs": [],
   "source": [
    "train_data_with_dummies = np.concatenate((train_data_with_dummies, wd_dummies), axis = 1)"
   ]
  },
  {
   "cell_type": "markdown",
   "metadata": {},
   "source": [
    "Definindo nova rede neural, com 5 entradas"
   ]
  },
  {
   "cell_type": "code",
   "execution_count": 174,
   "metadata": {},
   "outputs": [],
   "source": [
    "# definindo o modelo keras\n",
    "\n",
    "model2 = Sequential()\n",
    "model2.add(Dense(5, input_dim = 5, activation = 'sigmoid'))\n",
    "model2.add(Dense(1, activation = 'linear'))"
   ]
  },
  {
   "cell_type": "code",
   "execution_count": 175,
   "metadata": {},
   "outputs": [],
   "source": [
    "# compilando o modelo keras\n",
    "\n",
    "model2.compile(loss='mean_squared_error', optimizer = 'adam')"
   ]
  },
  {
   "cell_type": "markdown",
   "metadata": {},
   "source": [
    "treinando o modelo 2"
   ]
  },
  {
   "cell_type": "code",
   "execution_count": 176,
   "metadata": {},
   "outputs": [
    {
     "name": "stdout",
     "output_type": "stream",
     "text": [
      "Epoch 1/10\n",
      "30922/30922 [==============================] - 23s 755us/step - loss: 0.0283\n",
      "Epoch 2/10\n",
      "30922/30922 [==============================] - 21s 691us/step - loss: 0.0089\n",
      "Epoch 3/10\n",
      "30922/30922 [==============================] - 21s 693us/step - loss: 0.0084\n",
      "Epoch 4/10\n",
      "30922/30922 [==============================] - 22s 699us/step - loss: 0.0076\n",
      "Epoch 5/10\n",
      "30922/30922 [==============================] - 21s 687us/step - loss: 0.0067\n",
      "Epoch 6/10\n",
      "30922/30922 [==============================] - 22s 706us/step - loss: 0.0058\n",
      "Epoch 7/10\n",
      "30922/30922 [==============================] - 23s 746us/step - loss: 0.0052\n",
      "Epoch 8/10\n",
      "30922/30922 [==============================] - 21s 692us/step - loss: 0.0049\n",
      "Epoch 9/10\n",
      "30922/30922 [==============================] - 22s 698us/step - loss: 0.0048\n",
      "Epoch 10/10\n",
      "30922/30922 [==============================] - 22s 700us/step - loss: 0.0048\n"
     ]
    },
    {
     "data": {
      "text/plain": [
       "<keras.callbacks.History at 0x18b90111518>"
      ]
     },
     "execution_count": 176,
     "metadata": {},
     "output_type": "execute_result"
    }
   ],
   "source": [
    "# fitting the model\n",
    "\n",
    "X= train_data_with_dummies\n",
    "y= targets_train\n",
    "\n",
    "model2.fit(X, y, epochs = 10, batch_size = 1)"
   ]
  },
  {
   "cell_type": "code",
   "execution_count": 182,
   "metadata": {},
   "outputs": [
    {
     "name": "stdout",
     "output_type": "stream",
     "text": [
      "30922/30922 [==============================] - 1s 20us/step\n",
      "0.00512784070118088\n"
     ]
    }
   ],
   "source": [
    "# evaluating training loss\n",
    "\n",
    "loss = model2.evaluate(X, y)\n",
    "print(loss)"
   ]
  },
  {
   "cell_type": "markdown",
   "metadata": {},
   "source": [
    "Manipulando dados de teste"
   ]
  },
  {
   "cell_type": "code",
   "execution_count": 181,
   "metadata": {},
   "outputs": [
    {
     "name": "stdout",
     "output_type": "stream",
     "text": [
      "(7730, 1)\n",
      "(7730, 4)\n"
     ]
    }
   ],
   "source": [
    "wd_test = np.array(test_data['Wind Direction (°)'].copy())\n",
    "\n",
    "for i in range(len(wd_test)):\n",
    "    if wd_test[i] < 90:\n",
    "        wd_test[i] = 1\n",
    "    elif 90 <= wd_test[i] < 180:\n",
    "        wd_test[i] = 2\n",
    "    elif 180 <= wd_test[i] < 270:\n",
    "        wd_test[i] = 3\n",
    "    else:\n",
    "        wd_test[i] = 4\n",
    "        \n",
    "wd_dummies_test = pd.get_dummies(wd_test)\n",
    "\n",
    "test_data_with_dummies = test_data['Wind Speed (m/s)'].copy()\n",
    "test_data_with_dummies = (test_data_with_dummies-b)/(a-b)\n",
    "test_data_with_dummies = np.array(test_data_with_dummies).reshape(-1, 1)\n",
    "\n",
    "wd_dummies_test = np.array(wd_dummies_test)\n",
    "wd_dummies_test = wd_dummies_test.astype(float)\n",
    "\n",
    "print(test_data_with_dummies.shape)\n",
    "print(wd_dummies_test.shape)\n",
    "\n",
    "test_data_with_dummies = np.concatenate((test_data_with_dummies, wd_dummies_test), axis = 1)"
   ]
  },
  {
   "cell_type": "markdown",
   "metadata": {},
   "source": [
    "testando a rede neural"
   ]
  },
  {
   "cell_type": "code",
   "execution_count": 183,
   "metadata": {},
   "outputs": [
    {
     "name": "stdout",
     "output_type": "stream",
     "text": [
      "(7730, 1)\n"
     ]
    }
   ],
   "source": [
    "# making predictions out of the test set\n",
    "\n",
    "testing2 = model2.predict(test_data_with_dummies)\n",
    "\n",
    "testing2 = np.array(testing2)\n",
    "print(testing2.shape)"
   ]
  },
  {
   "cell_type": "code",
   "execution_count": 184,
   "metadata": {},
   "outputs": [],
   "source": [
    "y_testing = np.array(dfnt['LV ActivePower (kW)']).reshape(-1, 1)\n",
    "error2 = testing2 - y_testing"
   ]
  },
  {
   "cell_type": "code",
   "execution_count": 185,
   "metadata": {},
   "outputs": [
    {
     "data": {
      "text/plain": [
       "[<matplotlib.lines.Line2D at 0x18b97875f98>]"
      ]
     },
     "execution_count": 185,
     "metadata": {},
     "output_type": "execute_result"
    },
    {
     "data": {
      "image/png": "[encoded data removed]",
      "text/plain": [
       "<Figure size 432x288 with 1 Axes>"
      ]
     },
     "metadata": {
      "needs_background": "light"
     },
     "output_type": "display_data"
    }
   ],
   "source": [
    "# plotting error\n",
    "\n",
    "x = np.arange(1, len(y_testing)+1, 1)\n",
    "y = error2\n",
    "\n",
    "plt.xlabel('Value [10 sec]')\n",
    "plt.ylabel('Erro de previsão (kW)')\n",
    "plt.plot(x, y) "
   ]
  },
  {
   "cell_type": "code",
   "execution_count": null,
   "metadata": {},
   "outputs": [],
   "source": []
  }
 ],
 "metadata": {
  "kernelspec": {
   "display_name": "Python 3",
   "language": "python",
   "name": "python3"
  },
  "language_info": {
   "codemirror_mode": {
    "name": "ipython",
    "version": 3
   },
   "file_extension": ".py",
   "mimetype": "text/x-python",
   "name": "python",
   "nbconvert_exporter": "python",
   "pygments_lexer": "ipython3",
   "version": "3.7.1"
  }
 },
 "nbformat": 4,
 "nbformat_minor": 2
}
