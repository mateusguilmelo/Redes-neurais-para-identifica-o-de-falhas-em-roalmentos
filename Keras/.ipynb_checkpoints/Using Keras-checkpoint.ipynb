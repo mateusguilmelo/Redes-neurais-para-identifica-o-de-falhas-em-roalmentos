{
 "cells": [
  {
   "cell_type": "markdown",
   "metadata": {},
   "source": [
    "# Desenvolvimento em Keras"
   ]
  },
  {
   "cell_type": "markdown",
   "metadata": {},
   "source": [
    "Nesse problema de Data Science, o que se quer é criar um modelo que consiga prever a potência gerada instatânea gerada pelo aerogerador através da velocidade e direção do vento."
   ]
  },
  {
   "cell_type": "markdown",
   "metadata": {},
   "source": [
    "### 1. Aquisição de dados"
   ]
  },
  {
   "cell_type": "code",
   "execution_count": 11,
   "metadata": {},
   "outputs": [
    {
     "data": {
      "text/html": [
       "<div>\n",
       "<style scoped>\n",
       "    .dataframe tbody tr th:only-of-type {\n",
       "        vertical-align: middle;\n",
       "    }\n",
       "\n",
       "    .dataframe tbody tr th {\n",
       "        vertical-align: top;\n",
       "    }\n",
       "\n",
       "    .dataframe thead th {\n",
       "        text-align: right;\n",
       "    }\n",
       "</style>\n",
       "<table border=\"1\" class=\"dataframe\">\n",
       "  <thead>\n",
       "    <tr style=\"text-align: right;\">\n",
       "      <th></th>\n",
       "      <th>Date/Time</th>\n",
       "      <th>LV ActivePower (kW)</th>\n",
       "      <th>Wind Speed (m/s)</th>\n",
       "      <th>Theoretical_Power_Curve (KWh)</th>\n",
       "      <th>Wind Direction (°)</th>\n",
       "    </tr>\n",
       "  </thead>\n",
       "  <tbody>\n",
       "    <tr>\n",
       "      <th>0</th>\n",
       "      <td>01 01 2018 00:00</td>\n",
       "      <td>380.047791</td>\n",
       "      <td>5.311336</td>\n",
       "      <td>416.328908</td>\n",
       "      <td>259.994904</td>\n",
       "    </tr>\n",
       "    <tr>\n",
       "      <th>1</th>\n",
       "      <td>01 01 2018 00:10</td>\n",
       "      <td>453.769196</td>\n",
       "      <td>5.672167</td>\n",
       "      <td>519.917511</td>\n",
       "      <td>268.641113</td>\n",
       "    </tr>\n",
       "    <tr>\n",
       "      <th>2</th>\n",
       "      <td>01 01 2018 00:20</td>\n",
       "      <td>306.376587</td>\n",
       "      <td>5.216037</td>\n",
       "      <td>390.900016</td>\n",
       "      <td>272.564789</td>\n",
       "    </tr>\n",
       "    <tr>\n",
       "      <th>3</th>\n",
       "      <td>01 01 2018 00:30</td>\n",
       "      <td>419.645905</td>\n",
       "      <td>5.659674</td>\n",
       "      <td>516.127569</td>\n",
       "      <td>271.258087</td>\n",
       "    </tr>\n",
       "    <tr>\n",
       "      <th>4</th>\n",
       "      <td>01 01 2018 00:40</td>\n",
       "      <td>380.650696</td>\n",
       "      <td>5.577941</td>\n",
       "      <td>491.702972</td>\n",
       "      <td>265.674286</td>\n",
       "    </tr>\n",
       "  </tbody>\n",
       "</table>\n",
       "</div>"
      ],
      "text/plain": [
       "          Date/Time  LV ActivePower (kW)  Wind Speed (m/s)  \\\n",
       "0  01 01 2018 00:00           380.047791          5.311336   \n",
       "1  01 01 2018 00:10           453.769196          5.672167   \n",
       "2  01 01 2018 00:20           306.376587          5.216037   \n",
       "3  01 01 2018 00:30           419.645905          5.659674   \n",
       "4  01 01 2018 00:40           380.650696          5.577941   \n",
       "\n",
       "   Theoretical_Power_Curve (KWh)  Wind Direction (°)  \n",
       "0                     416.328908          259.994904  \n",
       "1                     519.917511          268.641113  \n",
       "2                     390.900016          272.564789  \n",
       "3                     516.127569          271.258087  \n",
       "4                     491.702972          265.674286  "
      ]
     },
     "execution_count": 11,
     "metadata": {},
     "output_type": "execute_result"
    }
   ],
   "source": [
    "# Importando dados\n",
    "import pandas as pd\n",
    "\n",
    "filename = 'T1.csv'\n",
    "df = pd.read_csv(filename)\n",
    "\n",
    "df.head()"
   ]
  },
  {
   "cell_type": "code",
   "execution_count": 12,
   "metadata": {},
   "outputs": [
    {
     "name": "stdout",
     "output_type": "stream",
     "text": [
      "<class 'pandas.core.frame.DataFrame'>\n",
      "RangeIndex: 50530 entries, 0 to 50529\n",
      "Data columns (total 5 columns):\n",
      "Date/Time                        50530 non-null object\n",
      "LV ActivePower (kW)              50530 non-null float64\n",
      "Wind Speed (m/s)                 50530 non-null float64\n",
      "Theoretical_Power_Curve (KWh)    50530 non-null float64\n",
      "Wind Direction (°)               50530 non-null float64\n",
      "dtypes: float64(4), object(1)\n",
      "memory usage: 1.9+ MB\n"
     ]
    }
   ],
   "source": [
    "df.info()"
   ]
  },
  {
   "cell_type": "markdown",
   "metadata": {},
   "source": [
    "Não há presença de objetos nulos"
   ]
  },
  {
   "cell_type": "code",
   "execution_count": 58,
   "metadata": {},
   "outputs": [
    {
     "name": "stdout",
     "output_type": "stream",
     "text": [
      "<class 'pandas.core.frame.DataFrame'>\n",
      "Int64Index: 50107 entries, 0 to 50529\n",
      "Data columns (total 5 columns):\n",
      "Date/Time                        50107 non-null datetime64[ns]\n",
      "LV ActivePower (kW)              50107 non-null float64\n",
      "Wind Speed (m/s)                 50107 non-null float64\n",
      "Theoretical_Power_Curve (KWh)    50107 non-null float64\n",
      "Wind Direction (°)               50107 non-null float64\n",
      "dtypes: datetime64[ns](1), float64(4)\n",
      "memory usage: 2.3 MB\n"
     ]
    }
   ],
   "source": [
    "#Passando DateTime para o tipo datetime\n",
    "\n",
    "df['Date/Time'] = pd.to_datetime(df['Date/Time'])\n",
    "df.info()"
   ]
  },
  {
   "cell_type": "code",
   "execution_count": 60,
   "metadata": {},
   "outputs": [
    {
     "data": {
      "text/html": [
       "<div>\n",
       "<style scoped>\n",
       "    .dataframe tbody tr th:only-of-type {\n",
       "        vertical-align: middle;\n",
       "    }\n",
       "\n",
       "    .dataframe tbody tr th {\n",
       "        vertical-align: top;\n",
       "    }\n",
       "\n",
       "    .dataframe thead th {\n",
       "        text-align: right;\n",
       "    }\n",
       "</style>\n",
       "<table border=\"1\" class=\"dataframe\">\n",
       "  <thead>\n",
       "    <tr style=\"text-align: right;\">\n",
       "      <th></th>\n",
       "      <th>LV ActivePower (kW)</th>\n",
       "      <th>Wind Speed (m/s)</th>\n",
       "      <th>Theoretical_Power_Curve (KWh)</th>\n",
       "      <th>Wind Direction (°)</th>\n",
       "    </tr>\n",
       "  </thead>\n",
       "  <tbody>\n",
       "    <tr>\n",
       "      <th>count</th>\n",
       "      <td>50107.000000</td>\n",
       "      <td>50107.000000</td>\n",
       "      <td>50107.000000</td>\n",
       "      <td>50107.000000</td>\n",
       "    </tr>\n",
       "    <tr>\n",
       "      <th>mean</th>\n",
       "      <td>1288.572318</td>\n",
       "      <td>7.447297</td>\n",
       "      <td>1474.381347</td>\n",
       "      <td>123.069526</td>\n",
       "    </tr>\n",
       "    <tr>\n",
       "      <th>std</th>\n",
       "      <td>1301.318211</td>\n",
       "      <td>4.067649</td>\n",
       "      <td>1359.944416</td>\n",
       "      <td>93.589293</td>\n",
       "    </tr>\n",
       "    <tr>\n",
       "      <th>min</th>\n",
       "      <td>-2.471405</td>\n",
       "      <td>0.000000</td>\n",
       "      <td>0.000000</td>\n",
       "      <td>0.000000</td>\n",
       "    </tr>\n",
       "    <tr>\n",
       "      <th>25%</th>\n",
       "      <td>46.252365</td>\n",
       "      <td>4.177462</td>\n",
       "      <td>156.671282</td>\n",
       "      <td>49.103510</td>\n",
       "    </tr>\n",
       "    <tr>\n",
       "      <th>50%</th>\n",
       "      <td>807.794983</td>\n",
       "      <td>7.064969</td>\n",
       "      <td>1045.505567</td>\n",
       "      <td>73.273552</td>\n",
       "    </tr>\n",
       "    <tr>\n",
       "      <th>75%</th>\n",
       "      <td>2432.018921</td>\n",
       "      <td>10.202180</td>\n",
       "      <td>2911.538764</td>\n",
       "      <td>201.658852</td>\n",
       "    </tr>\n",
       "    <tr>\n",
       "      <th>max</th>\n",
       "      <td>3618.732910</td>\n",
       "      <td>19.447701</td>\n",
       "      <td>3600.000000</td>\n",
       "      <td>359.997589</td>\n",
       "    </tr>\n",
       "  </tbody>\n",
       "</table>\n",
       "</div>"
      ],
      "text/plain": [
       "       LV ActivePower (kW)  Wind Speed (m/s)  Theoretical_Power_Curve (KWh)  \\\n",
       "count         50107.000000      50107.000000                   50107.000000   \n",
       "mean           1288.572318          7.447297                    1474.381347   \n",
       "std            1301.318211          4.067649                    1359.944416   \n",
       "min              -2.471405          0.000000                       0.000000   \n",
       "25%              46.252365          4.177462                     156.671282   \n",
       "50%             807.794983          7.064969                    1045.505567   \n",
       "75%            2432.018921         10.202180                    2911.538764   \n",
       "max            3618.732910         19.447701                    3600.000000   \n",
       "\n",
       "       Wind Direction (°)  \n",
       "count        50107.000000  \n",
       "mean           123.069526  \n",
       "std             93.589293  \n",
       "min              0.000000  \n",
       "25%             49.103510  \n",
       "50%             73.273552  \n",
       "75%            201.658852  \n",
       "max            359.997589  "
      ]
     },
     "execution_count": 60,
     "metadata": {},
     "output_type": "execute_result"
    }
   ],
   "source": [
    "df.describe()"
   ]
  },
  {
   "cell_type": "markdown",
   "metadata": {},
   "source": [
    "### 2. Desbravando dados"
   ]
  },
  {
   "cell_type": "code",
   "execution_count": 61,
   "metadata": {},
   "outputs": [
    {
     "data": {
      "image/png": "[encoded data removed]",
      "text/plain": [
       "<Figure size 576x432 with 4 Axes>"
      ]
     },
     "metadata": {
      "needs_background": "light"
     },
     "output_type": "display_data"
    }
   ],
   "source": [
    "# Plotando histogramas dos dados\n",
    "\n",
    "import matplotlib.pyplot as plt\n",
    "%matplotlib inline  \n",
    "df.hist(bins=100, figsize=(8,6))\n",
    "plt.tight_layout()\n",
    "plt.show()"
   ]
  },
  {
   "cell_type": "code",
   "execution_count": 62,
   "metadata": {},
   "outputs": [
    {
     "data": {
      "text/html": [
       "<div>\n",
       "<style scoped>\n",
       "    .dataframe tbody tr th:only-of-type {\n",
       "        vertical-align: middle;\n",
       "    }\n",
       "\n",
       "    .dataframe tbody tr th {\n",
       "        vertical-align: top;\n",
       "    }\n",
       "\n",
       "    .dataframe thead th {\n",
       "        text-align: right;\n",
       "    }\n",
       "</style>\n",
       "<table border=\"1\" class=\"dataframe\">\n",
       "  <thead>\n",
       "    <tr style=\"text-align: right;\">\n",
       "      <th></th>\n",
       "      <th>LV ActivePower (kW)</th>\n",
       "      <th>Wind Speed (m/s)</th>\n",
       "      <th>Theoretical_Power_Curve (KWh)</th>\n",
       "      <th>Wind Direction (°)</th>\n",
       "    </tr>\n",
       "  </thead>\n",
       "  <tbody>\n",
       "    <tr>\n",
       "      <th>LV ActivePower (kW)</th>\n",
       "      <td>1.000000</td>\n",
       "      <td>0.917028</td>\n",
       "      <td>0.948918</td>\n",
       "      <td>-0.075258</td>\n",
       "    </tr>\n",
       "    <tr>\n",
       "      <th>Wind Speed (m/s)</th>\n",
       "      <td>0.917028</td>\n",
       "      <td>1.000000</td>\n",
       "      <td>0.952875</td>\n",
       "      <td>-0.102238</td>\n",
       "    </tr>\n",
       "    <tr>\n",
       "      <th>Theoretical_Power_Curve (KWh)</th>\n",
       "      <td>0.948918</td>\n",
       "      <td>0.952875</td>\n",
       "      <td>1.000000</td>\n",
       "      <td>-0.110671</td>\n",
       "    </tr>\n",
       "    <tr>\n",
       "      <th>Wind Direction (°)</th>\n",
       "      <td>-0.075258</td>\n",
       "      <td>-0.102238</td>\n",
       "      <td>-0.110671</td>\n",
       "      <td>1.000000</td>\n",
       "    </tr>\n",
       "  </tbody>\n",
       "</table>\n",
       "</div>"
      ],
      "text/plain": [
       "                               LV ActivePower (kW)  Wind Speed (m/s)  \\\n",
       "LV ActivePower (kW)                       1.000000          0.917028   \n",
       "Wind Speed (m/s)                          0.917028          1.000000   \n",
       "Theoretical_Power_Curve (KWh)             0.948918          0.952875   \n",
       "Wind Direction (°)                       -0.075258         -0.102238   \n",
       "\n",
       "                               Theoretical_Power_Curve (KWh)  \\\n",
       "LV ActivePower (kW)                                 0.948918   \n",
       "Wind Speed (m/s)                                    0.952875   \n",
       "Theoretical_Power_Curve (KWh)                       1.000000   \n",
       "Wind Direction (°)                                 -0.110671   \n",
       "\n",
       "                               Wind Direction (°)  \n",
       "LV ActivePower (kW)                     -0.075258  \n",
       "Wind Speed (m/s)                        -0.102238  \n",
       "Theoretical_Power_Curve (KWh)           -0.110671  \n",
       "Wind Direction (°)                       1.000000  "
      ]
     },
     "execution_count": 62,
     "metadata": {},
     "output_type": "execute_result"
    }
   ],
   "source": [
    "df.corr()"
   ]
  },
  {
   "cell_type": "markdown",
   "metadata": {},
   "source": [
    "### 3. Preparando os dados para a rede neural"
   ]
  },
  {
   "cell_type": "markdown",
   "metadata": {},
   "source": [
    "##### 3.1 Remoção de números negativos"
   ]
  },
  {
   "cell_type": "code",
   "execution_count": 64,
   "metadata": {},
   "outputs": [
    {
     "data": {
      "text/html": [
       "<div>\n",
       "<style scoped>\n",
       "    .dataframe tbody tr th:only-of-type {\n",
       "        vertical-align: middle;\n",
       "    }\n",
       "\n",
       "    .dataframe tbody tr th {\n",
       "        vertical-align: top;\n",
       "    }\n",
       "\n",
       "    .dataframe thead th {\n",
       "        text-align: right;\n",
       "    }\n",
       "</style>\n",
       "<table border=\"1\" class=\"dataframe\">\n",
       "  <thead>\n",
       "    <tr style=\"text-align: right;\">\n",
       "      <th></th>\n",
       "      <th>LV ActivePower (kW)</th>\n",
       "      <th>Wind Speed (m/s)</th>\n",
       "      <th>Theoretical_Power_Curve (KWh)</th>\n",
       "      <th>Wind Direction (°)</th>\n",
       "    </tr>\n",
       "  </thead>\n",
       "  <tbody>\n",
       "    <tr>\n",
       "      <th>count</th>\n",
       "      <td>38842.000000</td>\n",
       "      <td>38842.000000</td>\n",
       "      <td>38842.000000</td>\n",
       "      <td>38842.000000</td>\n",
       "    </tr>\n",
       "    <tr>\n",
       "      <th>mean</th>\n",
       "      <td>1662.187724</td>\n",
       "      <td>8.706785</td>\n",
       "      <td>1830.538466</td>\n",
       "      <td>114.190823</td>\n",
       "    </tr>\n",
       "    <tr>\n",
       "      <th>std</th>\n",
       "      <td>1250.464285</td>\n",
       "      <td>3.547892</td>\n",
       "      <td>1293.539020</td>\n",
       "      <td>86.128046</td>\n",
       "    </tr>\n",
       "    <tr>\n",
       "      <th>min</th>\n",
       "      <td>0.028733</td>\n",
       "      <td>3.002270</td>\n",
       "      <td>16.073052</td>\n",
       "      <td>0.015678</td>\n",
       "    </tr>\n",
       "    <tr>\n",
       "      <th>25%</th>\n",
       "      <td>496.393387</td>\n",
       "      <td>5.963300</td>\n",
       "      <td>612.680728</td>\n",
       "      <td>48.529392</td>\n",
       "    </tr>\n",
       "    <tr>\n",
       "      <th>50%</th>\n",
       "      <td>1394.316467</td>\n",
       "      <td>8.114957</td>\n",
       "      <td>1596.498902</td>\n",
       "      <td>69.503239</td>\n",
       "    </tr>\n",
       "    <tr>\n",
       "      <th>75%</th>\n",
       "      <td>2871.202515</td>\n",
       "      <td>11.029047</td>\n",
       "      <td>3282.601613</td>\n",
       "      <td>196.739544</td>\n",
       "    </tr>\n",
       "    <tr>\n",
       "      <th>max</th>\n",
       "      <td>3618.732910</td>\n",
       "      <td>19.447701</td>\n",
       "      <td>3600.000000</td>\n",
       "      <td>359.997589</td>\n",
       "    </tr>\n",
       "  </tbody>\n",
       "</table>\n",
       "</div>"
      ],
      "text/plain": [
       "       LV ActivePower (kW)  Wind Speed (m/s)  Theoretical_Power_Curve (KWh)  \\\n",
       "count         38842.000000      38842.000000                   38842.000000   \n",
       "mean           1662.187724          8.706785                    1830.538466   \n",
       "std            1250.464285          3.547892                    1293.539020   \n",
       "min               0.028733          3.002270                      16.073052   \n",
       "25%             496.393387          5.963300                     612.680728   \n",
       "50%            1394.316467          8.114957                    1596.498902   \n",
       "75%            2871.202515         11.029047                    3282.601613   \n",
       "max            3618.732910         19.447701                    3600.000000   \n",
       "\n",
       "       Wind Direction (°)  \n",
       "count        38842.000000  \n",
       "mean           114.190823  \n",
       "std             86.128046  \n",
       "min              0.015678  \n",
       "25%             48.529392  \n",
       "50%             69.503239  \n",
       "75%            196.739544  \n",
       "max            359.997589  "
      ]
     },
     "execution_count": 64,
     "metadata": {},
     "output_type": "execute_result"
    }
   ],
   "source": [
    "for cols in df.columns.tolist()[1:]:\n",
    "    df = df.loc[df[cols] > 0]\n",
    "\n",
    "df.describe()"
   ]
  },
  {
   "cell_type": "markdown",
   "metadata": {},
   "source": [
    "##### 3.2 Remoção de outliers"
   ]
  },
  {
   "cell_type": "code",
   "execution_count": 65,
   "metadata": {},
   "outputs": [
    {
     "data": {
      "text/plain": [
       "<matplotlib.axes._subplots.AxesSubplot at 0x18bbd44feb8>"
      ]
     },
     "execution_count": 65,
     "metadata": {},
     "output_type": "execute_result"
    },
    {
     "data": {
      "image/png": "[encoded data removed]",
      "text/plain": [
       "<Figure size 432x288 with 1 Axes>"
      ]
     },
     "metadata": {
      "needs_background": "light"
     },
     "output_type": "display_data"
    }
   ],
   "source": [
    "import seaborn as sb\n",
    "\n",
    "sb.boxplot(data = df, y= 'LV ActivePower (kW)')"
   ]
  },
  {
   "cell_type": "code",
   "execution_count": 66,
   "metadata": {},
   "outputs": [
    {
     "data": {
      "text/plain": [
       "<matplotlib.axes._subplots.AxesSubplot at 0x18bbfb437f0>"
      ]
     },
     "execution_count": 66,
     "metadata": {},
     "output_type": "execute_result"
    },
    {
     "data": {
      "image/png": "[encoded data removed]",
      "text/plain": [
       "<Figure size 432x288 with 1 Axes>"
      ]
     },
     "metadata": {
      "needs_background": "light"
     },
     "output_type": "display_data"
    }
   ],
   "source": [
    "sb.boxplot(data = df, y= 'Wind Speed (m/s)')"
   ]
  },
  {
   "cell_type": "code",
   "execution_count": 67,
   "metadata": {},
   "outputs": [
    {
     "data": {
      "text/plain": [
       "<matplotlib.axes._subplots.AxesSubplot at 0x18bbfb43828>"
      ]
     },
     "execution_count": 67,
     "metadata": {},
     "output_type": "execute_result"
    },
    {
     "data": {
      "image/png": "[encoded data removed]",
      "text/plain": [
       "<Figure size 432x288 with 1 Axes>"
      ]
     },
     "metadata": {
      "needs_background": "light"
     },
     "output_type": "display_data"
    }
   ],
   "source": [
    "sb.boxplot(data = df, y= 'Wind Direction (°)')"
   ]
  },
  {
   "cell_type": "markdown",
   "metadata": {},
   "source": [
    "Nota-se, pelos gráficos acima, que a variável Wind Speed aprensenta alguns outliers que devem ser removidos do Dataset. Dessa forma, eles serão removidos utilizando a seguinte formula: $$ Q3 + 1.5*AIQ < Outlier < Q1 - 1.5*AIQ $$ aonde AIQ significa amplitude interquartil"
   ]
  },
  {
   "cell_type": "code",
   "execution_count": 68,
   "metadata": {},
   "outputs": [
    {
     "data": {
      "text/html": [
       "<div>\n",
       "<style scoped>\n",
       "    .dataframe tbody tr th:only-of-type {\n",
       "        vertical-align: middle;\n",
       "    }\n",
       "\n",
       "    .dataframe tbody tr th {\n",
       "        vertical-align: top;\n",
       "    }\n",
       "\n",
       "    .dataframe thead th {\n",
       "        text-align: right;\n",
       "    }\n",
       "</style>\n",
       "<table border=\"1\" class=\"dataframe\">\n",
       "  <thead>\n",
       "    <tr style=\"text-align: right;\">\n",
       "      <th></th>\n",
       "      <th>LV ActivePower (kW)</th>\n",
       "      <th>Wind Speed (m/s)</th>\n",
       "      <th>Theoretical_Power_Curve (KWh)</th>\n",
       "      <th>Wind Direction (°)</th>\n",
       "    </tr>\n",
       "  </thead>\n",
       "  <tbody>\n",
       "    <tr>\n",
       "      <th>count</th>\n",
       "      <td>38549.000000</td>\n",
       "      <td>38549.000000</td>\n",
       "      <td>38549.000000</td>\n",
       "      <td>38549.000000</td>\n",
       "    </tr>\n",
       "    <tr>\n",
       "      <th>mean</th>\n",
       "      <td>1647.869273</td>\n",
       "      <td>8.628339</td>\n",
       "      <td>1817.089291</td>\n",
       "      <td>113.575404</td>\n",
       "    </tr>\n",
       "    <tr>\n",
       "      <th>std</th>\n",
       "      <td>1244.211010</td>\n",
       "      <td>3.444845</td>\n",
       "      <td>1289.178837</td>\n",
       "      <td>86.155012</td>\n",
       "    </tr>\n",
       "    <tr>\n",
       "      <th>min</th>\n",
       "      <td>0.028733</td>\n",
       "      <td>3.002270</td>\n",
       "      <td>16.073052</td>\n",
       "      <td>0.015678</td>\n",
       "    </tr>\n",
       "    <tr>\n",
       "      <th>25%</th>\n",
       "      <td>491.282196</td>\n",
       "      <td>5.949718</td>\n",
       "      <td>608.157970</td>\n",
       "      <td>48.327541</td>\n",
       "    </tr>\n",
       "    <tr>\n",
       "      <th>50%</th>\n",
       "      <td>1377.219971</td>\n",
       "      <td>8.079546</td>\n",
       "      <td>1575.873181</td>\n",
       "      <td>69.205223</td>\n",
       "    </tr>\n",
       "    <tr>\n",
       "      <th>75%</th>\n",
       "      <td>2838.018066</td>\n",
       "      <td>10.952460</td>\n",
       "      <td>3255.397730</td>\n",
       "      <td>196.591904</td>\n",
       "    </tr>\n",
       "    <tr>\n",
       "      <th>max</th>\n",
       "      <td>3618.732910</td>\n",
       "      <td>18.619230</td>\n",
       "      <td>3600.000000</td>\n",
       "      <td>359.997589</td>\n",
       "    </tr>\n",
       "  </tbody>\n",
       "</table>\n",
       "</div>"
      ],
      "text/plain": [
       "       LV ActivePower (kW)  Wind Speed (m/s)  Theoretical_Power_Curve (KWh)  \\\n",
       "count         38549.000000      38549.000000                   38549.000000   \n",
       "mean           1647.869273          8.628339                    1817.089291   \n",
       "std            1244.211010          3.444845                    1289.178837   \n",
       "min               0.028733          3.002270                      16.073052   \n",
       "25%             491.282196          5.949718                     608.157970   \n",
       "50%            1377.219971          8.079546                    1575.873181   \n",
       "75%            2838.018066         10.952460                    3255.397730   \n",
       "max            3618.732910         18.619230                    3600.000000   \n",
       "\n",
       "       Wind Direction (°)  \n",
       "count        38549.000000  \n",
       "mean           113.575404  \n",
       "std             86.155012  \n",
       "min              0.015678  \n",
       "25%             48.327541  \n",
       "50%             69.205223  \n",
       "75%            196.591904  \n",
       "max            359.997589  "
      ]
     },
     "execution_count": 68,
     "metadata": {},
     "output_type": "execute_result"
    }
   ],
   "source": [
    "WS_Q1 = df['Wind Speed (m/s)'].quantile(0.25)\n",
    "WS_Q3 = df['Wind Speed (m/s)'].quantile(0.75)\n",
    "\n",
    "WS_IQR = WS_Q3 - WS_Q1\n",
    "\n",
    "df = df.loc[df['Wind Speed (m/s)'] > WS_Q1 - 1.5*WS_IQR]\n",
    "df = df.loc[df['Wind Speed (m/s)'] < WS_Q3 + 1.5*WS_IQR]\n",
    "\n",
    "df.describe()"
   ]
  },
  {
   "cell_type": "code",
   "execution_count": 71,
   "metadata": {},
   "outputs": [
    {
     "data": {
      "text/plain": [
       "<matplotlib.axes._subplots.AxesSubplot at 0x18bbff88208>"
      ]
     },
     "execution_count": 71,
     "metadata": {},
     "output_type": "execute_result"
    },
    {
     "data": {
      "image/png": "[encoded data removed]",
      "text/plain": [
       "<Figure size 432x288 with 1 Axes>"
      ]
     },
     "metadata": {
      "needs_background": "light"
     },
     "output_type": "display_data"
    }
   ],
   "source": [
    "sb.boxplot(data = df, y= 'Wind Speed (m/s)')"
   ]
  },
  {
   "cell_type": "markdown",
   "metadata": {},
   "source": [
    "##### 3.3 Separando em banco de dados de treinamento e teste"
   ]
  },
  {
   "cell_type": "markdown",
   "metadata": {},
   "source": [
    "Os dados serão divididos em 80% treinamento e velidação e 20% para teste"
   ]
  },
  {
   "cell_type": "code",
   "execution_count": 74,
   "metadata": {},
   "outputs": [
    {
     "name": "stdout",
     "output_type": "stream",
     "text": [
      "<class 'pandas.core.frame.DataFrame'>\n",
      "Int64Index: 30839 entries, 0 to 40701\n",
      "Data columns (total 5 columns):\n",
      "Date/Time                        30839 non-null datetime64[ns]\n",
      "LV ActivePower (kW)              30839 non-null float64\n",
      "Wind Speed (m/s)                 30839 non-null float64\n",
      "Theoretical_Power_Curve (KWh)    30839 non-null float64\n",
      "Wind Direction (°)               30839 non-null float64\n",
      "dtypes: datetime64[ns](1), float64(4)\n",
      "memory usage: 1.4 MB\n",
      "<class 'pandas.core.frame.DataFrame'>\n",
      "Int64Index: 7709 entries, 40702 to 50528\n",
      "Data columns (total 5 columns):\n",
      "Date/Time                        7709 non-null datetime64[ns]\n",
      "LV ActivePower (kW)              7709 non-null float64\n",
      "Wind Speed (m/s)                 7709 non-null float64\n",
      "Theoretical_Power_Curve (KWh)    7709 non-null float64\n",
      "Wind Direction (°)               7709 non-null float64\n",
      "dtypes: datetime64[ns](1), float64(4)\n",
      "memory usage: 361.4 KB\n"
     ]
    }
   ],
   "source": [
    "train_lengh = int(len(df)*0.8)\n",
    "train_data = df[0:train_lengh]\n",
    "\n",
    "test_lengh = train_lengh + int(len(df)*0.2)\n",
    "test_data = df[train_lengh:test_lengh]\n",
    "\n",
    "train_data.info()\n",
    "test_data.info()"
   ]
  },
  {
   "cell_type": "markdown",
   "metadata": {},
   "source": [
    "#### 3.4 Escalonamento de dados de treinamento"
   ]
  },
  {
   "cell_type": "code",
   "execution_count": 76,
   "metadata": {},
   "outputs": [
    {
     "data": {
      "text/html": [
       "<div>\n",
       "<style scoped>\n",
       "    .dataframe tbody tr th:only-of-type {\n",
       "        vertical-align: middle;\n",
       "    }\n",
       "\n",
       "    .dataframe tbody tr th {\n",
       "        vertical-align: top;\n",
       "    }\n",
       "\n",
       "    .dataframe thead th {\n",
       "        text-align: right;\n",
       "    }\n",
       "</style>\n",
       "<table border=\"1\" class=\"dataframe\">\n",
       "  <thead>\n",
       "    <tr style=\"text-align: right;\">\n",
       "      <th></th>\n",
       "      <th>LV ActivePower (kW)</th>\n",
       "      <th>Wind Speed (m/s)</th>\n",
       "      <th>Theoretical_Power_Curve (KWh)</th>\n",
       "      <th>Wind Direction (°)</th>\n",
       "    </tr>\n",
       "  </thead>\n",
       "  <tbody>\n",
       "    <tr>\n",
       "      <th>count</th>\n",
       "      <td>30839.000000</td>\n",
       "      <td>30839.000000</td>\n",
       "      <td>30839.000000</td>\n",
       "      <td>30839.000000</td>\n",
       "    </tr>\n",
       "    <tr>\n",
       "      <th>mean</th>\n",
       "      <td>0.441765</td>\n",
       "      <td>0.350156</td>\n",
       "      <td>0.487984</td>\n",
       "      <td>0.306365</td>\n",
       "    </tr>\n",
       "    <tr>\n",
       "      <th>std</th>\n",
       "      <td>0.343519</td>\n",
       "      <td>0.219423</td>\n",
       "      <td>0.361764</td>\n",
       "      <td>0.238097</td>\n",
       "    </tr>\n",
       "    <tr>\n",
       "      <th>min</th>\n",
       "      <td>0.000000</td>\n",
       "      <td>0.000000</td>\n",
       "      <td>0.000000</td>\n",
       "      <td>0.000000</td>\n",
       "    </tr>\n",
       "    <tr>\n",
       "      <th>25%</th>\n",
       "      <td>0.122802</td>\n",
       "      <td>0.176567</td>\n",
       "      <td>0.148077</td>\n",
       "      <td>0.131684</td>\n",
       "    </tr>\n",
       "    <tr>\n",
       "      <th>50%</th>\n",
       "      <td>0.361381</td>\n",
       "      <td>0.315245</td>\n",
       "      <td>0.410467</td>\n",
       "      <td>0.185856</td>\n",
       "    </tr>\n",
       "    <tr>\n",
       "      <th>75%</th>\n",
       "      <td>0.764593</td>\n",
       "      <td>0.501181</td>\n",
       "      <td>0.890696</td>\n",
       "      <td>0.542110</td>\n",
       "    </tr>\n",
       "    <tr>\n",
       "      <th>max</th>\n",
       "      <td>1.000000</td>\n",
       "      <td>1.000000</td>\n",
       "      <td>1.000000</td>\n",
       "      <td>1.000000</td>\n",
       "    </tr>\n",
       "  </tbody>\n",
       "</table>\n",
       "</div>"
      ],
      "text/plain": [
       "       LV ActivePower (kW)  Wind Speed (m/s)  Theoretical_Power_Curve (KWh)  \\\n",
       "count         30839.000000      30839.000000                   30839.000000   \n",
       "mean              0.441765          0.350156                       0.487984   \n",
       "std               0.343519          0.219423                       0.361764   \n",
       "min               0.000000          0.000000                       0.000000   \n",
       "25%               0.122802          0.176567                       0.148077   \n",
       "50%               0.361381          0.315245                       0.410467   \n",
       "75%               0.764593          0.501181                       0.890696   \n",
       "max               1.000000          1.000000                       1.000000   \n",
       "\n",
       "       Wind Direction (°)  \n",
       "count        30839.000000  \n",
       "mean             0.306365  \n",
       "std              0.238097  \n",
       "min              0.000000  \n",
       "25%              0.131684  \n",
       "50%              0.185856  \n",
       "75%              0.542110  \n",
       "max              1.000000  "
      ]
     },
     "execution_count": 76,
     "metadata": {},
     "output_type": "execute_result"
    }
   ],
   "source": [
    "dfn = train_data.copy()\n",
    "\n",
    "i = ['LV ActivePower (kW)', 'Theoretical_Power_Curve (KWh)' ,'Wind Speed (m/s)', 'Wind Direction (°)']\n",
    "for j in i:\n",
    "    a = dfn[j].max()\n",
    "    b = dfn[j].min()\n",
    "    dfn[j] = (dfn[j]-b)/(a-b)\n",
    "    \n",
    "dfn.describe()"
   ]
  },
  {
   "cell_type": "markdown",
   "metadata": {},
   "source": [
    "#### 3.5 definindo features e targets"
   ]
  },
  {
   "cell_type": "code",
   "execution_count": 92,
   "metadata": {},
   "outputs": [
    {
     "name": "stdout",
     "output_type": "stream",
     "text": [
      "(30839, 2)\n",
      "(30839,)\n"
     ]
    }
   ],
   "source": [
    "import numpy as np\n",
    "\n",
    "features_train, targets_train = dfn[['Wind Speed (m/s)',\"Wind Direction (°)\"]], dfn['LV ActivePower (kW)']\n",
    "\n",
    "# transformando em arrays\n",
    "\n",
    "features_train = np.array(features_train)\n",
    "targets_train = np.array(targets_train)\n",
    "\n",
    "print(features_train.shape)\n",
    "print(targets_train.shape)"
   ]
  },
  {
   "cell_type": "markdown",
   "metadata": {},
   "source": [
    "### 4. Seleção do modelo"
   ]
  },
  {
   "attachments": {
    "image.png": {
     "image/png": "[encoded data removed]"
    }
   },
   "cell_type": "markdown",
   "metadata": {},
   "source": [
    "O modelo proposto em Schlechtingen e Santos (2011) é uma rede neural do tipo feedforward com 5 neurons na hidden layer, como mostrado na figura a seguir:\n",
    "\n",
    "![image.png](attachment:image.png)\n",
    "\n",
    "Os sinais de input, para o caso específico dessa simulação, serão Velocidade do Vento (Wind Speed) e Direção (Wind Direction), e a saída será a Potência de Saída (Power Output).\n",
    "\n",
    "A função de ativação será a função Sigmoide.\n",
    "\n",
    "Método de treinamento: Gradiente descendente com momento.\n",
    "\n",
    "Pesos iniciados aleatóriamente.\n",
    "\n"
   ]
  },
  {
   "cell_type": "code",
   "execution_count": 94,
   "metadata": {},
   "outputs": [],
   "source": [
    "# Importando keras\n",
    "\n",
    "from keras.models import Sequential\n",
    "from keras.layers import Dense"
   ]
  },
  {
   "cell_type": "code",
   "execution_count": 97,
   "metadata": {},
   "outputs": [],
   "source": [
    "# definindo o modelo keras\n",
    "\n",
    "model = Sequential()\n",
    "model.add(Dense(5, input_dim = 2, activation = 'sigmoid'))\n",
    "model.add(Dense(1, activation = 'linear'))"
   ]
  },
  {
   "cell_type": "code",
   "execution_count": 100,
   "metadata": {},
   "outputs": [],
   "source": [
    "# compilando o modelo keras\n",
    "\n",
    "model.compile(loss='mean_squared_error', optimizer = 'adam')"
   ]
  },
  {
   "cell_type": "markdown",
   "metadata": {},
   "source": [
    "### 5. Treinando a rede neural"
   ]
  },
  {
   "cell_type": "code",
   "execution_count": null,
   "metadata": {},
   "outputs": [
    {
     "name": "stdout",
     "output_type": "stream",
     "text": [
      "Epoch 1/30839\n",
      "30839/30839 [==============================] - 23s 737us/step - loss: 0.0114\n",
      "Epoch 2/30839\n",
      "30839/30839 [==============================] - 22s 728us/step - loss: 0.0089\n",
      "Epoch 3/30839\n",
      "30839/30839 [==============================] - 22s 724us/step - loss: 0.0084\n",
      "Epoch 4/30839\n",
      "30839/30839 [==============================] - 22s 723us/step - loss: 0.0077\n",
      "Epoch 5/30839\n",
      "14887/30839 [=============>................] - ETA: 11s - loss: 0.0071"
     ]
    }
   ],
   "source": [
    "# fitting the model\n",
    "\n",
    "X= features_train\n",
    "y= targets_train\n",
    "\n",
    "model.fit(X, y, epochs = len(features_train), batch_size = 1)"
   ]
  },
  {
   "cell_type": "code",
   "execution_count": null,
   "metadata": {},
   "outputs": [],
   "source": []
  },
  {
   "cell_type": "code",
   "execution_count": null,
   "metadata": {},
   "outputs": [],
   "source": []
  },
  {
   "cell_type": "code",
   "execution_count": null,
   "metadata": {},
   "outputs": [],
   "source": []
  },
  {
   "cell_type": "code",
   "execution_count": null,
   "metadata": {},
   "outputs": [],
   "source": []
  },
  {
   "cell_type": "code",
   "execution_count": null,
   "metadata": {},
   "outputs": [],
   "source": []
  },
  {
   "cell_type": "code",
   "execution_count": null,
   "metadata": {},
   "outputs": [],
   "source": []
  },
  {
   "cell_type": "code",
   "execution_count": null,
   "metadata": {},
   "outputs": [],
   "source": []
  },
  {
   "cell_type": "markdown",
   "metadata": {},
   "source": [
    "No quadro acima pode-se ver que a potência de saída tem uma correlação forte com a velocidade do vento, mas pequena em relação a direção do vento. Dessa forma, o modelo que leva em consideração a direção do vento não deve ter bons resultados. Dessa forma, vamos transformar a direção do vento em uma variável categórica. Essa variável será adicionada a rede neural mais adiante para testar seu desempenho com, e sem o one hot encoding."
   ]
  },
  {
   "cell_type": "code",
   "execution_count": 70,
   "metadata": {},
   "outputs": [
    {
     "ename": "KeyError",
     "evalue": "382",
     "output_type": "error",
     "traceback": [
      "\u001b[1;31m---------------------------------------------------------------------------\u001b[0m",
      "\u001b[1;31mKeyError\u001b[0m                                  Traceback (most recent call last)",
      "\u001b[1;32m<ipython-input-70-15e6f9037efe>\u001b[0m in \u001b[0;36m<module>\u001b[1;34m\u001b[0m\n\u001b[0;32m      2\u001b[0m \u001b[1;33m\u001b[0m\u001b[0m\n\u001b[0;32m      3\u001b[0m \u001b[1;32mfor\u001b[0m \u001b[0mi\u001b[0m \u001b[1;32min\u001b[0m \u001b[0mrange\u001b[0m\u001b[1;33m(\u001b[0m\u001b[0mlen\u001b[0m\u001b[1;33m(\u001b[0m\u001b[0mwd\u001b[0m\u001b[1;33m)\u001b[0m\u001b[1;33m)\u001b[0m\u001b[1;33m:\u001b[0m\u001b[1;33m\u001b[0m\u001b[1;33m\u001b[0m\u001b[0m\n\u001b[1;32m----> 4\u001b[1;33m     \u001b[1;32mif\u001b[0m \u001b[0mwd\u001b[0m\u001b[1;33m[\u001b[0m\u001b[0mi\u001b[0m\u001b[1;33m]\u001b[0m \u001b[1;33m<=\u001b[0m \u001b[1;36m90\u001b[0m\u001b[1;33m:\u001b[0m\u001b[1;33m\u001b[0m\u001b[1;33m\u001b[0m\u001b[0m\n\u001b[0m\u001b[0;32m      5\u001b[0m         \u001b[0mwd\u001b[0m\u001b[1;33m[\u001b[0m\u001b[0mi\u001b[0m\u001b[1;33m]\u001b[0m \u001b[1;33m=\u001b[0m \u001b[1;36m1\u001b[0m\u001b[1;33m\u001b[0m\u001b[1;33m\u001b[0m\u001b[0m\n\u001b[0;32m      6\u001b[0m     \u001b[1;32melif\u001b[0m \u001b[1;36m90\u001b[0m \u001b[1;33m<\u001b[0m \u001b[0mwd\u001b[0m\u001b[1;33m[\u001b[0m\u001b[0mi\u001b[0m\u001b[1;33m]\u001b[0m \u001b[1;33m<=\u001b[0m \u001b[1;36m180\u001b[0m\u001b[1;33m:\u001b[0m\u001b[1;33m\u001b[0m\u001b[1;33m\u001b[0m\u001b[0m\n",
      "\u001b[1;32m~\\Anaconda3\\lib\\site-packages\\pandas\\core\\series.py\u001b[0m in \u001b[0;36m__getitem__\u001b[1;34m(self, key)\u001b[0m\n\u001b[0;32m   1062\u001b[0m         \u001b[0mkey\u001b[0m \u001b[1;33m=\u001b[0m \u001b[0mcom\u001b[0m\u001b[1;33m.\u001b[0m\u001b[0mapply_if_callable\u001b[0m\u001b[1;33m(\u001b[0m\u001b[0mkey\u001b[0m\u001b[1;33m,\u001b[0m \u001b[0mself\u001b[0m\u001b[1;33m)\u001b[0m\u001b[1;33m\u001b[0m\u001b[1;33m\u001b[0m\u001b[0m\n\u001b[0;32m   1063\u001b[0m         \u001b[1;32mtry\u001b[0m\u001b[1;33m:\u001b[0m\u001b[1;33m\u001b[0m\u001b[1;33m\u001b[0m\u001b[0m\n\u001b[1;32m-> 1064\u001b[1;33m             \u001b[0mresult\u001b[0m \u001b[1;33m=\u001b[0m \u001b[0mself\u001b[0m\u001b[1;33m.\u001b[0m\u001b[0mindex\u001b[0m\u001b[1;33m.\u001b[0m\u001b[0mget_value\u001b[0m\u001b[1;33m(\u001b[0m\u001b[0mself\u001b[0m\u001b[1;33m,\u001b[0m \u001b[0mkey\u001b[0m\u001b[1;33m)\u001b[0m\u001b[1;33m\u001b[0m\u001b[1;33m\u001b[0m\u001b[0m\n\u001b[0m\u001b[0;32m   1065\u001b[0m \u001b[1;33m\u001b[0m\u001b[0m\n\u001b[0;32m   1066\u001b[0m             \u001b[1;32mif\u001b[0m \u001b[1;32mnot\u001b[0m \u001b[0mis_scalar\u001b[0m\u001b[1;33m(\u001b[0m\u001b[0mresult\u001b[0m\u001b[1;33m)\u001b[0m\u001b[1;33m:\u001b[0m\u001b[1;33m\u001b[0m\u001b[1;33m\u001b[0m\u001b[0m\n",
      "\u001b[1;32m~\\Anaconda3\\lib\\site-packages\\pandas\\core\\indexes\\base.py\u001b[0m in \u001b[0;36mget_value\u001b[1;34m(self, series, key)\u001b[0m\n\u001b[0;32m   4721\u001b[0m         \u001b[0mk\u001b[0m \u001b[1;33m=\u001b[0m \u001b[0mself\u001b[0m\u001b[1;33m.\u001b[0m\u001b[0m_convert_scalar_indexer\u001b[0m\u001b[1;33m(\u001b[0m\u001b[0mk\u001b[0m\u001b[1;33m,\u001b[0m \u001b[0mkind\u001b[0m\u001b[1;33m=\u001b[0m\u001b[1;34m\"getitem\"\u001b[0m\u001b[1;33m)\u001b[0m\u001b[1;33m\u001b[0m\u001b[1;33m\u001b[0m\u001b[0m\n\u001b[0;32m   4722\u001b[0m         \u001b[1;32mtry\u001b[0m\u001b[1;33m:\u001b[0m\u001b[1;33m\u001b[0m\u001b[1;33m\u001b[0m\u001b[0m\n\u001b[1;32m-> 4723\u001b[1;33m             \u001b[1;32mreturn\u001b[0m \u001b[0mself\u001b[0m\u001b[1;33m.\u001b[0m\u001b[0m_engine\u001b[0m\u001b[1;33m.\u001b[0m\u001b[0mget_value\u001b[0m\u001b[1;33m(\u001b[0m\u001b[0ms\u001b[0m\u001b[1;33m,\u001b[0m \u001b[0mk\u001b[0m\u001b[1;33m,\u001b[0m \u001b[0mtz\u001b[0m\u001b[1;33m=\u001b[0m\u001b[0mgetattr\u001b[0m\u001b[1;33m(\u001b[0m\u001b[0mseries\u001b[0m\u001b[1;33m.\u001b[0m\u001b[0mdtype\u001b[0m\u001b[1;33m,\u001b[0m \u001b[1;34m\"tz\"\u001b[0m\u001b[1;33m,\u001b[0m \u001b[1;32mNone\u001b[0m\u001b[1;33m)\u001b[0m\u001b[1;33m)\u001b[0m\u001b[1;33m\u001b[0m\u001b[1;33m\u001b[0m\u001b[0m\n\u001b[0m\u001b[0;32m   4724\u001b[0m         \u001b[1;32mexcept\u001b[0m \u001b[0mKeyError\u001b[0m \u001b[1;32mas\u001b[0m \u001b[0me1\u001b[0m\u001b[1;33m:\u001b[0m\u001b[1;33m\u001b[0m\u001b[1;33m\u001b[0m\u001b[0m\n\u001b[0;32m   4725\u001b[0m             \u001b[1;32mif\u001b[0m \u001b[0mlen\u001b[0m\u001b[1;33m(\u001b[0m\u001b[0mself\u001b[0m\u001b[1;33m)\u001b[0m \u001b[1;33m>\u001b[0m \u001b[1;36m0\u001b[0m \u001b[1;32mand\u001b[0m \u001b[1;33m(\u001b[0m\u001b[0mself\u001b[0m\u001b[1;33m.\u001b[0m\u001b[0mholds_integer\u001b[0m\u001b[1;33m(\u001b[0m\u001b[1;33m)\u001b[0m \u001b[1;32mor\u001b[0m \u001b[0mself\u001b[0m\u001b[1;33m.\u001b[0m\u001b[0mis_boolean\u001b[0m\u001b[1;33m(\u001b[0m\u001b[1;33m)\u001b[0m\u001b[1;33m)\u001b[0m\u001b[1;33m:\u001b[0m\u001b[1;33m\u001b[0m\u001b[1;33m\u001b[0m\u001b[0m\n",
      "\u001b[1;32mpandas\\_libs\\index.pyx\u001b[0m in \u001b[0;36mpandas._libs.index.IndexEngine.get_value\u001b[1;34m()\u001b[0m\n",
      "\u001b[1;32mpandas\\_libs\\index.pyx\u001b[0m in \u001b[0;36mpandas._libs.index.IndexEngine.get_value\u001b[1;34m()\u001b[0m\n",
      "\u001b[1;32mpandas\\_libs\\index.pyx\u001b[0m in \u001b[0;36mpandas._libs.index.IndexEngine.get_loc\u001b[1;34m()\u001b[0m\n",
      "\u001b[1;32mpandas\\_libs\\hashtable_class_helper.pxi\u001b[0m in \u001b[0;36mpandas._libs.hashtable.Int64HashTable.get_item\u001b[1;34m()\u001b[0m\n",
      "\u001b[1;32mpandas\\_libs\\hashtable_class_helper.pxi\u001b[0m in \u001b[0;36mpandas._libs.hashtable.Int64HashTable.get_item\u001b[1;34m()\u001b[0m\n",
      "\u001b[1;31mKeyError\u001b[0m: 382"
     ]
    }
   ],
   "source": [
    "wd = df['Wind Direction (°)'].copy()\n",
    "\n",
    "for i in range(len(wd)):\n",
    "    if wd[i] <= 90:\n",
    "        wd[i] = 1\n",
    "    elif 90 < wd[i] <= 180:\n",
    "        wd[i] = 2\n",
    "    elif 180 < wd[i] <= 270:\n",
    "        wd[i] = 3\n",
    "    else:\n",
    "        wd[i] = 4"
   ]
  },
  {
   "cell_type": "code",
   "execution_count": 50,
   "metadata": {},
   "outputs": [
    {
     "data": {
      "text/html": [
       "<div>\n",
       "<style scoped>\n",
       "    .dataframe tbody tr th:only-of-type {\n",
       "        vertical-align: middle;\n",
       "    }\n",
       "\n",
       "    .dataframe tbody tr th {\n",
       "        vertical-align: top;\n",
       "    }\n",
       "\n",
       "    .dataframe thead th {\n",
       "        text-align: right;\n",
       "    }\n",
       "</style>\n",
       "<table border=\"1\" class=\"dataframe\">\n",
       "  <thead>\n",
       "    <tr style=\"text-align: right;\">\n",
       "      <th></th>\n",
       "      <th>1.0</th>\n",
       "      <th>2.0</th>\n",
       "      <th>3.0</th>\n",
       "      <th>4.0</th>\n",
       "    </tr>\n",
       "  </thead>\n",
       "  <tbody>\n",
       "    <tr>\n",
       "      <th>0</th>\n",
       "      <td>0</td>\n",
       "      <td>0</td>\n",
       "      <td>1</td>\n",
       "      <td>0</td>\n",
       "    </tr>\n",
       "    <tr>\n",
       "      <th>1</th>\n",
       "      <td>0</td>\n",
       "      <td>0</td>\n",
       "      <td>1</td>\n",
       "      <td>0</td>\n",
       "    </tr>\n",
       "    <tr>\n",
       "      <th>2</th>\n",
       "      <td>0</td>\n",
       "      <td>0</td>\n",
       "      <td>0</td>\n",
       "      <td>1</td>\n",
       "    </tr>\n",
       "    <tr>\n",
       "      <th>3</th>\n",
       "      <td>0</td>\n",
       "      <td>0</td>\n",
       "      <td>0</td>\n",
       "      <td>1</td>\n",
       "    </tr>\n",
       "    <tr>\n",
       "      <th>4</th>\n",
       "      <td>0</td>\n",
       "      <td>0</td>\n",
       "      <td>1</td>\n",
       "      <td>0</td>\n",
       "    </tr>\n",
       "  </tbody>\n",
       "</table>\n",
       "</div>"
      ],
      "text/plain": [
       "   1.0  2.0  3.0  4.0\n",
       "0    0    0    1    0\n",
       "1    0    0    1    0\n",
       "2    0    0    0    1\n",
       "3    0    0    0    1\n",
       "4    0    0    1    0"
      ]
     },
     "execution_count": 50,
     "metadata": {},
     "output_type": "execute_result"
    }
   ],
   "source": [
    "#utilizando one hot encoding\n",
    "wd_dummies = pd.get_dummies(wd)\n",
    "wd_dummies.head()"
   ]
  },
  {
   "cell_type": "code",
   "execution_count": null,
   "metadata": {},
   "outputs": [],
   "source": []
  }
 ],
 "metadata": {
  "kernelspec": {
   "display_name": "Python 3",
   "language": "python",
   "name": "python3"
  },
  "language_info": {
   "codemirror_mode": {
    "name": "ipython",
    "version": 3
   },
   "file_extension": ".py",
   "mimetype": "text/x-python",
   "name": "python",
   "nbconvert_exporter": "python",
   "pygments_lexer": "ipython3",
   "version": "3.7.1"
  }
 },
 "nbformat": 4,
 "nbformat_minor": 2
}
